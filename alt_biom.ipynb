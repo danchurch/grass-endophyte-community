{
 "cells": [
  {
   "cell_type": "markdown",
   "metadata": {
    "collapsed": true
   },
   "source": [
    "This notebook will be an attempt to mirror some of the changes that Dan went through after talking with the creator of uclust.  in particular, I will be using the uclust merging algorithym and a more stringent quality filter.  Essentially, the uclust merger acts to decrease the creation of false OTUs.  It does this by giving weight to the higher of the two reads(foreward vs reverse) when determining a base pair.  If there is aggreement, the quality score goes up-if not, the higher quality read has extra weight, but the final quality score is lower.  I think I can start with my already compled grass foreward and reverse fastq files (grassR1.fastq and grassR2.fastq)"
   ]
  },
  {
   "cell_type": "code",
   "execution_count": 1,
   "metadata": {},
   "outputs": [
    {
     "name": "stdout",
     "output_type": "stream",
     "text": [
      "/Users/grahambailes/grass_endophyte_community\n"
     ]
    }
   ],
   "source": [
    "pwd"
   ]
  },
  {
   "cell_type": "code",
   "execution_count": 2,
   "metadata": {},
   "outputs": [
    {
     "name": "stdout",
     "output_type": "stream",
     "text": []
    }
   ],
   "source": [
    "mkdir alt_biom"
   ]
  },
  {
   "cell_type": "code",
   "execution_count": 5,
   "metadata": {},
   "outputs": [
    {
     "name": "stdout",
     "output_type": "stream",
     "text": []
    }
   ],
   "source": [
    "cp ./grass_biom/grassR1.fastq ./alt_biom\n",
    "cp ./grass_biom/grassR2.fastq ./alt_biom"
   ]
  },
  {
   "cell_type": "code",
   "execution_count": 2,
   "metadata": {},
   "outputs": [
    {
     "name": "stdout",
     "output_type": "stream",
     "text": [
      "/Users/grahambailes/grass_endophyte_community/alt_biom\n"
     ]
    }
   ],
   "source": [
    "cd ./alt_biom\n",
    "pwd"
   ]
  },
  {
   "cell_type": "markdown",
   "metadata": {},
   "source": [
    "## in ACISS\n",
    "##trim reads at same length as the original iteration of the biom table.  this is done with the FASTX_toolkit\n",
    "fastx_trimmer -l 255 -i grassR1.fastq grassR1_short.fastq\n",
    "fastx_trimmer -l 220 -i grassR2.fastq grassR2_short.fastq"
   ]
  },
  {
   "cell_type": "markdown",
   "metadata": {},
   "source": [
    "# merge pairs"
   ]
  },
  {
   "cell_type": "markdown",
   "metadata": {},
   "source": [
    "At this point, I'll be using the usearch algorithm to do the merging.\n",
    "The command fastq_mergepairs takes a foreward and reverse file and returns a merged fastq file.  the notrunclables option keeps lables.  For our run, "
   ]
  },
  {
   "cell_type": "code",
   "execution_count": null,
   "metadata": {
    "collapsed": true
   },
   "outputs": [],
   "source": [
    "##again in aciss - I've made a directory \n",
    "mkdir alt_biom\n",
    "cd alt_biom\n",
    "usearch -fastq_mergepairs /home11/gbailes/endophyte_community/grassR1_short.fastq -reverse /home11/gbailes/endophyte_community/grassR2_short.fastq -fastqout grass_trimmed_merged.fastq -notrunclabels -report   \n"
   ]
  },
  {
   "cell_type": "markdown",
   "metadata": {},
   "source": [
    "### merge pairs output\n",
    "\n",
    "usearch v8.1.1803_i86linux64, 74.2Gb RAM, 12 cores\n",
    "(C) Copyright 2013-15 Robert C. Edgar, all rights reserved.\n",
    "http://drive5.com/usearch\n",
    "\n",
    "Licensed to: ronh@molbio.uoregon.edu\n",
    "\n",
    "04:40 925Mb  100.0% 97.3% merged \n",
    "  11033436  Pairs (11.0M)   \n",
    "  \n",
    "  10735444  Merged (10.7M, 97.30%)\n",
    " \n",
    " 5462314  Alignments with zero diffs (49.51%)\n",
    " \n",
    " 1795  Fwd tails Q <= 2 trimmed (0.02%)\n",
    " \n",
    " 3099  Rev tails Q <= 2 trimmed (0.03%)\n",
    " \n",
    " 297992  No alignment found (2.70%)\n",
    " \n",
    " 0  Alignment too short (< 16) (0.00%)\n",
    " \n",
    " 8141236  Staggered pairs (73.79%) merged & trimmed\n",
    " \n",
    " 209.71  Mean alignment length\n",
    " \n",
    " 244.01  Mean merged read length\n",
    " \n",
    " 2.00  Mean fwd expected errors\n",
    " \n",
    " 1.77  Mean rev expected errors\n",
    " \n",
    " 1.12  Mean merged expected errors"
   ]
  },
  {
   "cell_type": "code",
   "execution_count": null,
   "metadata": {
    "collapsed": true
   },
   "outputs": [],
   "source": [
    "fastx_quality_stats -Q33 -i grass_trimmed_merged.fastq -o grass_trimmed_merged_quality.txt\n",
    "#(ACISS has older version of fastx as of time of writing, so we in \"-Q33\" flag to\n",
    "#tell fastx that we are dealing with Sanger-type quality encoding, or \"Phred+33\")"
   ]
  },
  {
   "cell_type": "code",
   "execution_count": 3,
   "metadata": {},
   "outputs": [
    {
     "name": "stdout",
     "output_type": "stream",
     "text": [
      "bash: ./quality_plot.sh: No such file or directory\n"
     ]
    },
    {
     "ename": "",
     "evalue": "127",
     "output_type": "error",
     "traceback": []
    }
   ],
   "source": [
    "./quality_plot.sh -i grass_trimmed_merged_quality.txt -o grass_trimmed_merged_quality.png"
   ]
  },
  {
   "cell_type": "markdown",
   "metadata": {},
   "source": [
    "![merged quality](/notebooks/grass_endophyte_community/alt_biom/grass_trimmed_merged_quality.png \"ShowMyImage\")"
   ]
  },
  {
   "cell_type": "markdown",
   "metadata": {},
   "source": [
    "# Usearch quality filter\n",
    "\n",
    "the usearch pipeline further suggests quality filtering of reads.  I defer to Dan's knowledge on using this command.  Looks like he used expected error approach. We can set error cutoff of 1% of all bases in a read, meaning that a read of length 400 bp is thrown out if it likely contains 4 or more erroneous bases. I think this is permissable, given our OTU clustering will ultimately be done at 95% similarity.\n",
    "\n",
    "http://drive5.com/usearch/manual/exp_errs.html"
   ]
  },
  {
   "cell_type": "code",
   "execution_count": null,
   "metadata": {
    "collapsed": true
   },
   "outputs": [],
   "source": [
    "usearch -fastq_filter grass_trimmed_merged.fastq -fastq_maxee_rate .01 -fastqout grass_filtered.fastq -notrunclabels"
   ]
  },
  {
   "cell_type": "markdown",
   "metadata": {},
   "source": [
    "usearch v8.1.1861_i86linux64, 74.2Gb RAM, 12 cores\n",
    "(C) Copyright 2013-15 Robert C. Edgar, all rights reserved.\n",
    "http://drive5.com/usearch\n",
    "\n",
    "Licensed to: ronh@molbio.uoregon.edu\n",
    "\n",
    "01:11 857Mb  100.0% Filtering, 88.4% passed\n",
    "  10735444  FASTQ recs (10.7M)             \n",
    "   9485630  Converted (9.5M, 88.4%)\n",
    "   \n",
    "looks like about 11.6% of my reads were filtered out.   "
   ]
  },
  {
   "cell_type": "markdown",
   "metadata": {},
   "source": [
    "## convert from fastq to fasta"
   ]
  },
  {
   "cell_type": "code",
   "execution_count": null,
   "metadata": {
    "collapsed": true
   },
   "outputs": [],
   "source": [
    "#use fastx_toolkit to convert to fasta\n",
    "fastq_to_fasta -n -Q33 -i grass_filtered.fastq -o  grass.fasta\n",
    "\n",
    "# -n keep sequences with unknown (N) nucleotides, -Q33 "
   ]
  },
  {
   "cell_type": "markdown",
   "metadata": {},
   "source": [
    "## floating primers\n",
    "sequences may often include multiple primer occurances, sometimes sprinkled within the sequence.  these should be removed according to http://onlinelibrary.wiley.com/doi/10.1002/ece3.1107/epdf (balint et al. 2014)\n"
   ]
  },
  {
   "cell_type": "code",
   "execution_count": null,
   "metadata": {
    "collapsed": true
   },
   "outputs": [],
   "source": [
    "#check for floating primers\n",
    "grep CTTGGTCATTTAGAGGAAGTAA grass.fasta | wc -l #forward (ITS1)\n",
    "grep GCTGCGTTCTTCATCGATGC grass.fasta | wc -l #reverse (ITS2)\n",
    "# 43, 28"
   ]
  },
  {
   "cell_type": "code",
   "execution_count": null,
   "metadata": {
    "collapsed": true
   },
   "outputs": [],
   "source": [
    "#using a python script that dan wrote to remove primer sequences from the read files\n",
    "./floatingprimers.py  grass_paired_clipped.fasta  grass_paired_clipped_defloat.fasta CTTGGTCATTTAGAGGAAGTAA GCTGCGTTCTTCATCGATGC \n"
   ]
  },
  {
   "cell_type": "code",
   "execution_count": null,
   "metadata": {
    "collapsed": true
   },
   "outputs": [],
   "source": [
    "#To count reads in these we need to grep the sequence identifier line, \n",
    "#instead of just using the 'wc -l' command:\n",
    "grep '\\<M' grass.fasta | wc -l\n",
    "grep '\\<M' grass_defloat.fasta | wc -l"
   ]
  },
  {
   "cell_type": "markdown",
   "metadata": {
    "collapsed": true
   },
   "source": [
    "grass.fasta: 9485630\n",
    "\n",
    "grass_defloat.fasta: 9485318\n",
    "\n",
    "312 reads removed (0.003%) for the presence of floating primer relics"
   ]
  },
  {
   "cell_type": "markdown",
   "metadata": {},
   "source": [
    "## chimera checking\n",
    "\n",
    "We'll use the uchime algorithm, another step in the uparse/usearch pipeline. This is actually just the first of two checks for chimeras, the other being part of the otu clustering.  I've already downloaded an iteration of the uchime reference\n"
   ]
  },
  {
   "cell_type": "code",
   "execution_count": null,
   "metadata": {
    "collapsed": true
   },
   "outputs": [],
   "source": [
    "usearch -uchime_ref grass_defloat.fasta -db /home11/gbailes/alt_biom/uchime_sh_refs_dynamic_develop_985_01.01.2016.ITS1.fasta -nonchimeras grass_notchim.fasta -strand plus -uchimeout grass_chim_log.txt -notrunclabels\n"
   ]
  },
  {
   "cell_type": "markdown",
   "metadata": {},
   "source": [
    "grass_defloat.fasta: 9485318\n",
    "\n",
    "grass_notchim.fasta: 9432696\n",
    "\n",
    "52,622 reads removed (~0.5% of reads)"
   ]
  },
  {
   "cell_type": "markdown",
   "metadata": {},
   "source": [
    "## creating simple lables\n",
    "\n",
    "using the sed command, I'll relable the reads to have a simple identifier.  I'll also include a file which connects the new lables to the original sample names (grass_illumina_lables.csv)"
   ]
  },
  {
   "cell_type": "code",
   "execution_count": null,
   "metadata": {
    "collapsed": true
   },
   "outputs": [],
   "source": [
    "sed s/^\\>.*[0-9]\\ //g grass_notchim.fasta | sed s/1:[YN]:0:/\\>/g | sed '/^>/ s/$/grass/g' > grass_relab.fasta"
   ]
  },
  {
   "cell_type": "markdown",
   "metadata": {
    "collapsed": true
   },
   "source": [
    "## trimming reads to ITS1"
   ]
  },
  {
   "cell_type": "markdown",
   "metadata": {},
   "source": [
    "apparently, inorder to best cluster otus, you first need to trim out any highly-conserved regions of the ITS (i.e. the SSU and 5.8 regions)  "
   ]
  },
  {
   "cell_type": "code",
   "execution_count": null,
   "metadata": {
    "collapsed": true
   },
   "outputs": [],
   "source": [
    "./fasta_remove_linebreaks.py grass_relab.fasta grass_relab_nolb.fasta ## remove linebreaks from fasta files\n",
    "./subset_fasta.py grass_relab_nolb.fasta 100 grass_sub.fasta ## subset reads to examine proportion of ssu and 5.8 regions\n",
    " ./ITSx -i grass_sub.fasta -o grass_sub --reset T -- allow_single_domain -t F \n",
    " \n",
    "# ITSx -- Identifies ITS sequences and extracts the ITS region\n",
    "#by Johan Bengtsson-Palme et al., University of Gothenburg\n",
    "#Version: 1.0.11\n",
    "#-----------------------------------------------------------------\n",
    "#Sat Dec 10 15:13:01 2016 : Preparing HMM database (should be quick)...\n",
    "#Sat Dec 10 15:13:01 2016 : Checking and handling input sequence data (should not take long)...\n",
    "#Sat Dec 10 15:13:01 2016 : Comparing sequences to HMM database (this may take a long while)...\n",
    "#    Sat Dec 10 15:13:06 2016 : Fungi analysis of main strand finished.\n",
    "#    Sat Dec 10 15:13:11 2016 : Fungi analysis of complementary strand finished.\n",
    "#Sat Dec 10 15:13:11 2016 : Analysing results of HMM-scan (this might take quite some time)...\n",
    "#Sat Dec 10 15:13:11 2016 : Extraction finished!\n",
    "##-----------------------------------------------------------------\n",
    "#Thank you for using ITSx!\n",
    "#Please report bugs or unsupported lineages to itsx@microbiology.se"
   ]
  },
  {
   "cell_type": "code",
   "execution_count": 6,
   "metadata": {},
   "outputs": [
    {
     "name": "stdout",
     "output_type": "stream",
     "text": [
      "5grass\t295 bp.\tSSU: 1-46\tITS1: 47-265\t5.8S: No end\tITS2: Not found\tLSU: Not found\tBroken or partial sequence, only partial 5.8S! \r\n",
      "7grass\t229 bp.\tSSU: 1-46\tITS1: 47-199\t5.8S: No end\tITS2: Not found\tLSU: Not found\tBroken or partial sequence, only partial 5.8S! \r\n",
      "8grass\t270 bp.\tSSU: 1-46\tITS1: 47-240\t5.8S: No end\tITS2: Not found\tLSU: Not found\tBroken or partial sequence, only partial 5.8S! \r\n",
      "12grass\t285 bp.\tSSU: 1-46\tITS1: 47-255\t5.8S: No end\tITS2: Not found\tLSU: Not found\tBroken or partial sequence, only partial 5.8S! \r\n",
      "17grass\t254 bp.\tSSU: 1-46\tITS1: 47-224\t5.8S: No end\tITS2: Not found\tLSU: Not found\tBroken or partial sequence, only partial 5.8S! \r\n",
      "18grass\t229 bp.\tSSU: 1-46\tITS1: 47-199\t5.8S: No end\tITS2: Not found\tLSU: Not found\tBroken or partial sequence, only partial 5.8S! \r\n",
      "20grass\t217 bp.\tSSU: 1-46\tITS1: 47-187\t5.8S: No end\tITS2: Not found\tLSU: Not found\tBroken or partial sequence, only partial 5.8S! \r\n",
      "24grass\t225 bp.\tSSU: 1-46\tITS1: 47-195\t5.8S: No end\tITS2: Not found\tLSU: Not found\tBroken or partial sequence, only partial 5.8S! \r\n",
      "26grass\t229 bp.\tSSU: 1-46\tITS1: 47-199\t5.8S: No end\tITS2: Not found\tLSU: Not found\tBroken or partial sequence, only partial 5.8S! \r\n",
      "29grass\t261 bp.\tSSU: 1-46\tITS1: 47-231\t5.8S: No end\tITS2: Not found\tLSU: Not found\tBroken or partial sequence, only partial 5.8S! \r\n",
      "30grass\t230 bp.\tSSU: 1-46\tITS1: 47-200\t5.8S: No end\tITS2: Not found\tLSU: Not found\tBroken or partial sequence, only partial 5.8S! \r\n",
      "32grass\t230 bp.\tSSU: 1-46\tITS1: 47-200\t5.8S: No end\tITS2: Not found\tLSU: Not found\tBroken or partial sequence, only partial 5.8S! \r\n",
      "33grass\t230 bp.\tSSU: 1-46\tITS1: 47-200\t5.8S: No end\tITS2: Not found\tLSU: Not found\tBroken or partial sequence, only partial 5.8S! \r\n",
      "36grass\t254 bp.\tSSU: 1-46\tITS1: 47-224\t5.8S: No end\tITS2: Not found\tLSU: Not found\tBroken or partial sequence, only partial 5.8S! \r\n",
      "37grass\t231 bp.\tSSU: 1-46\tITS1: 47-201\t5.8S: No end\tITS2: Not found\tLSU: Not found\tBroken or partial sequence, only partial 5.8S! \r\n",
      "38grass\t230 bp.\tSSU: 1-46\tITS1: 47-200\t5.8S: No end\tITS2: Not found\tLSU: Not found\tBroken or partial sequence, only partial 5.8S! \r\n",
      "39grass\t240 bp.\tSSU: 1-46\tITS1: 47-210\t5.8S: No end\tITS2: Not found\tLSU: Not found\tBroken or partial sequence, only partial 5.8S! \r\n",
      "40grass\t250 bp.\tSSU: 1-46\tITS1: 47-220\t5.8S: No end\tITS2: Not found\tLSU: Not found\tBroken or partial sequence, only partial 5.8S! \r\n",
      "41grass\t225 bp.\tSSU: 1-46\tITS1: 47-195\t5.8S: No end\tITS2: Not found\tLSU: Not found\tBroken or partial sequence, only partial 5.8S! \r\n",
      "43grass\t222 bp.\tSSU: 1-46\tITS1: 47-192\t5.8S: No end\tITS2: Not found\tLSU: Not found\tBroken or partial sequence, only partial 5.8S! \r\n",
      "45grass\t248 bp.\tSSU: 1-46\tITS1: 47-218\t5.8S: No end\tITS2: Not found\tLSU: Not found\tBroken or partial sequence, only partial 5.8S! \r\n",
      "49grass\t222 bp.\tSSU: 1-46\tITS1: 47-192\t5.8S: No end\tITS2: Not found\tLSU: Not found\tBroken or partial sequence, only partial 5.8S! \r\n",
      "53grass\t225 bp.\tSSU: 1-46\tITS1: 47-195\t5.8S: No end\tITS2: Not found\tLSU: Not found\tBroken or partial sequence, only partial 5.8S! \r\n",
      "55grass\t225 bp.\tSSU: 1-46\tITS1: 47-195\t5.8S: No end\tITS2: Not found\tLSU: Not found\tBroken or partial sequence, only partial 5.8S! \r\n",
      "56grass\t225 bp.\tSSU: 1-46\tITS1: 47-195\t5.8S: No end\tITS2: Not found\tLSU: Not found\tBroken or partial sequence, only partial 5.8S! \r\n",
      "57grass\t225 bp.\tSSU: 1-46\tITS1: 47-195\t5.8S: No end\tITS2: Not found\tLSU: Not found\tBroken or partial sequence, only partial 5.8S! \r\n",
      "58grass\t225 bp.\tSSU: 1-46\tITS1: 47-195\t5.8S: No end\tITS2: Not found\tLSU: Not found\tBroken or partial sequence, only partial 5.8S! \r\n",
      "60grass\t214 bp.\tSSU: 1-46\tITS1: 47-184\t5.8S: No end\tITS2: Not found\tLSU: Not found\tBroken or partial sequence, only partial 5.8S! \r\n",
      "61grass\t225 bp.\tSSU: 1-46\tITS1: 47-195\t5.8S: No end\tITS2: Not found\tLSU: Not found\tBroken or partial sequence, only partial 5.8S! \r\n",
      "65grass\t261 bp.\tSSU: 1-46\tITS1: 47-231\t5.8S: No end\tITS2: Not found\tLSU: Not found\tBroken or partial sequence, only partial 5.8S! \r\n",
      "69grass\t254 bp.\tSSU: 1-46\tITS1: 47-224\t5.8S: No end\tITS2: Not found\tLSU: Not found\tBroken or partial sequence, only partial 5.8S! \r\n",
      "70grass\t254 bp.\tSSU: 1-46\tITS1: 47-224\t5.8S: No end\tITS2: Not found\tLSU: Not found\tBroken or partial sequence, only partial 5.8S! \r\n",
      "73grass\t217 bp.\tSSU: 1-46\tITS1: 47-187\t5.8S: No end\tITS2: Not found\tLSU: Not found\tBroken or partial sequence, only partial 5.8S! \r\n",
      "74grass\t261 bp.\tSSU: 1-46\tITS1: 47-231\t5.8S: No end\tITS2: Not found\tLSU: Not found\tBroken or partial sequence, only partial 5.8S! \r\n",
      "79grass\t321 bp.\tSSU: 1-46\tITS1: 47-291\t5.8S: No end\tITS2: Not found\tLSU: Not found\tBroken or partial sequence, only partial 5.8S! \r\n",
      "81grass\t262 bp.\tSSU: 1-46\tITS1: 47-232\t5.8S: No end\tITS2: Not found\tLSU: Not found\tBroken or partial sequence, only partial 5.8S! \r\n",
      "85grass\t230 bp.\tSSU: 1-46\tITS1: 47-200\t5.8S: No end\tITS2: Not found\tLSU: Not found\tBroken or partial sequence, only partial 5.8S! \r\n",
      "86grass\t229 bp.\tSSU: 1-46\tITS1: 47-199\t5.8S: No end\tITS2: Not found\tLSU: Not found\tBroken or partial sequence, only partial 5.8S! \r\n",
      "97grass\t254 bp.\tSSU: 1-46\tITS1: 47-224\t5.8S: No end\tITS2: Not found\tLSU: Not found\tBroken or partial sequence, only partial 5.8S! \r\n",
      "98grass\t232 bp.\tSSU: 1-46\tITS1: 47-202\t5.8S: No end\tITS2: Not found\tLSU: Not found\tBroken or partial sequence, only partial 5.8S! \r\n",
      "100grass\t219 bp.\tSSU: 1-46\tITS1: 47-214\t5.8S: No end\tITS2: Not found\tLSU: Not found\tBroken or partial sequence, only partial 5.8S! \r\n",
      "101grass\t218 bp.\tSSU: 1-46\tITS1: 47-188\t5.8S: No end\tITS2: Not found\tLSU: Not found\tBroken or partial sequence, only partial 5.8S! \r\n",
      "106grass\t299 bp.\tSSU: 1-46\tITS1: 47-269\t5.8S: No end\tITS2: Not found\tLSU: Not found\tBroken or partial sequence, only partial 5.8S! \r\n",
      "109grass\t231 bp.\tSSU: 1-46\tITS1: 47-201\t5.8S: No end\tITS2: Not found\tLSU: Not found\tBroken or partial sequence, only partial 5.8S! \r\n",
      "110grass\t232 bp.\tSSU: 1-46\tITS1: 47-202\t5.8S: No end\tITS2: Not found\tLSU: Not found\tBroken or partial sequence, only partial 5.8S! \r\n",
      "111grass\t232 bp.\tSSU: 1-46\tITS1: 47-202\t5.8S: No end\tITS2: Not found\tLSU: Not found\tBroken or partial sequence, only partial 5.8S! \r\n",
      "112grass\t232 bp.\tSSU: 1-46\tITS1: 47-202\t5.8S: No end\tITS2: Not found\tLSU: Not found\tBroken or partial sequence, only partial 5.8S! \r\n",
      "113grass\t368 bp.\tSSU: 1-46\tITS1: 47-338\t5.8S: No end\tITS2: Not found\tLSU: Not found\tBroken or partial sequence, only partial 5.8S! \r\n",
      "114grass\t438 bp.\tSSU: 1-46\tITS1: 47-188\t5.8S: No end\tITS2: Not found\tLSU: Not found\tBroken or partial sequence, only partial 5.8S! \r\n",
      "115grass\t230 bp.\tSSU: 1-46\tITS1: 47-200\t5.8S: No end\tITS2: Not found\tLSU: Not found\tBroken or partial sequence, only partial 5.8S! \r\n",
      "69grass\t254 bp.\tSSU: 1-46\tITS1: 47-224\t5.8S: No end\tITS2: Not found\tLSU: Not found\tBroken or partial sequence, only partial 5.8S! \r\n",
      "70grass\t254 bp.\tSSU: 1-46\tITS1: 47-224\t5.8S: No end\tITS2: Not found\tLSU: Not found\tBroken or partial sequence, only partial 5.8S! \r\n",
      "73grass\t217 bp.\tSSU: 1-46\tITS1: 47-187\t5.8S: No end\tITS2: Not found\tLSU: Not found\tBroken or partial sequence, only partial 5.8S! \r\n",
      "74grass\t261 bp.\tSSU: 1-46\tITS1: 47-231\t5.8S: No end\tITS2: Not found\tLSU: Not found\tBroken or partial sequence, only partial 5.8S! \r\n",
      "79grass\t321 bp.\tSSU: 1-46\tITS1: 47-291\t5.8S: No end\tITS2: Not found\tLSU: Not found\tBroken or partial sequence, only partial 5.8S! \r\n",
      "81grass\t262 bp.\tSSU: 1-46\tITS1: 47-232\t5.8S: No end\tITS2: Not found\tLSU: Not found\tBroken or partial sequence, only partial 5.8S! \r\n",
      "85grass\t230 bp.\tSSU: 1-46\tITS1: 47-200\t5.8S: No end\tITS2: Not found\tLSU: Not found\tBroken or partial sequence, only partial 5.8S! \r\n",
      "86grass\t229 bp.\tSSU: 1-46\tITS1: 47-199\t5.8S: No end\tITS2: Not found\tLSU: Not found\tBroken or partial sequence, only partial 5.8S! \r\n",
      "97grass\t254 bp.\tSSU: 1-46\tITS1: 47-224\t5.8S: No end\tITS2: Not found\tLSU: Not found\tBroken or partial sequence, only partial 5.8S! \r\n",
      "98grass\t232 bp.\tSSU: 1-46\tITS1: 47-202\t5.8S: No end\tITS2: Not found\tLSU: Not found\tBroken or partial sequence, only partial 5.8S! \r\n",
      "100grass\t219 bp.\tSSU: 1-46\tITS1: 47-214\t5.8S: No end\tITS2: Not found\tLSU: Not found\tBroken or partial sequence, only partial 5.8S! \r\n",
      "101grass\t218 bp.\tSSU: 1-46\tITS1: 47-188\t5.8S: No end\tITS2: Not found\tLSU: Not found\tBroken or partial sequence, only partial 5.8S! \r\n",
      "106grass\t299 bp.\tSSU: 1-46\tITS1: 47-269\t5.8S: No end\tITS2: Not found\tLSU: Not found\tBroken or partial sequence, only partial 5.8S! \r\n",
      "109grass\t231 bp.\tSSU: 1-46\tITS1: 47-201\t5.8S: No end\tITS2: Not found\tLSU: Not found\tBroken or partial sequence, only partial 5.8S! \r\n",
      "110grass\t232 bp.\tSSU: 1-46\tITS1: 47-202\t5.8S: No end\tITS2: Not found\tLSU: Not found\tBroken or partial sequence, only partial 5.8S! \r\n",
      "111grass\t232 bp.\tSSU: 1-46\tITS1: 47-202\t5.8S: No end\tITS2: Not found\tLSU: Not found\tBroken or partial sequence, only partial 5.8S! \r\n",
      "112grass\t232 bp.\tSSU: 1-46\tITS1: 47-202\t5.8S: No end\tITS2: Not found\tLSU: Not found\tBroken or partial sequence, only partial 5.8S! \r\n",
      "113grass\t368 bp.\tSSU: 1-46\tITS1: 47-338\t5.8S: No end\tITS2: Not found\tLSU: Not found\tBroken or partial sequence, only partial 5.8S! \r\n",
      "114grass\t438 bp.\tSSU: 1-46\tITS1: 47-188\t5.8S: No end\tITS2: Not found\tLSU: Not found\tBroken or partial sequence, only partial 5.8S! \r\n",
      "115grass\t230 bp.\tSSU: 1-46\tITS1: 47-200\t5.8S: No end\tITS2: Not found\tLSU: Not found\tBroken or partial sequence, only partial 5.8S! \r\n",
      "117grass\t231 bp.\tSSU: 1-46\tITS1: 47-201\t5.8S: No end\tITS2: Not found\tLSU: Not found\tBroken or partial sequence, only partial 5.8S! \r\n",
      "119grass\t230 bp.\tSSU: 1-46\tITS1: 47-179\t5.8S: No end\tITS2: Not found\tLSU: Not found\tBroken or partial sequence, only partial 5.8S! \r\n",
      "121grass\t261 bp.\tSSU: 1-46\tITS1: 47-231\t5.8S: No end\tITS2: Not found\tLSU: Not found\tBroken or partial sequence, only partial 5.8S! \r\n",
      "123grass\t218 bp.\tSSU: 1-46\tITS1: 47-188\t5.8S: No end\tITS2: Not found\tLSU: Not found\tBroken or partial sequence, only partial 5.8S! \r\n",
      "124grass\t230 bp.\tSSU: 1-46\tITS1: 47-200\t5.8S: No end\tITS2: Not found\tLSU: Not found\tBroken or partial sequence, only partial 5.8S! \r\n",
      "125grass\t222 bp.\tSSU: 1-46\tITS1: 47-192\t5.8S: No end\tITS2: Not found\tLSU: Not found\tBroken or partial sequence, only partial 5.8S! \r\n",
      "127grass\t286 bp.\tSSU: 1-46\tITS1: 47-192\t5.8S: No end\tITS2: Not found\tLSU: Not found\tBroken or partial sequence, only partial 5.8S! \r\n",
      "128grass\t215 bp.\tSSU: 1-46\tITS1: 47-185\t5.8S: No end\tITS2: Not found\tLSU: Not found\tBroken or partial sequence, only partial 5.8S! \r\n",
      "129grass\t312 bp.\tSSU: 1-46\tITS1: 47-282\t5.8S: No end\tITS2: Not found\tLSU: Not found\tBroken or partial sequence, only partial 5.8S! \r\n",
      "130grass\t218 bp.\tSSU: 1-46\tITS1: 47-188\t5.8S: No end\tITS2: Not found\tLSU: Not found\tBroken or partial sequence, only partial 5.8S! \r\n",
      "133grass\t272 bp.\tSSU: 1-46\tITS1: 47-242\t5.8S: No end\tITS2: Not found\tLSU: Not found\tBroken or partial sequence, only partial 5.8S! \r\n",
      "135grass\t218 bp.\tSSU: 1-46\tITS1: 47-188\t5.8S: No end\tITS2: Not found\tLSU: Not found\tBroken or partial sequence, only partial 5.8S! \r\n",
      "136grass\t322 bp.\tSSU: 1-46\tITS1: 47-292\t5.8S: No end\tITS2: Not found\tLSU: Not found\tBroken or partial sequence, only partial 5.8S! \r\n",
      "137grass\t234 bp.\tSSU: 1-46\tITS1: 47-204\t5.8S: No end\tITS2: Not found\tLSU: Not found\tBroken or partial sequence, only partial 5.8S! \r\n",
      "139grass\t254 bp.\tSSU: 1-46\tITS1: 47-224\t5.8S: No end\tITS2: Not found\tLSU: Not found\tBroken or partial sequence, only partial 5.8S! \r\n",
      "140grass\t251 bp.\tSSU: 1-46\tITS1: 47-221\t5.8S: No end\tITS2: Not found\tLSU: Not found\tBroken or partial sequence, only partial 5.8S! \r\n",
      "144grass\t218 bp.\tSSU: 1-46\tITS1: 47-188\t5.8S: No end\tITS2: Not found\tLSU: Not found\tBroken or partial sequence, only partial 5.8S! \r\n",
      "145grass\t216 bp.\tSSU: 1-46\tITS1: 47-186\t5.8S: No end\tITS2: Not found\tLSU: Not found\tBroken or partial sequence, only partial 5.8S! \r\n",
      "146grass\t234 bp.\tSSU: 1-46\tITS1: 47-204\t5.8S: No end\tITS2: Not found\tLSU: Not found\tBroken or partial sequence, only partial 5.8S! \r\n",
      "148grass\t257 bp.\tSSU: 1-46\tITS1: 47-188\t5.8S: No end\tITS2: Not found\tLSU: Not found\tBroken or partial sequence, only partial 5.8S! \r\n",
      "150grass\t254 bp.\tSSU: 1-46\tITS1: 47-224\t5.8S: No end\tITS2: Not found\tLSU: Not found\tBroken or partial sequence, only partial 5.8S! \r\n",
      "154grass\t218 bp.\tSSU: 1-46\tITS1: 47-188\t5.8S: No end\tITS2: Not found\tLSU: Not found\tBroken or partial sequence, only partial 5.8S! \r\n",
      "155grass\t269 bp.\tSSU: 1-46\tITS1: 47-193\t5.8S: No end\tITS2: Not found\tLSU: Not found\tBroken or partial sequence, only partial 5.8S! \r\n",
      "157grass\t230 bp.\tSSU: 1-46\tITS1: 47-200\t5.8S: No end\tITS2: Not found\tLSU: Not found\tBroken or partial sequence, only partial 5.8S! \r\n",
      "158grass\t209 bp.\tSSU: 1-46\tITS1: 47-179\t5.8S: No end\tITS2: Not found\tLSU: Not found\tBroken or partial sequence, only partial 5.8S! \r\n",
      "159grass\t232 bp.\tSSU: 1-46\tITS1: 47-202\t5.8S: No end\tITS2: Not found\tLSU: Not found\tBroken or partial sequence, only partial 5.8S! \r\n",
      "161grass\t252 bp.\tSSU: 1-46\tITS1: 47-222\t5.8S: No end\tITS2: Not found\tLSU: Not found\tBroken or partial sequence, only partial 5.8S! \r\n",
      "162grass\t251 bp.\tSSU: 1-46\tITS1: 47-221\t5.8S: No end\tITS2: Not found\tLSU: Not found\tBroken or partial sequence, only partial 5.8S! \r\n",
      "163grass\t270 bp.\tSSU: 1-46\tITS1: 47-240\t5.8S: No end\tITS2: Not found\tLSU: Not found\tBroken or partial sequence, only partial 5.8S! \r\n",
      "256grass\t250 bp.\tSSU: 1-46\tITS1: 47-220\t5.8S: No end\tITS2: Not found\tLSU: Not found\tBroken or partial sequence, only partial 5.8S! \r\n"
     ]
    }
   ],
   "source": [
    "head -50 grass_sub.positions.txt; tail -50 grass_sub.positions.txt "
   ]
  },
  {
   "cell_type": "markdown",
   "metadata": {},
   "source": [
    "Looks like for most sequences, the SSU is 46 bp, and the 5.8S gene is 30.  Within this subset, there is more variation within the 5.8S - these values range from 20 to 70 or so.  However, since the majority are centered at 30, I'll trim 46 bp from the , and 30bp from "
   ]
  },
  {
   "cell_type": "code",
   "execution_count": 27,
   "metadata": {},
   "outputs": [
    {
     "name": "stdout",
     "output_type": "stream",
     "text": []
    }
   ],
   "source": [
    "fastx_trimmer -f 47 -i grass_relab_nolb.fasta | fastx_trimmer -t 30 -o grass.ITS1.fasta"
   ]
  },
  {
   "cell_type": "markdown",
   "metadata": {},
   "source": [
    "## pick OTUs and representative sequences\n",
    "\n"
   ]
  },
  {
   "cell_type": "code",
   "execution_count": null,
   "metadata": {
    "collapsed": true
   },
   "outputs": [],
   "source": [
    "## Transfer fasta with ITS1 only to aciss. for some reason, sftp was only transfering a fraction of my\n",
    "## file, so I chose to use the scp comand.  seems to have done the trick\n",
    " scp ./grass.ITS1.fasta gbailes@aciss.uoregon.edu:/home11/gbailes/biom_dec_16\n",
    " \n",
    " #remember to load appropriate modules on aciss:\n",
    " module load usearch/8.1.1803\n",
    " module load python/3.5.2"
   ]
  },
  {
   "cell_type": "code",
   "execution_count": null,
   "metadata": {
    "collapsed": true
   },
   "outputs": [],
   "source": [
    "## dereplicate sequences\n",
    "usearch -derep_fulllength ./grass.ITS1.fasta -fasout ./grass_ITS1_derep.fasta -sizeout\n"
   ]
  },
  {
   "cell_type": "markdown",
   "metadata": {},
   "source": [
    "usearch v8.1.1803_i86linux64, 74.2Gb RAM, 12 cores\n",
    "(C) Copyright 2013-15 Robert C. Edgar, all rights reserved.\n",
    "http://drive5.com/usearch\n",
    "\n",
    "Licensed to: ronh@molbio.uoregon.edu\n",
    "\n",
    "00:24 2.3Gb  100.0% Reading ./grass.ITS1.fasta\n",
    "00:29 5.0Gb 9417846 seqs, 1182213 uniques, 900911 singletons (76.2%)\n",
    "00:29 5.0Gb Min size 1, median 1, max 727417, avg 7.97\n",
    "00:29 5.0Gb  100.0% Writing \n",
    "00:36 3.2Gb  100.0% Writing ./grass_ITS1_derep.fasta\n",
    "\n",
    "looks like we have 9,417846 sequences, 1,182,213 uniques, 900,911 singletons (76.2%)"
   ]
  },
  {
   "cell_type": "code",
   "execution_count": null,
   "metadata": {
    "collapsed": true
   },
   "outputs": [],
   "source": [
    "## sort by size\n",
    "usearch -sortbysize ./grass_ITS1_derep.fasta -fasout ./grass_ITS1_sorted.fasta -minsize 2"
   ]
  },
  {
   "cell_type": "markdown",
   "metadata": {},
   "source": [
    "usearch v8.1.1803_i86linux64, 74.2Gb RAM, 12 cores\n",
    "(C) Copyright 2013-15 Robert C. Edgar, all rights reserved.\n",
    "http://drive5.com/usearch\n",
    "\n",
    "Licensed to: ronh@molbio.uoregon.edu\n",
    "\n",
    "00:03 342Mb  100.0% Reading ./grass_ITS1_derep.fasta\n",
    "00:03 308Mb Getting sizes                           \n",
    "00:04 318Mb Sorting 281302 sequences\n",
    "00:05 319Mb  100.0% Writing output"
   ]
  },
  {
   "cell_type": "code",
   "execution_count": null,
   "metadata": {
    "collapsed": true
   },
   "outputs": [],
   "source": [
    "## look at total unique sequences, vs singletons.  \n",
    "grep '>' grass_ITS1_derep.fasta | wc -l\n",
    "grep '>' grass_ITS1_sorted.fasta | wc -l"
   ]
  },
  {
   "cell_type": "markdown",
   "metadata": {},
   "source": [
    "1182213,\n",
    "281302\n",
    "looks like lots of singletons!\n"
   ]
  },
  {
   "cell_type": "markdown",
   "metadata": {},
   "source": [
    "# cluster to 97% radius\n",
    "\n",
    "I think that the default clustering uses minimum distance/single linkage to create clusters - This means that within a cluster, un-grouped sequences are compared with a single centroid and rejected with a similarity > 0.3.  This means that within a single cluster, there may be sequences that are more dissimilar than 97%, solong as they agree with the centroid.  This type of clustering distance results in fewer, larger clusters than other methods (maximum distance/complete linkage)"
   ]
  },
  {
   "cell_type": "markdown",
   "metadata": {
    "collapsed": true
   },
   "source": [
    "\n",
    "Dan wrote a python script that will  to our clusters.  Apparently the 'cluster-_smallmem' clustering algorithm \n",
    "(as opposed to the 'usearch_cluster_otus') doesn't automatically add the '"
   ]
  },
  {
   "cell_type": "code",
   "execution_count": null,
   "metadata": {
    "collapsed": true
   },
   "outputs": [],
   "source": [
    "## cluster using uclust \n",
    "usearch -cluster_smallmem ./grass_ITS1_sorted.fasta -id 0.97 -centroids ./otus_97_uclust.fasta -sizein -sizeout -sortedby size"
   ]
  },
  {
   "cell_type": "markdown",
   "metadata": {},
   "source": [
    "usearch v8.1.1803_i86linux64, 74.2Gb RAM, 12 cores\n",
    "(C) Copyright 2013-15 Robert C. Edgar, all rights reserved.\n",
    "http://drive5.com/usearch\n",
    "\n",
    "Licensed to: ronh@molbio.uoregon.edu\n",
    "\n",
    "00:09  53Mb  100.0% 3922 clusters, max size 1179223, avg 2171.6\n",
    "00:10  53Mb  100.0% Writing centroids to ./otus_97_uclust.fasta\n",
    "                                                               \n",
    "      Seqs  281302 (281.3k)\n",
    "  Clusters  3922\n",
    "  Max size  1179223 (1.2M)\n",
    "  Avg size  2171.6\n",
    "  Min size  2\n",
    "Singletons  0, 0.0% of seqs, 0.0% of clusters\n",
    "   Max mem  53Mb\n",
    "      Time  34.0s\n",
    "Throughput  8273.6 seqs/sec.\n",
    "\n",
    "Okay, looks like our 281302 sequences clustered to 3922 clusters.  This makes me think that there were no more chimeras detected durring this process"
   ]
  },
  {
   "cell_type": "code",
   "execution_count": null,
   "metadata": {
    "collapsed": true
   },
   "outputs": [],
   "source": [
    "## add otu tags to sequences\n",
    "./addOTUtags.py ./otus_97_uclust.fasta OTU ./otus_97_uclust_relabel.fasta"
   ]
  },
  {
   "cell_type": "code",
   "execution_count": 4,
   "metadata": {},
   "outputs": [
    {
     "name": "stdout",
     "output_type": "stream",
     "text": [
      "usearch v8.1.1861_i86osx32, 4.0Gb RAM (8.6Gb total), 4 cores\n",
      "(C) Copyright 2013-15 Robert C. Edgar, all rights reserved.\n",
      "http://drive5.com/usearch\n",
      "\n",
      "Licensed to: bailes.graham@gmail.com\n",
      "\n",
      "00:00  79Mb  100.0% Reading utax_ref_class_v7_utax.fasta\n",
      "00:01  50Mb  100.0% Initialize taxonomy data            \n",
      "00:01  51Mb  100.0% Building name table     \n",
      "00:01  51Mb 12837 names, tax levels min 3, avg 5.8, max 7\n",
      "    Seqs  LevelPath\n",
      "   18264  Domain,Phylum,Class,Order,Family,Genus\n",
      "    9140  Domain,Phylum,Class,Order,Family,Genus,Species\n",
      "    6269  Domain,Phylum,Class,Order,Family\n",
      "    3367  Domain,Phylum,Class,Order\n",
      "    1236  Domain,Phylum,Class\n",
      "\n",
      "  Names  Level\n",
      "      1  Domain\n",
      "      7  Phylum\n",
      "     51  Class\n",
      "    175  Order\n",
      "    533  Family\n",
      "   2929  Genus\n",
      "usearch v8.1.1861_i86osx32, 4.0Gb RAM (8.6Gb total), 4 cores\n",
      "(C) Copyright 2013-15 Robert C. Edgar, all rights reserved.\n",
      "http://drive5.com/usearch\n",
      "\n",
      "Licensed to: bailes.graham@gmail.com\n",
      "\n",
      "00:01  82Mb  100.0% Reading utax_ref_class.fasta\n",
      "00:01  53Mb  100.0% Initialize taxonomy data    \n",
      "00:01  55Mb  100.0% Building name table     \n",
      "00:01  55Mb 23736 names, tax levels min 3, avg 6.1, max 7\n",
      "\n",
      "WARNING: 3 taxonomy nodes have >1 parent\n",
      "\n",
      "    Seqs  LevelPath\n",
      "   20066  Domain,Phylum,Class,Order,Family,Genus,Species\n",
      "    8884  Domain,Phylum,Class,Order,Family,Genus\n",
      "    5826  Domain,Phylum,Class,Order,Family\n",
      "    3645  Domain,Phylum,Class,Order\n",
      "    1248  Domain,Phylum,Class\n",
      "\n",
      "  Names  Level\n",
      "      1  Domain\n",
      "      7  Phylum\n",
      "     38  Class\n",
      "    146  Order\n",
      "    464  Family\n",
      "   3013  Genus\n",
      "  20066  Species\n"
     ]
    }
   ],
   "source": [
    "# there was a new release of the UNITE database, so lets see how they compare\n",
    "usearch -tax_stats utax_ref_class_v7_utax.fasta \n",
    "usearch -tax_stats utax_ref_class.fasta"
   ]
  },
  {
   "cell_type": "code",
   "execution_count": 5,
   "metadata": {},
   "outputs": [
    {
     "name": "stdout",
     "output_type": "stream",
     "text": [
      "usearch v8.1.1861_i86osx32, 4.0Gb RAM (8.6Gb total), 4 cores\n",
      "(C) Copyright 2013-15 Robert C. Edgar, all rights reserved.\n",
      "http://drive5.com/usearch\n",
      "\n",
      "Licensed to: bailes.graham@gmail.com\n",
      "\n",
      "00:01 123Mb  100.0% Rows\n",
      "00:01 123Mb Read taxonomy info...done.\n",
      "00:01 125Mb Reading pointers...done.\n",
      "00:01 129Mb Reading db seqs...done.\n",
      "00:03 162Mb  100.0% 3922 seqs, 74.4% at phylum, 13.0% genus (P > 0.90)\n"
     ]
    }
   ],
   "source": [
    "## assign taxonomy\n",
    "##since I created the utax reference database on my labtop (32 bit), this also was run on the laptop\n",
    "## first transfer relabled uclust fasta back to personal computer:\n",
    "# scp gbailes@aciss.uoregon.edu:/home11/gbailes/biom_dec_16/otus_97_uclust_relabel.fasta /Users/grahambailes/grass_endophyte_community/alt_biom/\n",
    "usearch -utax otus_97_uclust_relabel.fasta -db utax_ref_class_v7.udb -strand both -fastaout otus_97_uclust_ass_tax.fasta"
   ]
  },
  {
   "cell_type": "markdown",
   "metadata": {},
   "source": [
    "usearch v8.1.1861_i86osx32, 4.0Gb RAM (8.6Gb total), 4 cores\n",
    "(C) Copyright 2013-15 Robert C. Edgar, all rights reserved.\n",
    "http://drive5.com/usearch\n",
    "\n",
    "Licensed to: bailes.graham@gmail.com\n",
    "\n",
    "00:01 123Mb  100.0% Rows\n",
    "00:01 123Mb Read taxonomy info...done.\n",
    "00:01 125Mb Reading pointers...done.\n",
    "00:01 129Mb Reading db seqs...done.\n",
    "00:03 162Mb  100.0% 3922 seqs, 74.4% at phylum, 13.0% genus (P > 0.90)"
   ]
  },
  {
   "cell_type": "markdown",
   "metadata": {},
   "source": [
    "## create 97% radius biom table"
   ]
  },
  {
   "cell_type": "code",
   "execution_count": 6,
   "metadata": {},
   "outputs": [
    {
     "name": "stdout",
     "output_type": "stream",
     "text": [
      "usearch v8.1.1861_i86osx32, 4.0Gb RAM (8.6Gb total), 4 cores\n",
      "(C) Copyright 2013-15 Robert C. Edgar, all rights reserved.\n",
      "http://drive5.com/usearch\n",
      "\n",
      "Licensed to: bailes.graham@gmail.com\n",
      "\n",
      "00:00 4.3Mb  100.0% Reading otus_97_uclust_ass_tax.fasta\n",
      "00:00 2.9Mb  100.0% Masking                             \n",
      "00:00 3.8Mb  100.0% Word stats\n",
      "00:00 3.8Mb  100.0% Alloc rows\n",
      "00:00 6.1Mb  100.0% Build index\n",
      "24:33  42Mb  100.0% Searching, 99.9% matched \n",
      "9388226 / 9417846 mapped to OTUs (99.7%)    \n",
      "24:33  42Mb Writing grass_otu_uclust_97.biom\n",
      "24:33  42Mb Writing grass_otu_uclust_97.biom ...done.\n"
     ]
    }
   ],
   "source": [
    "usearch -usearch_global grass.ITS1.fasta -db otus_97_uclust_ass_tax.fasta -strand both -id 0.97 -biomout grass_otu_uclust_97.biom"
   ]
  },
  {
   "cell_type": "markdown",
   "metadata": {},
   "source": [
    "(C) Copyright 2013-15 Robert C. Edgar, all rights reserved.\n",
    "http://drive5.com/usearch\n",
    "\n",
    "Licensed to: bailes.graham@gmail.com\n",
    "\n",
    "\n",
    "00:00 4.3Mb  100.0% Reading otus_97_uclust_ass_tax.fasta\n",
    "00:00 2.9Mb  100.0% Masking                             \n",
    "00:00 3.8Mb  100.0% Word stats\n",
    "00:00 3.8Mb  100.0% Alloc rows\n",
    "00:00 6.1Mb  100.0% Build index\n",
    "24:33  42Mb  100.0% Searching, 99.9% matched \n",
    "9388226 / 9417846 mapped to OTUs (99.7%)    \n",
    "24:33  42Mb Writing grass_otu_uclust_97.biom\n",
    "24:33  42Mb Writing grass_otu_uclust_97.biom ...done.\n"
   ]
  },
  {
   "cell_type": "markdown",
   "metadata": {},
   "source": [
    "## format biome table\n",
    "\n",
    "clean-up of the biome table created through the usearch algorithms.  Downstream programs and packages cannot read as is..."
   ]
  },
  {
   "cell_type": "code",
   "execution_count": 8,
   "metadata": {
    "collapsed": true
   },
   "outputs": [],
   "source": [
    "sed '/taxonomy/ s/([0-1]\\.[0-9]*)//g' grass_otu_uclust_97.biom |\\\n",
    "sed -E 's/(\"taxonomy\")(:\")/\\1:[/' |\\\n",
    "sed -E 's/\"}}/,]}}/' |\\\n",
    "sed -E '/taxonomy/ s/(d:)([^,]*)/\"k__\\2\"/' |\\\n",
    "sed -E '/taxonomy/ s/(p:)([^,]*)/\"p__\\2\"/' |\\\n",
    "sed -E '/taxonomy/ s/(c:)([^,]*)/\"c__\\2\"/' |\\\n",
    "sed -E '/taxonomy/ s/(o:)([^,]*)/\"o__\\2\"/' |\\\n",
    "sed -E '/taxonomy/ s/(f:)([^,]*)/\"f__\\2\"/' |\\\n",
    "sed -E '/taxonomy/ s/(g:)([^,]*)/\"g__\\2\"/' |\\\n",
    "sed -E '/taxonomy/ s/(s:)([^,]*)/\"s__\\2\"/' |\\\n",
    "sed -E '/taxonomy/ s/,]}}/]}}/' > grass_otu_uclust_97_relab.biom"
   ]
  },
  {
   "cell_type": "code",
   "execution_count": 9,
   "metadata": {},
   "outputs": [
    {
     "name": "stdout",
     "output_type": "stream",
     "text": [
      "\t\"rows\":[\n",
      "\t\t{\"id\":\"OTU2:5grass\", \"metadata\":{\"taxonomy\":[\"k__Fungi\",\"p__Ascomycota\",\"c__Sordariomycetes\",\"o__Hypocreales\",\"f__Hypocreales_fam_Incertae_sedis\",\"g__Sarocladium\"]}},\n",
      "\t\t{\"id\":\"OTU1:5grass\", \"metadata\":{\"taxonomy\":[\"k__Fungi\",\"p__Ascomycota\",\"c__Dothideomycetes\",\"o__Capnodiales\",\"f__Davidiellaceae\",\"g__Davidiella\",\"s__Davidiella_tassiana_SH216250.07FU\"]}},\n",
      "\t\t{\"id\":\"OTU16:5grass\", \"metadata\":{\"taxonomy\":[\"k__Fungi\",\"p__Ascomycota\",\"c__Dothideomycetes\",\"o__Capnodiales\"]}},\n",
      "\t\t{\"id\":\"OTU263:5grass\", \"metadata\":{\"taxonomy\":[\"k__Fungi\",\"p__Ascomycota\",\"c__Leotiomycetes\",\"o__Helotiales\",\"f__Dermateaceae\",\"g__Dermea\",\"s__Dermea_ariae_SH201690.07FU\"]}},\n",
      "\t\t{\"id\":\"OTU4:5grass\", \"metadata\":{\"taxonomy\":[\"k__Fungi\",\"p__Ascomycota\",\"c__Sordariomycetes\",\"o__Sordariomycetidae_ord_Incertae_sedis\",\"f__Glomerellaceae\",\"g__Glomerella\"]}},\n",
      "\t\t{\"id\":\"OTU1265:13grass\", \"metadata\":{\"taxonomy\":[\"k__Fungi\",\"p__Ascomycota\",\"c__Sordariomycetes\",\"o__Sordariomycetidae_ord_Incertae_sedis\",\"f__Glomerellaceae\",\"g__Glomerella\"]}},\n",
      "\t\t{\"id\":\"OTU127:23grass\", \"metadata\":{\"taxonomy\":[\"k__Fungi\",\"p__Ascomycota\",\"c__Dothideomycetes\",\"o__Pleosporales\",\"f__Phaeosphaeriaceae\"]}},\n",
      "\t\t{\"id\":\"OTU1202:12grass\", \"metadata\":{\"taxonomy\":[\"k__Fungi\",\"p__Ascomycota\",\"c__Sordariomycetes\",\"o__Sordariomycetidae_ord_Incertae_sedis\",\"f__Glomerellaceae\",\"g__Glomerella\"]}},\n",
      "\t\t{\"id\":\"OTU9:5grass\", \"metadata\":{\"taxonomy\":[\"k__Fungi\",\"p__Ascomycota\",\"c__Dothideomycetes\",\"o__Capnodiales\",\"f__Davidiellaceae\",\"g__Cladosporium\",\"s__Cladosporium_exasperatum_SH422672.07FU\"]}},\n",
      "\t\t{\"id\":\"OTU13:5grass\", \"metadata\":{\"taxonomy\":[\"k__Fungi\",\"p__Ascomycota\",\"c__Leotiomycetes\",\"o__Erysiphales\",\"f__Erysiphaceae\",\"g__Blumeria\",\"s__Blumeria_graminis_SH205386.07FU\"]}},\n"
     ]
    }
   ],
   "source": [
    "# take another look at a row \n",
    "grep 'rows' -A 10 grass_otu_uclust_97_relab.biom "
   ]
  },
  {
   "cell_type": "code",
   "execution_count": 3,
   "metadata": {},
   "outputs": [
    {
     "name": "stdout",
     "output_type": "stream",
     "text": [
      "\t\"columns\":[\n",
      "\t\t{\"id\":\"5grass\", \"metadata\":null},\n",
      "\t\t{\"id\":\"6grass\", \"metadata\":null},\n",
      "\t\t{\"id\":\"7grass\", \"metadata\":null},\n",
      "\t\t{\"id\":\"8grass\", \"metadata\":null},\n",
      "\t\t{\"id\":\"9grass\", \"metadata\":null},\n",
      "\t\t{\"id\":\"10grass\", \"metadata\":null},\n",
      "\t\t{\"id\":\"11grass\", \"metadata\":null},\n",
      "\t\t{\"id\":\"12grass\", \"metadata\":null},\n",
      "\t\t{\"id\":\"13grass\", \"metadata\":null},\n",
      "\t\t{\"id\":\"14grass\", \"metadata\":null},\n",
      "\t\t{\"id\":\"15grass\", \"metadata\":null},\n",
      "\t\t{\"id\":\"16grass\", \"metadata\":null},\n",
      "\t\t{\"id\":\"17grass\", \"metadata\":null},\n",
      "\t\t{\"id\":\"18grass\", \"metadata\":null},\n",
      "\t\t{\"id\":\"19grass\", \"metadata\":null},\n",
      "\t\t{\"id\":\"20grass\", \"metadata\":null},\n",
      "\t\t{\"id\":\"21grass\", \"metadata\":null},\n",
      "\t\t{\"id\":\"22grass\", \"metadata\":null},\n",
      "\t\t{\"id\":\"23grass\", \"metadata\":null},\n",
      "\t\t{\"id\":\"24grass\", \"metadata\":null},\n",
      "\t\t{\"id\":\"25grass\", \"metadata\":null},\n",
      "\t\t{\"id\":\"26grass\", \"metadata\":null},\n",
      "\t\t{\"id\":\"27grass\", \"metadata\":null},\n",
      "\t\t{\"id\":\"28grass\", \"metadata\":null},\n",
      "\t\t{\"id\":\"29grass\", \"metadata\":null},\n",
      "\t\t{\"id\":\"30grass\", \"metadata\":null},\n",
      "\t\t{\"id\":\"31grass\", \"metadata\":null},\n",
      "\t\t{\"id\":\"32grass\", \"metadata\":null},\n",
      "\t\t{\"id\":\"33grass\", \"metadata\":null},\n",
      "\t\t{\"id\":\"34grass\", \"metadata\":null},\n",
      "\t\t{\"id\":\"35grass\", \"metadata\":null},\n",
      "\t\t{\"id\":\"36grass\", \"metadata\":null},\n",
      "\t\t{\"id\":\"37grass\", \"metadata\":null},\n",
      "\t\t{\"id\":\"38grass\", \"metadata\":null},\n",
      "\t\t{\"id\":\"39grass\", \"metadata\":null},\n",
      "\t\t{\"id\":\"40grass\", \"metadata\":null},\n",
      "\t\t{\"id\":\"41grass\", \"metadata\":null},\n",
      "\t\t{\"id\":\"42grass\", \"metadata\":null},\n",
      "\t\t{\"id\":\"43grass\", \"metadata\":null},\n",
      "\t\t{\"id\":\"44grass\", \"metadata\":null},\n"
     ]
    }
   ],
   "source": [
    "# and at columns\n",
    "grep 'columns' -A 40  grass_otu_uclust_97_relab.biom "
   ]
  },
  {
   "cell_type": "code",
   "execution_count": 11,
   "metadata": {},
   "outputs": [
    {
     "name": "stdout",
     "output_type": "stream",
     "text": [
      "Invalid format 'Biological Observation Matrix 1.0', must be '1.0.0'\n",
      "'id' in {'id': '', 'metadata': {'taxonomy': ['k__Fungi', 'p__Basidiomycota', 'c__Agaricomycetes', 'o__Agaricales', 'f__Strophariaceae', 'g__Melanotus']}} appears empty\n",
      "Bad value at idx 0: [0, 0, 39534]\n",
      "Timestamp does not appear to be ISO 8601\n",
      "The input file is not a valid BIOM-formatted file.\n"
     ]
    },
    {
     "ename": "",
     "evalue": "1",
     "output_type": "error",
     "traceback": []
    }
   ],
   "source": [
    "# command to test whether the biom table is in correct format for downstream applications\n",
    "biom validate-table -i grass_otu_uclust_97_relab.biom"
   ]
  },
  {
   "cell_type": "code",
   "execution_count": null,
   "metadata": {
    "collapsed": true
   },
   "outputs": [],
   "source": [
    "# there are several small issues here - this also happened to Dan, where there was \n",
    "#1) an ID that was missing, 2) a 'bad value' at [0,0,11660], and the non-matching timestamp.\n",
    "#I don't really care about the time-stamp issue, so I'll look into the other two:\n"
   ]
  },
  {
   "cell_type": "code",
   "execution_count": 12,
   "metadata": {},
   "outputs": [
    {
     "name": "stdout",
     "output_type": "stream",
     "text": [
      "\t\t{\"id\":\"\", \"metadata\":{\"taxonomy\":\"d:Fungi,p:Basidiomycota(0.9997),c:Agaricomycetes(0.9777),o:Agaricales(0.9801),f:Strophariaceae(0.8777),g:Melanotus(0.8088)\"}},\n"
     ]
    }
   ],
   "source": [
    "# look for information on missing id\n",
    "grep '\"id\":\"\"' grass_otu_uclust_97.biom"
   ]
  },
  {
   "cell_type": "code",
   "execution_count": 13,
   "metadata": {},
   "outputs": [
    {
     "name": "stdout",
     "output_type": "stream",
     "text": [
      ">OTU2489:6grass;size=6;tax=d:Fungi,p:Basidiomycota(0.9997),c:Agaricomycetes(0.9777),o:Agaricales(0.9801),f:Strophariaceae(0.8777),g:Melanotus(0.8088);\n"
     ]
    }
   ],
   "source": [
    "# find the associated otu in the otu assignment fasta file\n",
    "grep 'd:Fungi,p:Basidiomycota(0.9997),c:Agaricomycetes(0.9777),o:Agaricales(0.9801),f:Strophariaceae(0.8777),g:Melanotus(0.8088)' otus_97_uclust_ass_tax.fasta "
   ]
  },
  {
   "cell_type": "code",
   "execution_count": null,
   "metadata": {
    "collapsed": true
   },
   "outputs": [],
   "source": [
    "# its a bit odd that three otus had 1) the same confidence for each taxonomic level, and 2) such low confidence levels in general\n",
    "# as I saw when grepping the columns, position 0,0,11660 is from sample grass5, so I'll insert this otu (OTU697:5grass) in the empty assignment"
   ]
  },
  {
   "cell_type": "code",
   "execution_count": 14,
   "metadata": {
    "collapsed": true
   },
   "outputs": [],
   "source": [
    "sed -i' ' '/\"id\":\"\"/ s/\"id\":\"\",/\"id\":\"6grass\",/' grass_otu_uclust_97_relab.biom"
   ]
  },
  {
   "cell_type": "code",
   "execution_count": 15,
   "metadata": {},
   "outputs": [
    {
     "name": "stdout",
     "output_type": "stream",
     "text": [
      "       0\n"
     ]
    }
   ],
   "source": [
    "grep '\"id\":\"\"' grass_otu_uclust_97_relab.biom | wc -l\n"
   ]
  },
  {
   "cell_type": "code",
   "execution_count": 16,
   "metadata": {},
   "outputs": [
    {
     "name": "stdout",
     "output_type": "stream",
     "text": [
      "Invalid format 'Biological Observation Matrix 1.0', must be '1.0.0'\n",
      "Bad value at idx 0: [0, 0, 39534]\n",
      "Timestamp does not appear to be ISO 8601\n",
      "The input file is not a valid BIOM-formatted file.\n"
     ]
    },
    {
     "ename": "",
     "evalue": "1",
     "output_type": "error",
     "traceback": []
    }
   ],
   "source": [
    "## check out the validate command agin\n",
    "biom validate-table -i grass_otu_uclust_97_relab.biom"
   ]
  },
  {
   "cell_type": "code",
   "execution_count": 17,
   "metadata": {},
   "outputs": [
    {
     "name": "stdout",
     "output_type": "stream",
     "text": [
      "\t\t{\"id\":\"159grass\", \"metadata\":null},\n",
      "\t\t{\"id\":\"160grass\", \"metadata\":null},\n",
      "\t\t{\"id\":\"161grass\", \"metadata\":null},\n",
      "\t\t{\"id\":\"162grass\", \"metadata\":null},\n",
      "\t\t{\"id\":\"163grass\", \"metadata\":null},\n",
      "\t\t{\"id\":\"255grass\", \"metadata\":null},\n",
      "\t\t{\"id\":\"256grass\", \"metadata\":null},\n",
      "\t\t{\"id\":\"257grass\", \"metadata\":null}\n",
      "\t],\n",
      "\t\"data\": [\n",
      "\t\t[0,0,39534],\n",
      "\t\t[0,1,12136],\n",
      "\t\t[0,2,6426],\n",
      "\t\t[0,3,17774],\n",
      "\t\t[0,4,11],\n",
      "\t\t[0,5,13],\n",
      "\t\t[0,6,13],\n",
      "\t\t[0,8,8],\n",
      "\t\t[0,9,9],\n",
      "\t\t[0,10,1],\n",
      "\t\t[0,11,7],\n"
     ]
    }
   ],
   "source": [
    "## lets see if we can get rid of the bad value\n",
    "grep \\\\[0,0,39534\\\\] -A 10 -B 10 grass_otu_uclust_97_relab.biom"
   ]
  },
  {
   "cell_type": "markdown",
   "metadata": {},
   "source": [
    "Not sure what the problem is..."
   ]
  },
  {
   "cell_type": "code",
   "execution_count": 18,
   "metadata": {},
   "outputs": [
    {
     "name": "stdout",
     "output_type": "stream",
     "text": [
      "Num samples: 162\n",
      "Num observations: 3880\n",
      "Total count: 9388226\n",
      "Table density (fraction of non-zero values): 0.058\n",
      "\n",
      "Counts/sample summary:\n",
      " Min: 1745.0\n",
      " Max: 111141.0\n",
      " Median: 60985.500\n",
      " Mean: 57952.012\n",
      " Std. dev.: 20558.843\n",
      " Sample Metadata Categories: None provided\n",
      " Observation Metadata Categories: taxonomy\n",
      "\n",
      "Counts/sample detail:\n",
      "255grass: 1745.0\n",
      "16grass: 7101.0\n",
      "11grass: 10084.0\n",
      "10grass: 12928.0\n",
      "15grass: 14654.0\n",
      "14grass: 14871.0\n",
      "163grass: 17788.0\n",
      "154grass: 18483.0\n",
      "131grass: 21487.0\n",
      "47grass: 22870.0\n",
      "9grass: 23698.0\n",
      "52grass: 23988.0\n",
      "153grass: 24041.0\n",
      "51grass: 25215.0\n",
      "107grass: 27658.0\n",
      "130grass: 27948.0\n",
      "142grass: 28050.0\n",
      "12grass: 29453.0\n",
      "49grass: 29483.0\n",
      "46grass: 29654.0\n",
      "23grass: 30332.0\n",
      "127grass: 33575.0\n",
      "13grass: 33746.0\n",
      "35grass: 34619.0\n",
      "95grass: 34856.0\n",
      "106grass: 35863.0\n",
      "119grass: 37771.0\n",
      "90grass: 38554.0\n",
      "22grass: 38674.0\n",
      "50grass: 38715.0\n",
      "71grass: 39217.0\n",
      "73grass: 39698.0\n",
      "125grass: 39924.0\n",
      "129grass: 40718.0\n",
      "76grass: 40747.0\n",
      "34grass: 44080.0\n",
      "126grass: 44526.0\n",
      "162grass: 45174.0\n",
      "94grass: 45270.0\n",
      "136grass: 45340.0\n",
      "83grass: 45538.0\n",
      "59grass: 45538.0\n",
      "75grass: 46538.0\n",
      "132grass: 46973.0\n",
      "41grass: 47104.0\n",
      "257grass: 48066.0\n",
      "86grass: 48181.0\n",
      "43grass: 48407.0\n",
      "32grass: 48890.0\n",
      "118grass: 49106.0\n",
      "152grass: 49347.0\n",
      "100grass: 49988.0\n",
      "70grass: 50439.0\n",
      "121grass: 51261.0\n",
      "72grass: 51399.0\n",
      "134grass: 51467.0\n",
      "78grass: 51588.0\n",
      "145grass: 52504.0\n",
      "74grass: 52619.0\n",
      "122grass: 52867.0\n",
      "133grass: 53170.0\n",
      "39grass: 53181.0\n",
      "68grass: 53323.0\n",
      "87grass: 53824.0\n",
      "37grass: 54106.0\n",
      "161grass: 54218.0\n",
      "31grass: 54333.0\n",
      "40grass: 57336.0\n",
      "98grass: 57704.0\n",
      "82grass: 57733.0\n",
      "144grass: 58125.0\n",
      "128grass: 58130.0\n",
      "48grass: 58145.0\n",
      "140grass: 58486.0\n",
      "146grass: 58517.0\n",
      "58grass: 58564.0\n",
      "42grass: 58915.0\n",
      "93grass: 58998.0\n",
      "135grass: 60102.0\n",
      "60grass: 60381.0\n",
      "79grass: 60819.0\n",
      "124grass: 61152.0\n",
      "149grass: 61331.0\n",
      "67grass: 61397.0\n",
      "29grass: 61444.0\n",
      "155grass: 61847.0\n",
      "138grass: 62437.0\n",
      "92grass: 62715.0\n",
      "102grass: 62737.0\n",
      "30grass: 63454.0\n",
      "88grass: 63503.0\n",
      "157grass: 63743.0\n",
      "19grass: 63896.0\n",
      "66grass: 64164.0\n",
      "114grass: 64238.0\n",
      "141grass: 64562.0\n",
      "151grass: 64686.0\n",
      "18grass: 64800.0\n",
      "112grass: 65289.0\n",
      "33grass: 65442.0\n",
      "156grass: 66050.0\n",
      "84grass: 66163.0\n",
      "137grass: 67188.0\n",
      "65grass: 67234.0\n",
      "61grass: 67772.0\n",
      "6grass: 67974.0\n",
      "148grass: 68073.0\n",
      "110grass: 68203.0\n",
      "105grass: 68404.0\n",
      "103grass: 68977.0\n",
      "147grass: 69022.0\n",
      "143grass: 69146.0\n",
      "116grass: 70217.0\n",
      "44grass: 70391.0\n",
      "159grass: 70475.0\n",
      "108grass: 70923.0\n",
      "62grass: 70961.0\n",
      "109grass: 70967.0\n",
      "104grass: 71190.0\n",
      "160grass: 71462.0\n",
      "256grass: 72017.0\n",
      "115grass: 72018.0\n",
      "123grass: 72050.0\n",
      "7grass: 72216.0\n",
      "139grass: 72219.0\n",
      "150grass: 72329.0\n",
      "80grass: 72867.0\n",
      "158grass: 73119.0\n",
      "97grass: 73319.0\n",
      "8grass: 73381.0\n",
      "120grass: 73414.0\n",
      "117grass: 73600.0\n",
      "63grass: 74705.0\n",
      "20grass: 75390.0\n",
      "85grass: 75724.0\n",
      "24grass: 76172.0\n",
      "81grass: 77556.0\n",
      "56grass: 77742.0\n",
      "111grass: 78393.0\n",
      "38grass: 78862.0\n",
      "91grass: 79082.0\n",
      "54grass: 79233.0\n",
      "96grass: 79505.0\n",
      "113grass: 80222.0\n",
      "45grass: 81778.0\n",
      "53grass: 82143.0\n",
      "57grass: 82360.0\n",
      "55grass: 83921.0\n",
      "69grass: 84191.0\n",
      "101grass: 84294.0\n",
      "89grass: 84599.0\n",
      "21grass: 85850.0\n",
      "64grass: 87134.0\n",
      "99grass: 88470.0\n",
      "26grass: 90790.0\n",
      "36grass: 91356.0\n",
      "77grass: 93318.0\n",
      "25grass: 93691.0\n",
      "27grass: 95316.0\n",
      "28grass: 98540.0\n",
      "17grass: 102042.0\n",
      "5grass: 111141.0\n"
     ]
    }
   ],
   "source": [
    "# command to look at sumary of biom table\n",
    "biom summarize-table -i grass_otu_uclust_97_relab.biom"
   ]
  },
  {
   "cell_type": "markdown",
   "metadata": {},
   "source": [
    "## add sample name metadata to .97 biome table"
   ]
  },
  {
   "cell_type": "code",
   "execution_count": 19,
   "metadata": {},
   "outputs": [
    {
     "name": "stdout",
     "output_type": "stream",
     "text": [
      "#SampleID\tSampleNumber\tsamplename\thost\tsite\tsite_nr\tregion\tx_coordinate\ty_coordinate\tdist_from_origin\tplant_area\tstems\tstems_browsed\tseeds_produced\tsum_damage\tdensity\tlatitude\tlongitude\televation\tbulk_density\tsoil_pH\tpercent_N\tpercent_C\tC_to_N\ttotal_N\tNO3\tNH4\tpercent_sand\tpercent_clay\tpercent_silt\tsoil_texture\tav_soil_depth\tSPRING.PRECIPITATION\tSUMMER.PRECIPITATION\tWINTER.PRECIPITATION\tANNUAL.PRECIPITATION\tSPRING.MAX.TEMPERATURE\tSUMMER.MAX.TEMPERATURE\tWINTER.MAX.TEMPERATURE\tANNUAL.MAX.TEMPERATURE\tSPRING.MEAN.TEMPERATURE\tSUMMER.MEAN.TEMPERATURE\tWINTER.MEAN.TEMPERATURE\tANNUAL.MEAN.TEMPERATURE\tSPRING.MIN.TEMPERATURE\tSUMMER.MIN.TEMPERATURE\tWINTER.MIN.TEMPERATURE\tANNUAL.MIN.TEMPERATURE\tSPRING.DEWPOINT.TEMPERATURE\tSUMMER.DEWPOINT.TEMPERATURE\tWINTER.DEWPOINT.TEMPERATURE\tANNUAL.DEWPOINT.TEMPERATURE\r",
      "5grass\t1\tFr_FF_1\tF. roemeri\tFrench_flat\t1\tSOR\t980\t-68\t982.3563508\t120.95\t19\t0\t1143.61\t2\t18.76\t42.1\t-123.63\t448\t1.03\t7.51\t0.13\t2.17\t0.02\t20.36\t18.72\t1.64\t51.42\t30.2\t18.38\tsandy clay loam\t20\t103.35\t34.31\t262.31\t1599.87\t20.54\t28.84\t10.41\t19.93\t12.33\t18.11\t5.39\t11.94\t4.12\t7.37\t0.37\t3.95\t4.55\t7.12\t1.08\t4.25\r",
      "6grass\t2\tFr_FF_2\tF. roemeri\tFrench_flat\t1\tSOR\t700\t-100\t707.1067812\t150.8\t23\t0\t1597.35\t2\t18.76\t42.1\t-123.63\t448\t1.03\t7.51\t0.13\t2.17\t0.02\t20.36\t18.72\t1.64\t51.42\t30.2\t18.38\tsandy clay loam\t20\t103.35\t34.31\t262.31\t1599.87\t20.54\t28.84\t10.41\t19.93\t12.33\t18.11\t5.39\t11.94\t4.12\t7.37\t0.37\t3.95\t4.55\t7.12\t1.08\t4.25\r",
      "7grass\t3\tFr_FF_3\tF. roemeri\tFrench_flat\t1\tSOR\t620\t-88\t626.2140209\t226.19\t47\t3\t2648.36\t2\t18.76\t42.1\t-123.63\t448\t1.03\t7.51\t0.13\t2.17\t0.02\t20.36\t18.72\t1.64\t51.42\t30.2\t18.38\tsandy clay loam\t20\t103.35\t34.31\t262.31\t1599.87\t20.54\t28.84\t10.41\t19.93\t12.33\t18.11\t5.39\t11.94\t4.12\t7.37\t0.37\t3.95\t4.55\t7.12\t1.08\t4.25\r",
      "8grass\t4\tFr_FF_4\tF. roemeri\tFrench_flat\t1\tSOR\t328\t57\t332.9159053\t439.82\t38\t0\t1583.46\t2\t18.76\t42.1\t-123.63\t448\t1.03\t7.51\t0.13\t2.17\t0.02\t20.36\t18.72\t1.64\t51.42\t30.2\t18.38\tsandy clay loam\t20\t103.35\t34.31\t262.31\t1599.87\t20.54\t28.84\t10.41\t19.93\t12.33\t18.11\t5.39\t11.94\t4.12\t7.37\t0.37\t3.95\t4.55\t7.12\t1.08\t4.25\r",
      "9grass\t5\tFr_FF_5\tF. roemeri\tFrench_flat\t1\tSOR\t275\t-135\t306.3494736\t791.68\t35\t0\t1458.45\t1\t18.76\t42.1\t-123.63\t448\t1.03\t7.51\t0.13\t2.17\t0.02\t20.36\t18.72\t1.64\t51.42\t30.2\t18.38\tsandy clay loam\t20\t103.35\t34.31\t262.31\t1599.87\t20.54\t28.84\t10.41\t19.93\t12.33\t18.11\t5.39\t11.94\t4.12\t7.37\t0.37\t3.95\t4.55\t7.12\t1.08\t4.25\r",
      "10grass\t6\tFr_FF_6\tF. roemeri\tFrench_flat\t1\tSOR\t45\t-96\t106.0235823\t142.94\t24\t0\t1444.56\t1\t18.76\t42.1\t-123.63\t448\t1.03\t7.51\t0.13\t2.17\t0.02\t20.36\t18.72\t1.64\t51.42\t30.2\t18.38\tsandy clay loam\t20\t103.35\t34.31\t262.31\t1599.87\t20.54\t28.84\t10.41\t19.93\t12.33\t18.11\t5.39\t11.94\t4.12\t7.37\t0.37\t3.95\t4.55\t7.12\t1.08\t4.25\r",
      "11grass\t7\tFr_FF_7\tF. roemeri\tFrench_flat\t1\tSOR\t670\t-80\t674.7592163\t141.37\t33\t0\t2291.85\t2\t18.76\t42.1\t-123.63\t448\t1.03\t7.51\t0.13\t2.17\t0.02\t20.36\t18.72\t1.64\t51.42\t30.2\t18.38\tsandy clay loam\t20\t103.35\t34.31\t262.31\t1599.87\t20.54\t28.84\t10.41\t19.93\t12.33\t18.11\t5.39\t11.94\t4.12\t7.37\t0.37\t3.95\t4.55\t7.12\t1.08\t4.25\r",
      "12grass\t8\tFr_FF_8\tF. roemeri\tFrench_flat\t1\tSOR\t150\t68\t164.693655\t62.83\t9\t0\t333.36\t2\t18.76\t42.1\t-123.63\t448\t1.03\t7.51\t0.13\t2.17\t0.02\t20.36\t18.72\t1.64\t51.42\t30.2\t18.38\tsandy clay loam\t20\t103.35\t34.31\t262.31\t1599.87\t20.54\t28.84\t10.41\t19.93\t12.33\t18.11\t5.39\t11.94\t4.12\t7.37\t0.37\t3.95\t4.55\t7.12\t1.08\t4.25\r",
      "13grass\t9\tFr_FF_9\tF. roemeri\tFrench_flat\t1\tSOR\t353\t60\t358.0628436\t125.66\t31\t0\t1435.3\t2\t18.76\t42.1\t-123.63\t448\t1.03\t7.51\t0.13\t2.17\t0.02\t20.36\t18.72\t1.64\t51.42\t30.2\t18.38\tsandy clay loam\t20\t103.35\t34.31\t262.31\t1599.87\t20.54\t28.84\t10.41\t19.93\t12.33\t18.11\t5.39\t11.94\t4.12\t7.37\t0.37\t3.95\t4.55\t7.12\t1.08\t4.25\r",
      "14grass\t10\tFr_FF_10\tF. roemeri\tFrench_flat\t1\tSOR\t430\t123\t447.2460173\t117.81\t1\t0\t41.67\t2\t18.76\t42.1\t-123.63\t448\t1.03\t7.51\t0.13\t2.17\t0.02\t20.36\t18.72\t1.64\t51.42\t30.2\t18.38\tsandy clay loam\t20\t103.35\t34.31\t262.31\t1599.87\t20.54\t28.84\t10.41\t19.93\t12.33\t18.11\t5.39\t11.94\t4.12\t7.37\t0.37\t3.95\t4.55\t7.12\t1.08\t4.25\r",
      "15grass\t11\tFr_FF_11\tF. roemeri\tFrench_flat\t1\tSOR\t855\t88\t859.5167247\t455.53\t5\t0\t277.8\t1\t18.76\t42.1\t-123.63\t448\t1.03\t7.51\t0.13\t2.17\t0.02\t20.36\t18.72\t1.64\t51.42\t30.2\t18.38\tsandy clay loam\t20\t103.35\t34.31\t262.31\t1599.87\t20.54\t28.84\t10.41\t19.93\t12.33\t18.11\t5.39\t11.94\t4.12\t7.37\t0.37\t3.95\t4.55\t7.12\t1.08\t4.25\r",
      "16grass\t12\tFr_FF_12\tF. roemeri\tFrench_flat\t1\tSOR\t499\t115\t512.0800719\t42.41\t8\t0\t333.36\t2\t18.76\t42.1\t-123.63\t448\t1.03\t7.51\t0.13\t2.17\t0.02\t20.36\t18.72\t1.64\t51.42\t30.2\t18.38\tsandy clay loam\t20\t103.35\t34.31\t262.31\t1599.87\t20.54\t28.84\t10.41\t19.93\t12.33\t18.11\t5.39\t11.94\t4.12\t7.37\t0.37\t3.95\t4.55\t7.12\t1.08\t4.25\r",
      "77grass\t13\tFr_RA_1\tF. roemeri\tRoxy_Ann\t2\tSOR\t590\t-222\t630.3840099\t70.69\t5\t0\t486.15\t1\t6.3\t42.35\t-122.79\t949\t1.26\t6.93\t0.2\t3.05\t0.03\t20.83\t14.02\t6.81\t33.13\t35.4\t31.47\tclay loam\t87\t62.39\t26.56\t106.49\t781.73\t16.91\t24.92\t8.61\t16.81\t10.67\t17.74\t4.72\t11.04\t4.44\t10.55\t0.83\t5.27\t3.66\t6.11\t-0.15\t3.21\r",
      "78grass\t14\tFr_RA_2\tF. roemeri\tRoxy_Ann\t2\tSOR\t778\t-246\t815.9656856\t56.55\t6\t0\t527.82\t1\t6.3\t42.35\t-122.79\t949\t1.26\t6.93\t0.2\t3.05\t0.03\t20.83\t14.02\t6.81\t33.13\t35.4\t31.47\tclay loam\t87\t62.39\t26.56\t106.49\t781.73\t16.91\t24.92\t8.61\t16.81\t10.67\t17.74\t4.72\t11.04\t4.44\t10.55\t0.83\t5.27\t3.66\t6.11\t-0.15\t3.21\r",
      "79grass\t15\tFr_RA_3\tF. roemeri\tRoxy_Ann\t2\tSOR\t901\t-63\t903.1998671\t148.44\t3\t0\t375.03\t2\t6.3\t42.35\t-122.79\t949\t1.26\t6.93\t0.2\t3.05\t0.03\t20.83\t14.02\t6.81\t33.13\t35.4\t31.47\tclay loam\t87\t62.39\t26.56\t106.49\t781.73\t16.91\t24.92\t8.61\t16.81\t10.67\t17.74\t4.72\t11.04\t4.44\t10.55\t0.83\t5.27\t3.66\t6.11\t-0.15\t3.21\r",
      "80grass\t16\tFr_RA_4\tF. roemeri\tRoxy_Ann\t2\tSOR\t1222\t-10\t1222.040916\t146.87\t3\t1\t138.9\t2\t6.3\t42.35\t-122.79\t949\t1.26\t6.93\t0.2\t3.05\t0.03\t20.83\t14.02\t6.81\t33.13\t35.4\t31.47\tclay loam\t87\t62.39\t26.56\t106.49\t781.73\t16.91\t24.92\t8.61\t16.81\t10.67\t17.74\t4.72\t11.04\t4.44\t10.55\t0.83\t5.27\t3.66\t6.11\t-0.15\t3.21\r",
      "81grass\t17\tFr_RA_5\tF. roemeri\tRoxy_Ann\t2\tSOR\t1354\t83\t1356.541559\t39.27\t1\t0\t60.19\t3\t6.3\t42.35\t-122.79\t949\t1.26\t6.93\t0.2\t3.05\t0.03\t20.83\t14.02\t6.81\t33.13\t35.4\t31.47\tclay loam\t87\t62.39\t26.56\t106.49\t781.73\t16.91\t24.92\t8.61\t16.81\t10.67\t17.74\t4.72\t11.04\t4.44\t10.55\t0.83\t5.27\t3.66\t6.11\t-0.15\t3.21\r",
      "82grass\t18\tFr_RA_6\tF. roemeri\tRoxy_Ann\t2\tSOR\t-90\t274\t288.4024965\t50.27\t12\t0\t666.72\t3\t6.3\t42.35\t-122.79\t949\t1.26\t6.93\t0.2\t3.05\t0.03\t20.83\t14.02\t6.81\t33.13\t35.4\t31.47\tclay loam\t87\t62.39\t26.56\t106.49\t781.73\t16.91\t24.92\t8.61\t16.81\t10.67\t17.74\t4.72\t11.04\t4.44\t10.55\t0.83\t5.27\t3.66\t6.11\t-0.15\t3.21\r",
      "83grass\t19\tFr_RA_7\tF. roemeri\tRoxy_Ann\t2\tSOR\t-96\t281\t296.9461231\t53.41\t5\t0\t324.1\t2\t6.3\t42.35\t-122.79\t949\t1.26\t6.93\t0.2\t3.05\t0.03\t20.83\t14.02\t6.81\t33.13\t35.4\t31.47\tclay loam\t87\t62.39\t26.56\t106.49\t781.73\t16.91\t24.92\t8.61\t16.81\t10.67\t17.74\t4.72\t11.04\t4.44\t10.55\t0.83\t5.27\t3.66\t6.11\t-0.15\t3.21\r",
      "84grass\t20\tFr_RA_8\tF. roemeri\tRoxy_Ann\t2\tSOR\t-110\t299\t318.5922158\t38.48\t2\t0\t148.16\t2\t6.3\t42.35\t-122.79\t949\t1.26\t6.93\t0.2\t3.05\t0.03\t20.83\t14.02\t6.81\t33.13\t35.4\t31.47\tclay loam\t87\t62.39\t26.56\t106.49\t781.73\t16.91\t24.92\t8.61\t16.81\t10.67\t17.74\t4.72\t11.04\t4.44\t10.55\t0.83\t5.27\t3.66\t6.11\t-0.15\t3.21\r",
      "85grass\t21\tFr_RA_9\tF. roemeri\tRoxy_Ann\t2\tSOR\t-125\t304\t328.6959081\t19.63\t1\t0\t60.19\t2\t6.3\t42.35\t-122.79\t949\t1.26\t6.93\t0.2\t3.05\t0.03\t20.83\t14.02\t6.81\t33.13\t35.4\t31.47\tclay loam\t87\t62.39\t26.56\t106.49\t781.73\t16.91\t24.92\t8.61\t16.81\t10.67\t17.74\t4.72\t11.04\t4.44\t10.55\t0.83\t5.27\t3.66\t6.11\t-0.15\t3.21\r",
      "86grass\t22\tFr_RA_10\tF. roemeri\tRoxy_Ann\t2\tSOR\t-100\t288\t304.8671842\t21.99\t1\t0\t41.67\t2\t6.3\t42.35\t-122.79\t949\t1.26\t6.93\t0.2\t3.05\t0.03\t20.83\t14.02\t6.81\t33.13\t35.4\t31.47\tclay loam\t87\t62.39\t26.56\t106.49\t781.73\t16.91\t24.92\t8.61\t16.81\t10.67\t17.74\t4.72\t11.04\t4.44\t10.55\t0.83\t5.27\t3.66\t6.11\t-0.15\t3.21\r",
      "87grass\t23\tFr_RA_11\tF. roemeri\tRoxy_Ann\t2\tSOR\t-99\t280\t296.9865317\t29.45\t1\t0\t50.93\t1\t6.3\t42.35\t-122.79\t949\t1.26\t6.93\t0.2\t3.05\t0.03\t20.83\t14.02\t6.81\t33.13\t35.4\t31.47\tclay loam\t87\t62.39\t26.56\t106.49\t781.73\t16.91\t24.92\t8.61\t16.81\t10.67\t17.74\t4.72\t11.04\t4.44\t10.55\t0.83\t5.27\t3.66\t6.11\t-0.15\t3.21\r",
      "88grass\t24\tFr_RA_12\tF. roemeri\tRoxy_Ann\t2\tSOR\t-90\t279\t293.1569545\t60.48\t5\t0\t300.95\t2\t6.3\t42.35\t-122.79\t949\t1.26\t6.93\t0.2\t3.05\t0.03\t20.83\t14.02\t6.81\t33.13\t35.4\t31.47\tclay loam\t87\t62.39\t26.56\t106.49\t781.73\t16.91\t24.92\t8.61\t16.81\t10.67\t17.74\t4.72\t11.04\t4.44\t10.55\t0.83\t5.27\t3.66\t6.11\t-0.15\t3.21\r",
      "17grass\t25\tFr_UT_1\tF. roemeri\tUpper_Table\t5\tSOR\t1486\t210\t1500.765138\t226.19\t2\t1\t115.75\t2\t13.32\t42.47\t-122.88\t418\t0.95\t7.31\t0.2\t2.5\t0.02\t28.8\t26.18\t2.62\t28.92\t38.17\t32.91\tclay loam\t14\t37.62\t18.85\t87.34\t575.23\t20.79\t28.64\t10.38\t19.94\t12.94\t18.7\t5.39\t12.34\t5.08\t8.76\t0.39\t4.74\t5.21\t7.73\t1.69\t4.88\r",
      "18grass\t26\tFr_UT_2\tF. roemeri\tUpper_Table\t5\tSOR\t1486\t182\t1497.103871\t179.07\t4\t0\t314.84\t2\t13.32\t42.47\t-122.88\t418\t0.95\t7.31\t0.2\t2.5\t0.02\t28.8\t26.18\t2.62\t28.92\t38.17\t32.91\tclay loam\t14\t37.62\t18.85\t87.34\t575.23\t20.79\t28.64\t10.38\t19.94\t12.94\t18.7\t5.39\t12.34\t5.08\t8.76\t0.39\t4.74\t5.21\t7.73\t1.69\t4.88\r",
      "19grass\t27\tFr_UT_3\tF. roemeri\tUpper_Table\t5\tSOR\t1385\t-90\t1387.921107\t280.39\t7\t0\t583.38\t2\t13.32\t42.47\t-122.88\t418\t0.95\t7.31\t0.2\t2.5\t0.02\t28.8\t26.18\t2.62\t28.92\t38.17\t32.91\tclay loam\t14\t37.62\t18.85\t87.34\t575.23\t20.79\t28.64\t10.38\t19.94\t12.94\t18.7\t5.39\t12.34\t5.08\t8.76\t0.39\t4.74\t5.21\t7.73\t1.69\t4.88\r",
      "20grass\t28\tFr_UT_4\tF. roemeri\tUpper_Table\t5\tSOR\t890\t-114\t897.2714194\t175.93\t26\t1\t1389\t2\t13.32\t42.47\t-122.88\t418\t0.95\t7.31\t0.2\t2.5\t0.02\t28.8\t26.18\t2.62\t28.92\t38.17\t32.91\tclay loam\t14\t37.62\t18.85\t87.34\t575.23\t20.79\t28.64\t10.38\t19.94\t12.94\t18.7\t5.39\t12.34\t5.08\t8.76\t0.39\t4.74\t5.21\t7.73\t1.69\t4.88\r",
      "21grass\t29\tFr_UT_5\tF. roemeri\tUpper_Table\t5\tSOR\t795\t-118\t803.7095246\t188.5\t7\t0\t648.2\t2\t13.32\t42.47\t-122.88\t418\t0.95\t7.31\t0.2\t2.5\t0.02\t28.8\t26.18\t2.62\t28.92\t38.17\t32.91\tclay loam\t14\t37.62\t18.85\t87.34\t575.23\t20.79\t28.64\t10.38\t19.94\t12.94\t18.7\t5.39\t12.34\t5.08\t8.76\t0.39\t4.74\t5.21\t7.73\t1.69\t4.88\r",
      "22grass\t30\tFr_UT_6\tF. roemeri\tUpper_Table\t5\tSOR\t673\t-150\t689.5135967\t125.66\t3\t0\t222.24\t3\t13.32\t42.47\t-122.88\t418\t0.95\t7.31\t0.2\t2.5\t0.02\t28.8\t26.18\t2.62\t28.92\t38.17\t32.91\tclay loam\t14\t37.62\t18.85\t87.34\t575.23\t20.79\t28.64\t10.38\t19.94\t12.94\t18.7\t5.39\t12.34\t5.08\t8.76\t0.39\t4.74\t5.21\t7.73\t1.69\t4.88\r",
      "23grass\t31\tFr_UT_7\tF. roemeri\tUpper_Table\t5\tSOR\t640\t-60\t642.8063472\t186.92\t1\t0\t46.3\t2\t13.32\t42.47\t-122.88\t418\t0.95\t7.31\t0.2\t2.5\t0.02\t28.8\t26.18\t2.62\t28.92\t38.17\t32.91\tclay loam\t14\t37.62\t18.85\t87.34\t575.23\t20.79\t28.64\t10.38\t19.94\t12.94\t18.7\t5.39\t12.34\t5.08\t8.76\t0.39\t4.74\t5.21\t7.73\t1.69\t4.88\r",
      "24grass\t32\tFr_UT_8\tF. roemeri\tUpper_Table\t5\tSOR\t582\t-46\t583.8150392\t94.25\t1\t0\t74.08\t2\t13.32\t42.47\t-122.88\t418\t0.95\t7.31\t0.2\t2.5\t0.02\t28.8\t26.18\t2.62\t28.92\t38.17\t32.91\tclay loam\t14\t37.62\t18.85\t87.34\t575.23\t20.79\t28.64\t10.38\t19.94\t12.94\t18.7\t5.39\t12.34\t5.08\t8.76\t0.39\t4.74\t5.21\t7.73\t1.69\t4.88\r",
      "25grass\t33\tFr_UT_9\tF. roemeri\tUpper_Table\t5\tSOR\t542\t-66\t546.003663\t125.66\t7\t0\t486.15\t3\t13.32\t42.47\t-122.88\t418\t0.95\t7.31\t0.2\t2.5\t0.02\t28.8\t26.18\t2.62\t28.92\t38.17\t32.91\tclay loam\t14\t37.62\t18.85\t87.34\t575.23\t20.79\t28.64\t10.38\t19.94\t12.94\t18.7\t5.39\t12.34\t5.08\t8.76\t0.39\t4.74\t5.21\t7.73\t1.69\t4.88\r",
      "26grass\t34\tFr_UT_10\tF. roemeri\tUpper_Table\t5\tSOR\t92\t-5\t92.13576938\t263.89\t7\t0\t550.97\t3\t13.32\t42.47\t-122.88\t418\t0.95\t7.31\t0.2\t2.5\t0.02\t28.8\t26.18\t2.62\t28.92\t38.17\t32.91\tclay loam\t14\t37.62\t18.85\t87.34\t575.23\t20.79\t28.64\t10.38\t19.94\t12.94\t18.7\t5.39\t12.34\t5.08\t8.76\t0.39\t4.74\t5.21\t7.73\t1.69\t4.88\r",
      "27grass\t35\tFr_UT_11\tF. roemeri\tUpper_Table\t5\tSOR\t139\t210\t251.8352636\t230.91\t4\t0\t611.16\t1\t13.32\t42.47\t-122.88\t418\t0.95\t7.31\t0.2\t2.5\t0.02\t28.8\t26.18\t2.62\t28.92\t38.17\t32.91\tclay loam\t14\t37.62\t18.85\t87.34\t575.23\t20.79\t28.64\t10.38\t19.94\t12.94\t18.7\t5.39\t12.34\t5.08\t8.76\t0.39\t4.74\t5.21\t7.73\t1.69\t4.88\r",
      "28grass\t36\tFr_UT_12\tF. roemeri\tUpper_Table\t5\tSOR\t222\t259\t341.1231449\t98.96\t11\t0\t1069.53\t3\t13.32\t42.47\t-122.88\t418\t0.95\t7.31\t0.2\t2.5\t0.02\t28.8\t26.18\t2.62\t28.92\t38.17\t32.91\tclay loam\t14\t37.62\t18.85\t87.34\t575.23\t20.79\t28.64\t10.38\t19.94\t12.94\t18.7\t5.39\t12.34\t5.08\t8.76\t0.39\t4.74\t5.21\t7.73\t1.69\t4.88\r",
      "29grass\t37\tFr_HD_1\tF. roemeri\tHazel_Dell\t6\tCOR\t528\t220\t572\t402.91\t2\t0\t148.16\t2\t9.33\t44.03\t-123.22\t169\t0.99\t6.52\t0.3\t3.73\t0.03\t21.78\t17.58\t4.2\t29.53\t42.55\t27.92\tclay\t66.33\t78.03\t33.13\t169.9\t1124.22\t17.86\t24.45\t9.61\t17.31\t11.7\t16.65\t5.72\t11.36\t5.53\t8.84\t1.82\t5.4\t6.82\t9.8\t3.31\t6.64\r",
      "30grass\t38\tFr_HD_2\tF. roemeri\tHazel_Dell\t6\tCOR\t712\t205\t740.9244226\t226.19\t9\t0\t1166.76\t1\t9.33\t44.03\t-123.22\t169\t0.99\t6.52\t0.3\t3.73\t0.03\t21.78\t17.58\t4.2\t29.53\t42.55\t27.92\tclay\t66.33\t78.03\t33.13\t169.9\t1124.22\t17.86\t24.45\t9.61\t17.31\t11.7\t16.65\t5.72\t11.36\t5.53\t8.84\t1.82\t5.4\t6.82\t9.8\t3.31\t6.64\r",
      "31grass\t39\tFr_HD_3\tF. roemeri\tHazel_Dell\t6\tCOR\t715\t157\t732.0341522\t414.69\t2\t0\t185.2\t2\t9.33\t44.03\t-123.22\t169\t0.99\t6.52\t0.3\t3.73\t0.03\t21.78\t17.58\t4.2\t29.53\t42.55\t27.92\tclay\t66.33\t78.03\t33.13\t169.9\t1124.22\t17.86\t24.45\t9.61\t17.31\t11.7\t16.65\t5.72\t11.36\t5.53\t8.84\t1.82\t5.4\t6.82\t9.8\t3.31\t6.64\r",
      "32grass\t40\tFr_HD_4\tF. roemeri\tHazel_Dell\t6\tCOR\t915\t146\t926.5748755\t614.97\t0\t0\t0\t2\t9.33\t44.03\t-123.22\t169\t0.99\t6.52\t0.3\t3.73\t0.03\t21.78\t17.58\t4.2\t29.53\t42.55\t27.92\tclay\t66.33\t78.03\t33.13\t169.9\t1124.22\t17.86\t24.45\t9.61\t17.31\t11.7\t16.65\t5.72\t11.36\t5.53\t8.84\t1.82\t5.4\t6.82\t9.8\t3.31\t6.64\r",
      "33grass\t41\tFr_HD_5\tF. roemeri\tHazel_Dell\t6\tCOR\t1358\t150\t1366.259126\t603.19\t6\t0\t555.6\t1\t9.33\t44.03\t-123.22\t169\t0.99\t6.52\t0.3\t3.73\t0.03\t21.78\t17.58\t4.2\t29.53\t42.55\t27.92\tclay\t66.33\t78.03\t33.13\t169.9\t1124.22\t17.86\t24.45\t9.61\t17.31\t11.7\t16.65\t5.72\t11.36\t5.53\t8.84\t1.82\t5.4\t6.82\t9.8\t3.31\t6.64\r",
      "34grass\t42\tFr_HD_6\tF. roemeri\tHazel_Dell\t6\tCOR\t1681\t184\t1691.040212\t412.33\t10\t0\t1203.8\t1\t9.33\t44.03\t-123.22\t169\t0.99\t6.52\t0.3\t3.73\t0.03\t21.78\t17.58\t4.2\t29.53\t42.55\t27.92\tclay\t66.33\t78.03\t33.13\t169.9\t1124.22\t17.86\t24.45\t9.61\t17.31\t11.7\t16.65\t5.72\t11.36\t5.53\t8.84\t1.82\t5.4\t6.82\t9.8\t3.31\t6.64\r",
      "35grass\t43\tFr_HD_7\tF. roemeri\tHazel_Dell\t6\tCOR\t1845\t227\t1858.912047\t530.93\t5\t0\t509.3\t2\t9.33\t44.03\t-123.22\t169\t0.99\t6.52\t0.3\t3.73\t0.03\t21.78\t17.58\t4.2\t29.53\t42.55\t27.92\tclay\t66.33\t78.03\t33.13\t169.9\t1124.22\t17.86\t24.45\t9.61\t17.31\t11.7\t16.65\t5.72\t11.36\t5.53\t8.84\t1.82\t5.4\t6.82\t9.8\t3.31\t6.64\r",
      "36grass\t44\tFr_HD_8\tF. roemeri\tHazel_Dell\t6\tCOR\t1864\t188\t1873.456698\t164.93\t21\t0\t2041.83\t1\t9.33\t44.03\t-123.22\t169\t0.99\t6.52\t0.3\t3.73\t0.03\t21.78\t17.58\t4.2\t29.53\t42.55\t27.92\tclay\t66.33\t78.03\t33.13\t169.9\t1124.22\t17.86\t24.45\t9.61\t17.31\t11.7\t16.65\t5.72\t11.36\t5.53\t8.84\t1.82\t5.4\t6.82\t9.8\t3.31\t6.64\r",
      "37grass\t45\tFr_HD_9\tF. roemeri\tHazel_Dell\t6\tCOR\t2015\t190\t2023.937993\t765.76\t6\t0\t555.6\t3\t9.33\t44.03\t-123.22\t169\t0.99\t6.52\t0.3\t3.73\t0.03\t21.78\t17.58\t4.2\t29.53\t42.55\t27.92\tclay\t66.33\t78.03\t33.13\t169.9\t1124.22\t17.86\t24.45\t9.61\t17.31\t11.7\t16.65\t5.72\t11.36\t5.53\t8.84\t1.82\t5.4\t6.82\t9.8\t3.31\t6.64\r",
      "38grass\t46\tFr_HD_10\tF. roemeri\tHazel_Dell\t6\tCOR\t2099\t120\t2102.427407\t527\t8\t0\t851.92\t2\t9.33\t44.03\t-123.22\t169\t0.99\t6.52\t0.3\t3.73\t0.03\t21.78\t17.58\t4.2\t29.53\t42.55\t27.92\tclay\t66.33\t78.03\t33.13\t169.9\t1124.22\t17.86\t24.45\t9.61\t17.31\t11.7\t16.65\t5.72\t11.36\t5.53\t8.84\t1.82\t5.4\t6.82\t9.8\t3.31\t6.64\r",
      "39grass\t47\tFr_HD_11\tF. roemeri\tHazel_Dell\t6\tCOR\t2510\t210\t2518.769541\t571.77\t1\t0\t83.34\t1\t9.33\t44.03\t-123.22\t169\t0.99\t6.52\t0.3\t3.73\t0.03\t21.78\t17.58\t4.2\t29.53\t42.55\t27.92\tclay\t66.33\t78.03\t33.13\t169.9\t1124.22\t17.86\t24.45\t9.61\t17.31\t11.7\t16.65\t5.72\t11.36\t5.53\t8.84\t1.82\t5.4\t6.82\t9.8\t3.31\t6.64\r",
      "40grass\t48\tFr_HD_12\tF. roemeri\tHazel_Dell\t6\tCOR\t2649\t73\t2650.00566\t197.92\t2\t0\t175.94\t3\t9.33\t44.03\t-123.22\t169\t0.99\t6.52\t0.3\t3.73\t0.03\t21.78\t17.58\t4.2\t29.53\t42.55\t27.92\tclay\t66.33\t78.03\t33.13\t169.9\t1124.22\t17.86\t24.45\t9.61\t17.31\t11.7\t16.65\t5.72\t11.36\t5.53\t8.84\t1.82\t5.4\t6.82\t9.8\t3.31\t6.64\r",
      "41grass\t49\tFr_HR_1\tF. roemeri\tHorse_Rock\t7\tCOR\t118\t-177\t212.7275253\t226.19\t9\t0\t958.41\t1\t11.28\t44.3\t-122.88\t627\t0.37\t6.01\t0.6\t8.65\t0.03\t25.94\t15.2\t10.74\t59.16\t15.81\t25.03\tsandy loam\t3.66\t176.14\t80.06\t283.79\t2159.97\t15.13\t21.84\t6.72\t14.56\t9.33\t14.59\t3.16\t9.03\t3.53\t7.33\t-0.39\t3.49\t4.71\t7.77\t0.69\t4.39\r",
      "42grass\t50\tFr_HR_2\tF. roemeri\tHorse_Rock\t7\tCOR\t276\t-264\t381.9319311\t117.81\t2\t0\t296.32\t1\t11.28\t44.3\t-122.88\t627\t0.37\t6.01\t0.6\t8.65\t0.03\t25.94\t15.2\t10.74\t59.16\t15.81\t25.03\tsandy loam\t3.66\t176.14\t80.06\t283.79\t2159.97\t15.13\t21.84\t6.72\t14.56\t9.33\t14.59\t3.16\t9.03\t3.53\t7.33\t-0.39\t3.49\t4.71\t7.77\t0.69\t4.39\r",
      "43grass\t51\tFr_HR_3\tF. roemeri\tHorse_Rock\t7\tCOR\t349\t-275\t444.3264566\t253.68\t5\t0\t416.7\t1\t11.28\t44.3\t-122.88\t627\t0.37\t6.01\t0.6\t8.65\t0.03\t25.94\t15.2\t10.74\t59.16\t15.81\t25.03\tsandy loam\t3.66\t176.14\t80.06\t283.79\t2159.97\t15.13\t21.84\t6.72\t14.56\t9.33\t14.59\t3.16\t9.03\t3.53\t7.33\t-0.39\t3.49\t4.71\t7.77\t0.69\t4.39\r",
      "44grass\t52\tFr_HR_4\tF. roemeri\tHorse_Rock\t7\tCOR\t400\t-259\t476.5301669\t131.95\t2\t0\t175.94\t2\t11.28\t44.3\t-122.88\t627\t0.37\t6.01\t0.6\t8.65\t0.03\t25.94\t15.2\t10.74\t59.16\t15.81\t25.03\tsandy loam\t3.66\t176.14\t80.06\t283.79\t2159.97\t15.13\t21.84\t6.72\t14.56\t9.33\t14.59\t3.16\t9.03\t3.53\t7.33\t-0.39\t3.49\t4.71\t7.77\t0.69\t4.39\r",
      "45grass\t53\tFr_HR_5\tF. roemeri\tHorse_Rock\t7\tCOR\t560\t-282\t626.9960127\t307.09\t1\t0\t157.42\t1\t11.28\t44.3\t-122.88\t627\t0.37\t6.01\t0.6\t8.65\t0.03\t25.94\t15.2\t10.74\t59.16\t15.81\t25.03\tsandy loam\t3.66\t176.14\t80.06\t283.79\t2159.97\t15.13\t21.84\t6.72\t14.56\t9.33\t14.59\t3.16\t9.03\t3.53\t7.33\t-0.39\t3.49\t4.71\t7.77\t0.69\t4.39\r",
      "46grass\t54\tFr_HR_6\tF. roemeri\tHorse_Rock\t7\tCOR\t596\t-282\t659.348163\t98.96\t5\t0\t578.75\t3\t11.28\t44.3\t-122.88\t627\t0.37\t6.01\t0.6\t8.65\t0.03\t25.94\t15.2\t10.74\t59.16\t15.81\t25.03\tsandy loam\t3.66\t176.14\t80.06\t283.79\t2159.97\t15.13\t21.84\t6.72\t14.56\t9.33\t14.59\t3.16\t9.03\t3.53\t7.33\t-0.39\t3.49\t4.71\t7.77\t0.69\t4.39\r",
      "47grass\t55\tFr_HR_7\tF. roemeri\tHorse_Rock\t7\tCOR\t611\t-346\t700.2035418\t208.92\t3\t0\t333.36\t1\t11.28\t44.3\t-122.88\t627\t0.37\t6.01\t0.6\t8.65\t0.03\t25.94\t15.2\t10.74\t59.16\t15.81\t25.03\tsandy loam\t3.66\t176.14\t80.06\t283.79\t2159.97\t15.13\t21.84\t6.72\t14.56\t9.33\t14.59\t3.16\t9.03\t3.53\t7.33\t-0.39\t3.49\t4.71\t7.77\t0.69\t4.39\r",
      "48grass\t56\tFr_HR_8\tF. roemeri\tHorse_Rock\t7\tCOR\t658\t-146\t674.0029674\t120.95\t1\t0\t78.71\t2\t11.28\t44.3\t-122.88\t627\t0.37\t6.01\t0.6\t8.65\t0.03\t25.94\t15.2\t10.74\t59.16\t15.81\t25.03\tsandy loam\t3.66\t176.14\t80.06\t283.79\t2159.97\t15.13\t21.84\t6.72\t14.56\t9.33\t14.59\t3.16\t9.03\t3.53\t7.33\t-0.39\t3.49\t4.71\t7.77\t0.69\t4.39\r",
      "49grass\t57\tFr_HR_9\tF. roemeri\tHorse_Rock\t7\tCOR\t736\t-147\t750.5364748\t94.25\t3\t0\t458.37\t1\t11.28\t44.3\t-122.88\t627\t0.37\t6.01\t0.6\t8.65\t0.03\t25.94\t15.2\t10.74\t59.16\t15.81\t25.03\tsandy loam\t3.66\t176.14\t80.06\t283.79\t2159.97\t15.13\t21.84\t6.72\t14.56\t9.33\t14.59\t3.16\t9.03\t3.53\t7.33\t-0.39\t3.49\t4.71\t7.77\t0.69\t4.39\r",
      "50grass\t58\tFr_HR_10\tF. roemeri\tHorse_Rock\t7\tCOR\t829\t-101\t835.12993\t77.75\t1\t0\t83.34\t2\t11.28\t44.3\t-122.88\t627\t0.37\t6.01\t0.6\t8.65\t0.03\t25.94\t15.2\t10.74\t59.16\t15.81\t25.03\tsandy loam\t3.66\t176.14\t80.06\t283.79\t2159.97\t15.13\t21.84\t6.72\t14.56\t9.33\t14.59\t3.16\t9.03\t3.53\t7.33\t-0.39\t3.49\t4.71\t7.77\t0.69\t4.39\r",
      "51grass\t59\tFr_HR_11\tF. roemeri\tHorse_Rock\t7\tCOR\t950\t-39\t950.8001893\t164.93\t2\t0\t240.76\t2\t11.28\t44.3\t-122.88\t627\t0.37\t6.01\t0.6\t8.65\t0.03\t25.94\t15.2\t10.74\t59.16\t15.81\t25.03\tsandy loam\t3.66\t176.14\t80.06\t283.79\t2159.97\t15.13\t21.84\t6.72\t14.56\t9.33\t14.59\t3.16\t9.03\t3.53\t7.33\t-0.39\t3.49\t4.71\t7.77\t0.69\t4.39\r",
      "52grass\t60\tFr_HR_12\tF. roemeri\tHorse_Rock\t7\tCOR\t580\t126\t593.5284323\t186.92\t3\t0\t263.91\t2\t11.28\t44.3\t-122.88\t627\t0.37\t6.01\t0.6\t8.65\t0.03\t25.94\t15.2\t10.74\t59.16\t15.81\t25.03\tsandy loam\t3.66\t176.14\t80.06\t283.79\t2159.97\t15.13\t21.84\t6.72\t14.56\t9.33\t14.59\t3.16\t9.03\t3.53\t7.33\t-0.39\t3.49\t4.71\t7.77\t0.69\t4.39\r",
      "53grass\t61\tFr_UW_1\tF. roemeri\tUpper_Weir\t8\tWA\t2577\t75\t2578.091154\t367.57\t11\t0\t1171.39\t2\t32.43\t46.91\t-122.71\t162\t0.55\t5.51\t0.93\t13.2\t0.03\t59.22\t24.48\t34.74\t69.83\t3.93\t26.23\tsandy loam\t22\t81.82\t47.09\t167.4\t1185.22\t16.42\t21.66\t8.51\t15.53\t10.99\t15.4\t4.92\t10.44\t5.55\t9.14\t1.32\t5.34\t5.76\t9.73\t2.32\t5.94\r",
      "54grass\t62\tFr_UW_2\tF. roemeri\tUpper_Weir\t8\tWA\t2279\t141\t2283.357615\t164.93\t2\t0\t138.9\t2\t32.43\t46.91\t-122.71\t162\t0.55\t5.51\t0.93\t13.2\t0.03\t59.22\t24.48\t34.74\t69.83\t3.93\t26.23\tsandy loam\t22\t81.82\t47.09\t167.4\t1185.22\t16.42\t21.66\t8.51\t15.53\t10.99\t15.4\t4.92\t10.44\t5.55\t9.14\t1.32\t5.34\t5.76\t9.73\t2.32\t5.94\r",
      "55grass\t63\tFr_UW_3\tF. roemeri\tUpper_Weir\t8\tWA\t2303\t69\t2304.03342\t172.79\t11\t1\t787.1\t3\t32.43\t46.91\t-122.71\t162\t0.55\t5.51\t0.93\t13.2\t0.03\t59.22\t24.48\t34.74\t69.83\t3.93\t26.23\tsandy loam\t22\t81.82\t47.09\t167.4\t1185.22\t16.42\t21.66\t8.51\t15.53\t10.99\t15.4\t4.92\t10.44\t5.55\t9.14\t1.32\t5.34\t5.76\t9.73\t2.32\t5.94\r",
      "56grass\t64\tFr_UW_4\tF. roemeri\tUpper_Weir\t8\tWA\t2172\t119\t2175.257456\t86.39\t3\t0\t166.68\t2\t32.43\t46.91\t-122.71\t162\t0.55\t5.51\t0.93\t13.2\t0.03\t59.22\t24.48\t34.74\t69.83\t3.93\t26.23\tsandy loam\t22\t81.82\t47.09\t167.4\t1185.22\t16.42\t21.66\t8.51\t15.53\t10.99\t15.4\t4.92\t10.44\t5.55\t9.14\t1.32\t5.34\t5.76\t9.73\t2.32\t5.94\r",
      "57grass\t65\tFr_UW_5\tF. roemeri\tUpper_Weir\t8\tWA\t1889\t280\t1909.638971\t329.87\t23\t0\t2023.31\t1\t32.43\t46.91\t-122.71\t162\t0.55\t5.51\t0.93\t13.2\t0.03\t59.22\t24.48\t34.74\t69.83\t3.93\t26.23\tsandy loam\t22\t81.82\t47.09\t167.4\t1185.22\t16.42\t21.66\t8.51\t15.53\t10.99\t15.4\t4.92\t10.44\t5.55\t9.14\t1.32\t5.34\t5.76\t9.73\t2.32\t5.94\r",
      "58grass\t66\tFr_UW_6\tF. roemeri\tUpper_Weir\t8\tWA\t1782\t142\t1787.648735\t200.28\t29\t0\t2685.4\t2\t32.43\t46.91\t-122.71\t162\t0.55\t5.51\t0.93\t13.2\t0.03\t59.22\t24.48\t34.74\t69.83\t3.93\t26.23\tsandy loam\t22\t81.82\t47.09\t167.4\t1185.22\t16.42\t21.66\t8.51\t15.53\t10.99\t15.4\t4.92\t10.44\t5.55\t9.14\t1.32\t5.34\t5.76\t9.73\t2.32\t5.94\r",
      "59grass\t67\tFr_UW_7\tF. roemeri\tUpper_Weir\t8\tWA\t1603\t35\t1603.382051\t153.94\t9\t0\t1500.12\t3\t32.43\t46.91\t-122.71\t162\t0.55\t5.51\t0.93\t13.2\t0.03\t59.22\t24.48\t34.74\t69.83\t3.93\t26.23\tsandy loam\t22\t81.82\t47.09\t167.4\t1185.22\t16.42\t21.66\t8.51\t15.53\t10.99\t15.4\t4.92\t10.44\t5.55\t9.14\t1.32\t5.34\t5.76\t9.73\t2.32\t5.94\r",
      "60grass\t68\tFr_UW_8\tF. roemeri\tUpper_Weir\t8\tWA\t1570\t289\t1596.377462\t280.39\t0\t0\t0\t3\t32.43\t46.91\t-122.71\t162\t0.55\t5.51\t0.93\t13.2\t0.03\t59.22\t24.48\t34.74\t69.83\t3.93\t26.23\tsandy loam\t22\t81.82\t47.09\t167.4\t1185.22\t16.42\t21.66\t8.51\t15.53\t10.99\t15.4\t4.92\t10.44\t5.55\t9.14\t1.32\t5.34\t5.76\t9.73\t2.32\t5.94\r",
      "61grass\t69\tFr_UW_9\tF. roemeri\tUpper_Weir\t8\tWA\t1635\t223\t1650.13757\t179.07\t3\t0\t236.13\t3\t32.43\t46.91\t-122.71\t162\t0.55\t5.51\t0.93\t13.2\t0.03\t59.22\t24.48\t34.74\t69.83\t3.93\t26.23\tsandy loam\t22\t81.82\t47.09\t167.4\t1185.22\t16.42\t21.66\t8.51\t15.53\t10.99\t15.4\t4.92\t10.44\t5.55\t9.14\t1.32\t5.34\t5.76\t9.73\t2.32\t5.94\r",
      "62grass\t70\tFr_UW_10\tF. roemeri\tUpper_Weir\t8\tWA\t1087\t366\t1146.963382\t112.31\t2\t0\t175.94\t2\t32.43\t46.91\t-122.71\t162\t0.55\t5.51\t0.93\t13.2\t0.03\t59.22\t24.48\t34.74\t69.83\t3.93\t26.23\tsandy loam\t22\t81.82\t47.09\t167.4\t1185.22\t16.42\t21.66\t8.51\t15.53\t10.99\t15.4\t4.92\t10.44\t5.55\t9.14\t1.32\t5.34\t5.76\t9.73\t2.32\t5.94\r",
      "63grass\t71\tFr_UW_11\tF. roemeri\tUpper_Weir\t8\tWA\t978\t358\t1041.464354\t112.31\t3\t0\t250.02\t1\t32.43\t46.91\t-122.71\t162\t0.55\t5.51\t0.93\t13.2\t0.03\t59.22\t24.48\t34.74\t69.83\t3.93\t26.23\tsandy loam\t22\t81.82\t47.09\t167.4\t1185.22\t16.42\t21.66\t8.51\t15.53\t10.99\t15.4\t4.92\t10.44\t5.55\t9.14\t1.32\t5.34\t5.76\t9.73\t2.32\t5.94\r",
      "64grass\t72\tFr_UW_12\tF. roemeri\tUpper_Weir\t8\tWA\t721\t124\t731.585265\t153.94\t15\t0\t1458.45\t2\t32.43\t46.91\t-122.71\t162\t0.55\t5.51\t0.93\t13.2\t0.03\t59.22\t24.48\t34.74\t69.83\t3.93\t26.23\tsandy loam\t22\t81.82\t47.09\t167.4\t1185.22\t16.42\t21.66\t8.51\t15.53\t10.99\t15.4\t4.92\t10.44\t5.55\t9.14\t1.32\t5.34\t5.76\t9.73\t2.32\t5.94\r",
      "65grass\t73\tFr_WH_1\tF. roemeri\tWhidbey\t9\tWA\t25\t-102\t105.0190459\t267.04\t11\t0\t1324.18\t2\t23.16\t48.21\t-122.62\t64\t1.02\t6.01\t0.9\t11.9\t0.03\t114.12\t109.52\t4.6\t84.47\t5.18\t10.36\tloamy fine sand\t35.6\t42.74\t29.87\t62.58\t540.75\t15.13\t19.27\t8.5\t14.3\t10.87\t14.54\t5.68\t10.37\t6.61\t9.81\t2.86\t6.43\t6.26\t10.09\t2.49\t6.28\r",
      "66grass\t74\tFr_WH_2\tF. roemeri\tWhidbey\t9\tWA\t157\t-72\t172.7223205\t200.28\t23\t0\t2129.8\t1\t23.16\t48.21\t-122.62\t64\t1.02\t6.01\t0.9\t11.9\t0.03\t114.12\t109.52\t4.6\t84.47\t5.18\t10.36\tloamy fine sand\t35.6\t42.74\t29.87\t62.58\t540.75\t15.13\t19.27\t8.5\t14.3\t10.87\t14.54\t5.68\t10.37\t6.61\t9.81\t2.86\t6.43\t6.26\t10.09\t2.49\t6.28\r",
      "67grass\t75\tFr_WH_3\tF. roemeri\tWhidbey\t9\tWA\t155\t-55\t164.468842\t200.28\t1\t0\t46.3\t1\t23.16\t48.21\t-122.62\t64\t1.02\t6.01\t0.9\t11.9\t0.03\t114.12\t109.52\t4.6\t84.47\t5.18\t10.36\tloamy fine sand\t35.6\t42.74\t29.87\t62.58\t540.75\t15.13\t19.27\t8.5\t14.3\t10.87\t14.54\t5.68\t10.37\t6.61\t9.81\t2.86\t6.43\t6.26\t10.09\t2.49\t6.28\r",
      "68grass\t76\tFr_WH_4\tF. roemeri\tWhidbey\t9\tWA\t204\t-122\t237.6972865\t120.95\t8\t0\t703.76\t0\t23.16\t48.21\t-122.62\t64\t1.02\t6.01\t0.9\t11.9\t0.03\t114.12\t109.52\t4.6\t84.47\t5.18\t10.36\tloamy fine sand\t35.6\t42.74\t29.87\t62.58\t540.75\t15.13\t19.27\t8.5\t14.3\t10.87\t14.54\t5.68\t10.37\t6.61\t9.81\t2.86\t6.43\t6.26\t10.09\t2.49\t6.28\r",
      "69grass\t77\tFr_WH_5\tF. roemeri\tWhidbey\t9\tWA\t308\t-114\t328.4204622\t141.37\t1\t1\t0\t2\t23.16\t48.21\t-122.62\t64\t1.02\t6.01\t0.9\t11.9\t0.03\t114.12\t109.52\t4.6\t84.47\t5.18\t10.36\tloamy fine sand\t35.6\t42.74\t29.87\t62.58\t540.75\t15.13\t19.27\t8.5\t14.3\t10.87\t14.54\t5.68\t10.37\t6.61\t9.81\t2.86\t6.43\t6.26\t10.09\t2.49\t6.28\r",
      "70grass\t78\tFr_WH_6\tF. roemeri\tWhidbey\t9\tWA\t356\t-108\t372.0215048\t160.22\t8.5\t0\t669.035\t4\t23.16\t48.21\t-122.62\t64\t1.02\t6.01\t0.9\t11.9\t0.03\t114.12\t109.52\t4.6\t84.47\t5.18\t10.36\tloamy fine sand\t35.6\t42.74\t29.87\t62.58\t540.75\t15.13\t19.27\t8.5\t14.3\t10.87\t14.54\t5.68\t10.37\t6.61\t9.81\t2.86\t6.43\t6.26\t10.09\t2.49\t6.28\r",
      "71grass\t79\tFr_WH_7\tF. roemeri\tWhidbey\t9\tWA\t358\t-66\t364.0329655\t235.62\t17\t0\t2282.59\t1\t23.16\t48.21\t-122.62\t64\t1.02\t6.01\t0.9\t11.9\t0.03\t114.12\t109.52\t4.6\t84.47\t5.18\t10.36\tloamy fine sand\t35.6\t42.74\t29.87\t62.58\t540.75\t15.13\t19.27\t8.5\t14.3\t10.87\t14.54\t5.68\t10.37\t6.61\t9.81\t2.86\t6.43\t6.26\t10.09\t2.49\t6.28\r",
      "72grass\t80\tFr_WH_8\tF. roemeri\tWhidbey\t9\tWA\t427\t-93\t437.0102974\t212.06\t6\t0\t777.84\t1\t23.16\t48.21\t-122.62\t64\t1.02\t6.01\t0.9\t11.9\t0.03\t114.12\t109.52\t4.6\t84.47\t5.18\t10.36\tloamy fine sand\t35.6\t42.74\t29.87\t62.58\t540.75\t15.13\t19.27\t8.5\t14.3\t10.87\t14.54\t5.68\t10.37\t6.61\t9.81\t2.86\t6.43\t6.26\t10.09\t2.49\t6.28\r",
      "73grass\t81\tFr_WH_9\tF. roemeri\tWhidbey\t9\tWA\t559\t-273\t622.1012779\t141.37\t5\t1\t314.84\t2\t23.16\t48.21\t-122.62\t64\t1.02\t6.01\t0.9\t11.9\t0.03\t114.12\t109.52\t4.6\t84.47\t5.18\t10.36\tloamy fine sand\t35.6\t42.74\t29.87\t62.58\t540.75\t15.13\t19.27\t8.5\t14.3\t10.87\t14.54\t5.68\t10.37\t6.61\t9.81\t2.86\t6.43\t6.26\t10.09\t2.49\t6.28\r",
      "74grass\t82\tFr_WH_10\tF. roemeri\tWhidbey\t9\tWA\t398\t-263\t477.0461194\t343.22\t37\t0\t6509.78\t2\t23.16\t48.21\t-122.62\t64\t1.02\t6.01\t0.9\t11.9\t0.03\t114.12\t109.52\t4.6\t84.47\t5.18\t10.36\tloamy fine sand\t35.6\t42.74\t29.87\t62.58\t540.75\t15.13\t19.27\t8.5\t14.3\t10.87\t14.54\t5.68\t10.37\t6.61\t9.81\t2.86\t6.43\t6.26\t10.09\t2.49\t6.28\r",
      "75grass\t83\tFr_WH_11\tF. roemeri\tWhidbey\t9\tWA\t539\t-377\t657.7613549\t112.31\t8\t0\t703.76\t2\t23.16\t48.21\t-122.62\t64\t1.02\t6.01\t0.9\t11.9\t0.03\t114.12\t109.52\t4.6\t84.47\t5.18\t10.36\tloamy fine sand\t35.6\t42.74\t29.87\t62.58\t540.75\t15.13\t19.27\t8.5\t14.3\t10.87\t14.54\t5.68\t10.37\t6.61\t9.81\t2.86\t6.43\t6.26\t10.09\t2.49\t6.28\r",
      "76grass\t84\tFr_WH_12\tF. roemeri\tWhidbey\t9\tWA\t795\t121\t804.1554576\t120.95\t1\t0\t115.75\t2\t23.16\t48.21\t-122.62\t64\t1.02\t6.01\t0.9\t11.9\t0.03\t114.12\t109.52\t4.6\t84.47\t5.18\t10.36\tloamy fine sand\t35.6\t42.74\t29.87\t62.58\t540.75\t15.13\t19.27\t8.5\t14.3\t10.87\t14.54\t5.68\t10.37\t6.61\t9.81\t2.86\t6.43\t6.26\t10.09\t2.49\t6.28\r",
      "89grass\t85\tDc_FF_1\tD. californica\tFrench_flat\t1\tSOR\t9\t58\t58.69412236\t131.95\t5\t0\t37.5\t2\t42.82\t42.1\t-123.63\t448\t1.46\t7.53\t0.15\t2.247\t0.0244\t33.67\t32.23\t1.44\t51.93\t25.98\t22.09\tsandy clay loam\t47.33\t103.35\t34.31\t262.31\t1599.87\t20.54\t28.84\t10.41\t19.93\t12.33\t18.11\t5.39\t11.94\t4.12\t7.37\t0.37\t3.95\t4.55\t7.12\t1.08\t4.25\r",
      "90grass\t86\tDc_FF_2\tD. californica\tFrench_flat\t1\tSOR\t108\t97\t145.1654229\t311.02\t15\t0\t150\t1\t42.82\t42.1\t-123.63\t448\t1.46\t7.53\t0.15\t2.247\t0.0244\t33.67\t32.23\t1.44\t51.93\t25.98\t22.09\tsandy clay loam\t47.33\t103.35\t34.31\t262.31\t1599.87\t20.54\t28.84\t10.41\t19.93\t12.33\t18.11\t5.39\t11.94\t4.12\t7.37\t0.37\t3.95\t4.55\t7.12\t1.08\t4.25\r",
      "91grass\t87\tDc_FF_3\tD. californica\tFrench_flat\t1\tSOR\t113\t123\t167.0269439\t208.92\t10\t0\t75\t2\t42.82\t42.1\t-123.63\t448\t1.46\t7.53\t0.15\t2.247\t0.0244\t33.67\t32.23\t1.44\t51.93\t25.98\t22.09\tsandy clay loam\t47.33\t103.35\t34.31\t262.31\t1599.87\t20.54\t28.84\t10.41\t19.93\t12.33\t18.11\t5.39\t11.94\t4.12\t7.37\t0.37\t3.95\t4.55\t7.12\t1.08\t4.25\r",
      "92grass\t88\tDc_FF_4\tD. californica\tFrench_flat\t1\tSOR\t208\t60\t216.480946\t280.39\t8\t0\t40\t1\t42.82\t42.1\t-123.63\t448\t1.46\t7.53\t0.15\t2.247\t0.0244\t33.67\t32.23\t1.44\t51.93\t25.98\t22.09\tsandy clay loam\t47.33\t103.35\t34.31\t262.31\t1599.87\t20.54\t28.84\t10.41\t19.93\t12.33\t18.11\t5.39\t11.94\t4.12\t7.37\t0.37\t3.95\t4.55\t7.12\t1.08\t4.25\r",
      "93grass\t89\tDc_FF_5\tD. californica\tFrench_flat\t1\tSOR\t271\t69\t279.6462051\t230.91\t9\t0\t67.5\t2\t42.82\t42.1\t-123.63\t448\t1.46\t7.53\t0.15\t2.247\t0.0244\t33.67\t32.23\t1.44\t51.93\t25.98\t22.09\tsandy clay loam\t47.33\t103.35\t34.31\t262.31\t1599.87\t20.54\t28.84\t10.41\t19.93\t12.33\t18.11\t5.39\t11.94\t4.12\t7.37\t0.37\t3.95\t4.55\t7.12\t1.08\t4.25\r",
      "94grass\t90\tDc_FF_6\tD. californica\tFrench_flat\t1\tSOR\t446\t56\t449.5019466\t102.1\t10\t0\t75\t2\t42.82\t42.1\t-123.63\t448\t1.46\t7.53\t0.15\t2.247\t0.0244\t33.67\t32.23\t1.44\t51.93\t25.98\t22.09\tsandy clay loam\t47.33\t103.35\t34.31\t262.31\t1599.87\t20.54\t28.84\t10.41\t19.93\t12.33\t18.11\t5.39\t11.94\t4.12\t7.37\t0.37\t3.95\t4.55\t7.12\t1.08\t4.25\r",
      "95grass\t91\tDc_FF_7\tD. californica\tFrench_flat\t1\tSOR\t499\t31\t499.9619986\t433.54\t20\t0\t100\t1\t42.82\t42.1\t-123.63\t448\t1.46\t7.53\t0.15\t2.247\t0.0244\t33.67\t32.23\t1.44\t51.93\t25.98\t22.09\tsandy clay loam\t47.33\t103.35\t34.31\t262.31\t1599.87\t20.54\t28.84\t10.41\t19.93\t12.33\t18.11\t5.39\t11.94\t4.12\t7.37\t0.37\t3.95\t4.55\t7.12\t1.08\t4.25\r",
      "96grass\t92\tDc_FF_8\tD. californica\tFrench_flat\t1\tSOR\t533\t34\t534.0833268\t117.81\t6\t0\t30\t2\t42.82\t42.1\t-123.63\t448\t1.46\t7.53\t0.15\t2.247\t0.0244\t33.67\t32.23\t1.44\t51.93\t25.98\t22.09\tsandy clay loam\t47.33\t103.35\t34.31\t262.31\t1599.87\t20.54\t28.84\t10.41\t19.93\t12.33\t18.11\t5.39\t11.94\t4.12\t7.37\t0.37\t3.95\t4.55\t7.12\t1.08\t4.25\r",
      "97grass\t93\tDc_FF_9\tD. californica\tFrench_flat\t1\tSOR\t592\t9\t592.0684082\t153.15\t9\t0\t67.5\t2\t42.82\t42.1\t-123.63\t448\t1.46\t7.53\t0.15\t2.247\t0.0244\t33.67\t32.23\t1.44\t51.93\t25.98\t22.09\tsandy clay loam\t47.33\t103.35\t34.31\t262.31\t1599.87\t20.54\t28.84\t10.41\t19.93\t12.33\t18.11\t5.39\t11.94\t4.12\t7.37\t0.37\t3.95\t4.55\t7.12\t1.08\t4.25\r",
      "98grass\t94\tDc_FF_10\tD. californica\tFrench_flat\t1\tSOR\t1106\t130\t1113.613937\t204.2\t3\t0\t15\t1\t42.82\t42.1\t-123.63\t448\t1.46\t7.53\t0.15\t2.247\t0.0244\t33.67\t32.23\t1.44\t51.93\t25.98\t22.09\tsandy clay loam\t47.33\t103.35\t34.31\t262.31\t1599.87\t20.54\t28.84\t10.41\t19.93\t12.33\t18.11\t5.39\t11.94\t4.12\t7.37\t0.37\t3.95\t4.55\t7.12\t1.08\t4.25\r",
      "99grass\t95\tDc_FF_11\tD. californica\tFrench_flat\t1\tSOR\t1239\t119\t1244.701571\t70.69\t5\t0\t37.5\t3\t42.82\t42.1\t-123.63\t448\t1.46\t7.53\t0.15\t2.247\t0.0244\t33.67\t32.23\t1.44\t51.93\t25.98\t22.09\tsandy clay loam\t47.33\t103.35\t34.31\t262.31\t1599.87\t20.54\t28.84\t10.41\t19.93\t12.33\t18.11\t5.39\t11.94\t4.12\t7.37\t0.37\t3.95\t4.55\t7.12\t1.08\t4.25\r",
      "100grass\t96\tDc_FF_12\tD. californica\tFrench_flat\t1\tSOR\t1266\t99\t1269.864953\t155.51\t17\t0\t127.5\t1\t42.82\t42.1\t-123.63\t448\t1.46\t7.53\t0.15\t2.247\t0.0244\t33.67\t32.23\t1.44\t51.93\t25.98\t22.09\tsandy clay loam\t47.33\t103.35\t34.31\t262.31\t1599.87\t20.54\t28.84\t10.41\t19.93\t12.33\t18.11\t5.39\t11.94\t4.12\t7.37\t0.37\t3.95\t4.55\t7.12\t1.08\t4.25\r",
      "101grass\t97\tDc_WS_1\tD. californica\tWhetstone\t3\tSOR\t30\t8\t31.04834939\t400.55\t33\t0\t247.5\t3\t0.53\t42.42\t-122.91\t382\t1.23\t6.34\t0.117\t1.617\t0.0293\t41.62\t36.28\t5.34\t61.58\t19.21\t19.21\tsandy loam\t42.66\t33.2\t16.39\t78.24\t511.32\t20.85\t28.71\t10.4\t19.98\t13.16\t18.92\t5.56\t12.55\t5.47\t9.13\t0.72\t5.11\t5.69\t8.12\t2.25\t5.35\r",
      "102grass\t98\tDc_WS_2\tD. californica\tWhetstone\t3\tSOR\t72\t60\t93.72299611\t163.36\t18\t0\t135\t3\t0.53\t42.42\t-122.91\t382\t1.23\t6.34\t0.117\t1.617\t0.0293\t41.62\t36.28\t5.34\t61.58\t19.21\t19.21\tsandy loam\t42.66\t33.2\t16.39\t78.24\t511.32\t20.85\t28.71\t10.4\t19.98\t13.16\t18.92\t5.56\t12.55\t5.47\t9.13\t0.72\t5.11\t5.69\t8.12\t2.25\t5.35\r",
      "103grass\t99\tDc_WS_3\tD. californica\tWhetstone\t3\tSOR\t154\t48\t161.3071604\t54.98\t4\t0\t30\t3\t0.53\t42.42\t-122.91\t382\t1.23\t6.34\t0.117\t1.617\t0.0293\t41.62\t36.28\t5.34\t61.58\t19.21\t19.21\tsandy loam\t42.66\t33.2\t16.39\t78.24\t511.32\t20.85\t28.71\t10.4\t19.98\t13.16\t18.92\t5.56\t12.55\t5.47\t9.13\t0.72\t5.11\t5.69\t8.12\t2.25\t5.35\r",
      "104grass\t100\tDc_WS_4\tD. californica\tWhetstone\t3\tSOR\t508\t72\t513.0769923\t98.96\t16\t0\t160\t2\t0.53\t42.42\t-122.91\t382\t1.23\t6.34\t0.117\t1.617\t0.0293\t41.62\t36.28\t5.34\t61.58\t19.21\t19.21\tsandy loam\t42.66\t33.2\t16.39\t78.24\t511.32\t20.85\t28.71\t10.4\t19.98\t13.16\t18.92\t5.56\t12.55\t5.47\t9.13\t0.72\t5.11\t5.69\t8.12\t2.25\t5.35\r",
      "105grass\t101\tDc_WS_5\tD. californica\tWhetstone\t3\tSOR\t712\t11\t712.0849668\t155.51\t18\t0\t135\t1\t0.53\t42.42\t-122.91\t382\t1.23\t6.34\t0.117\t1.617\t0.0293\t41.62\t36.28\t5.34\t61.58\t19.21\t19.21\tsandy loam\t42.66\t33.2\t16.39\t78.24\t511.32\t20.85\t28.71\t10.4\t19.98\t13.16\t18.92\t5.56\t12.55\t5.47\t9.13\t0.72\t5.11\t5.69\t8.12\t2.25\t5.35\r",
      "106grass\t102\tDc_WS_6\tD. californica\tWhetstone\t3\tSOR\t813\t64\t815.5151746\t213.63\t23\t0\t172.5\t3\t0.53\t42.42\t-122.91\t382\t1.23\t6.34\t0.117\t1.617\t0.0293\t41.62\t36.28\t5.34\t61.58\t19.21\t19.21\tsandy loam\t42.66\t33.2\t16.39\t78.24\t511.32\t20.85\t28.71\t10.4\t19.98\t13.16\t18.92\t5.56\t12.55\t5.47\t9.13\t0.72\t5.11\t5.69\t8.12\t2.25\t5.35\r",
      "107grass\t103\tDc_WS_7\tD. californica\tWhetstone\t3\tSOR\t922\t10\t922.0542283\t120.95\t22\t0\t165\t2\t0.53\t42.42\t-122.91\t382\t1.23\t6.34\t0.117\t1.617\t0.0293\t41.62\t36.28\t5.34\t61.58\t19.21\t19.21\tsandy loam\t42.66\t33.2\t16.39\t78.24\t511.32\t20.85\t28.71\t10.4\t19.98\t13.16\t18.92\t5.56\t12.55\t5.47\t9.13\t0.72\t5.11\t5.69\t8.12\t2.25\t5.35\r",
      "108grass\t104\tDc_WS_8\tD. californica\tWhetstone\t3\tSOR\t1069\t12\t1069.067351\t160.22\t17\t1\t120\t2\t0.53\t42.42\t-122.91\t382\t1.23\t6.34\t0.117\t1.617\t0.0293\t41.62\t36.28\t5.34\t61.58\t19.21\t19.21\tsandy loam\t42.66\t33.2\t16.39\t78.24\t511.32\t20.85\t28.71\t10.4\t19.98\t13.16\t18.92\t5.56\t12.55\t5.47\t9.13\t0.72\t5.11\t5.69\t8.12\t2.25\t5.35\r",
      "109grass\t105\tDc_WS_9\tD. californica\tWhetstone\t3\tSOR\t1414\t22\t1414.171135\t69.12\t6\t0\t30\t3\t0.53\t42.42\t-122.91\t382\t1.23\t6.34\t0.117\t1.617\t0.0293\t41.62\t36.28\t5.34\t61.58\t19.21\t19.21\tsandy loam\t42.66\t33.2\t16.39\t78.24\t511.32\t20.85\t28.71\t10.4\t19.98\t13.16\t18.92\t5.56\t12.55\t5.47\t9.13\t0.72\t5.11\t5.69\t8.12\t2.25\t5.35\r",
      "110grass\t106\tDc_WS_10\tD. californica\tWhetstone\t3\tSOR\t1566\t38\t1566.460979\t102.1\t2\t0\t15\t2\t0.53\t42.42\t-122.91\t382\t1.23\t6.34\t0.117\t1.617\t0.0293\t41.62\t36.28\t5.34\t61.58\t19.21\t19.21\tsandy loam\t42.66\t33.2\t16.39\t78.24\t511.32\t20.85\t28.71\t10.4\t19.98\t13.16\t18.92\t5.56\t12.55\t5.47\t9.13\t0.72\t5.11\t5.69\t8.12\t2.25\t5.35\r",
      "111grass\t107\tDc_WS_11\tD. californica\tWhetstone\t3\tSOR\t1757\t23\t1757.150534\t103.67\t22\t0\t165\t1\t0.53\t42.42\t-122.91\t382\t1.23\t6.34\t0.117\t1.617\t0.0293\t41.62\t36.28\t5.34\t61.58\t19.21\t19.21\tsandy loam\t42.66\t33.2\t16.39\t78.24\t511.32\t20.85\t28.71\t10.4\t19.98\t13.16\t18.92\t5.56\t12.55\t5.47\t9.13\t0.72\t5.11\t5.69\t8.12\t2.25\t5.35\r",
      "112grass\t108\tDc_WS_12\tD. californica\tWhetstone\t3\tSOR\t2050\t5\t2050.006098\t77.75\t18\t1\t170\t2\t0.53\t42.42\t-122.91\t382\t1.23\t6.34\t0.117\t1.617\t0.0293\t41.62\t36.28\t5.34\t61.58\t19.21\t19.21\tsandy loam\t42.66\t33.2\t16.39\t78.24\t511.32\t20.85\t28.71\t10.4\t19.98\t13.16\t18.92\t5.56\t12.55\t5.47\t9.13\t0.72\t5.11\t5.69\t8.12\t2.25\t5.35\r",
      "113grass\t109\tDc_LT_1\tD. californica\tLower_Table\t4\tSOR\t2654\t10\t2654.018839\t164.93\t55\t0\t550\t4\t6.01\t42.47\t-122.95\t427\t1.23\t6.95\t0.188\t3.015\t0.0231\t36.16\t34.08\t2.08\t46.54\t33.9\t19.56\tsandy clay loam\t11\t37.17\t17.62\t84.83\t558.49\t20.7\t28.57\t10.32\t19.86\t12.9\t18.68\t5.36\t12.31\t5.1\t8.78\t0.39\t4.76\t5.2\t7.71\t1.51\t4.81\r",
      "114grass\t110\tDc_LT_2\tD. californica\tLower_Table\t4\tSOR\t2297\t15\t2297.048976\t122.52\t36\t0\t270\t3\t6.01\t42.47\t-122.95\t427\t1.23\t6.95\t0.188\t3.015\t0.0231\t36.16\t34.08\t2.08\t46.54\t33.9\t19.56\tsandy clay loam\t11\t37.17\t17.62\t84.83\t558.49\t20.7\t28.57\t10.32\t19.86\t12.9\t18.68\t5.36\t12.31\t5.1\t8.78\t0.39\t4.76\t5.2\t7.71\t1.51\t4.81\r",
      "115grass\t111\tDc_LT_3\tD. californica\tLower_Table\t4\tSOR\t2259\t127\t2262.567126\t81.68\t20\t0\t150\t3\t6.01\t42.47\t-122.95\t427\t1.23\t6.95\t0.188\t3.015\t0.0231\t36.16\t34.08\t2.08\t46.54\t33.9\t19.56\tsandy clay loam\t11\t37.17\t17.62\t84.83\t558.49\t20.7\t28.57\t10.32\t19.86\t12.9\t18.68\t5.36\t12.31\t5.1\t8.78\t0.39\t4.76\t5.2\t7.71\t1.51\t4.81\r",
      "116grass\t112\tDc_LT_4\tD. californica\tLower_Table\t4\tSOR\t2022\t114\t2025.2111\t311.02\t48\t0\t360\t3\t6.01\t42.47\t-122.95\t427\t1.23\t6.95\t0.188\t3.015\t0.0231\t36.16\t34.08\t2.08\t46.54\t33.9\t19.56\tsandy clay loam\t11\t37.17\t17.62\t84.83\t558.49\t20.7\t28.57\t10.32\t19.86\t12.9\t18.68\t5.36\t12.31\t5.1\t8.78\t0.39\t4.76\t5.2\t7.71\t1.51\t4.81\r",
      "117grass\t113\tDc_LT_5\tD. californica\tLower_Table\t4\tSOR\t1983\t40\t1983.403388\t212.06\t44\t0\t440\t2\t6.01\t42.47\t-122.95\t427\t1.23\t6.95\t0.188\t3.015\t0.0231\t36.16\t34.08\t2.08\t46.54\t33.9\t19.56\tsandy clay loam\t11\t37.17\t17.62\t84.83\t558.49\t20.7\t28.57\t10.32\t19.86\t12.9\t18.68\t5.36\t12.31\t5.1\t8.78\t0.39\t4.76\t5.2\t7.71\t1.51\t4.81\r",
      "118grass\t114\tDc_LT_6\tD. californica\tLower_Table\t4\tSOR\t1972\t112\t1975.177967\t212.06\t46\t0\t345\t3\t6.01\t42.47\t-122.95\t427\t1.23\t6.95\t0.188\t3.015\t0.0231\t36.16\t34.08\t2.08\t46.54\t33.9\t19.56\tsandy clay loam\t11\t37.17\t17.62\t84.83\t558.49\t20.7\t28.57\t10.32\t19.86\t12.9\t18.68\t5.36\t12.31\t5.1\t8.78\t0.39\t4.76\t5.2\t7.71\t1.51\t4.81\r",
      "119grass\t115\tDc_LT_7\tD. californica\tLower_Table\t4\tSOR\t1974\t158\t1980.313107\t163.36\t27\t0\t202.5\t2\t6.01\t42.47\t-122.95\t427\t1.23\t6.95\t0.188\t3.015\t0.0231\t36.16\t34.08\t2.08\t46.54\t33.9\t19.56\tsandy clay loam\t11\t37.17\t17.62\t84.83\t558.49\t20.7\t28.57\t10.32\t19.86\t12.9\t18.68\t5.36\t12.31\t5.1\t8.78\t0.39\t4.76\t5.2\t7.71\t1.51\t4.81\r",
      "120grass\t116\tDc_LT_8\tD. californica\tLower_Table\t4\tSOR\t1879\t131\t1883.560989\t183.78\t27\t0\t202.5\t2\t6.01\t42.47\t-122.95\t427\t1.23\t6.95\t0.188\t3.015\t0.0231\t36.16\t34.08\t2.08\t46.54\t33.9\t19.56\tsandy clay loam\t11\t37.17\t17.62\t84.83\t558.49\t20.7\t28.57\t10.32\t19.86\t12.9\t18.68\t5.36\t12.31\t5.1\t8.78\t0.39\t4.76\t5.2\t7.71\t1.51\t4.81\r",
      "121grass\t117\tDc_LT_9\tD. californica\tLower_Table\t4\tSOR\t1915\t6\t1915.009399\t164.93\t32\t0\t240\t1\t6.01\t42.47\t-122.95\t427\t1.23\t6.95\t0.188\t3.015\t0.0231\t36.16\t34.08\t2.08\t46.54\t33.9\t19.56\tsandy clay loam\t11\t37.17\t17.62\t84.83\t558.49\t20.7\t28.57\t10.32\t19.86\t12.9\t18.68\t5.36\t12.31\t5.1\t8.78\t0.39\t4.76\t5.2\t7.71\t1.51\t4.81\r",
      "122grass\t118\tDc_LT_10\tD. californica\tLower_Table\t4\tSOR\t1844\t24\t1844.156176\t86.39\t16\t0\t120\t4\t6.01\t42.47\t-122.95\t427\t1.23\t6.95\t0.188\t3.015\t0.0231\t36.16\t34.08\t2.08\t46.54\t33.9\t19.56\tsandy clay loam\t11\t37.17\t17.62\t84.83\t558.49\t20.7\t28.57\t10.32\t19.86\t12.9\t18.68\t5.36\t12.31\t5.1\t8.78\t0.39\t4.76\t5.2\t7.71\t1.51\t4.81\r",
      "123grass\t119\tDc_LT_11\tD. californica\tLower_Table\t4\tSOR\t1767\t114\t1770.673601\t173.57\t21\t0\t105\t2\t6.01\t42.47\t-122.95\t427\t1.23\t6.95\t0.188\t3.015\t0.0231\t36.16\t34.08\t2.08\t46.54\t33.9\t19.56\tsandy clay loam\t11\t37.17\t17.62\t84.83\t558.49\t20.7\t28.57\t10.32\t19.86\t12.9\t18.68\t5.36\t12.31\t5.1\t8.78\t0.39\t4.76\t5.2\t7.71\t1.51\t4.81\r",
      "124grass\t120\tDc_LT_12\tD. californica\tLower_Table\t4\tSOR\t1707\t119\t1711.142893\t94.25\t7\t0\t52.5\t2\t6.01\t42.47\t-122.95\t427\t1.23\t6.95\t0.188\t3.015\t0.0231\t36.16\t34.08\t2.08\t46.54\t33.9\t19.56\tsandy clay loam\t11\t37.17\t17.62\t84.83\t558.49\t20.7\t28.57\t10.32\t19.86\t12.9\t18.68\t5.36\t12.31\t5.1\t8.78\t0.39\t4.76\t5.2\t7.71\t1.51\t4.81\r",
      "125grass\t121\tDc_HD_1\tD. californica\tHazel_Dell\t6\tCOR\t61\t155\t166.5713061\t86.39\t11\t0\t82.5\t2\t16.8\t44.02\t-123.22\t168\t0.96\t6.15\t0.297\t3.682\t0.0308\t25.38\t21.98\t3.4\t33.93\t49.89\t16.18\tclay\t70.33\t77.78\t33\t169.03\t1119.22\t17.87\t24.47\t9.62\t17.32\t11.71\t16.66\t5.72\t11.36\t5.54\t8.84\t1.82\t5.4\t6.81\t9.82\t3.32\t6.65\r",
      "126grass\t122\tDc_HD_2\tD. californica\tHazel_Dell\t6\tCOR\t2733\t128\t2735.995797\t157.08\t5\t0\t37.5\t3\t16.8\t44.02\t-123.22\t168\t0.96\t6.15\t0.297\t3.682\t0.0308\t25.38\t21.98\t3.4\t33.93\t49.89\t16.18\tclay\t70.33\t77.78\t33\t169.03\t1119.22\t17.87\t24.47\t9.62\t17.32\t11.71\t16.66\t5.72\t11.36\t5.54\t8.84\t1.82\t5.4\t6.81\t9.82\t3.32\t6.65\r",
      "127grass\t123\tDc_HD_3\tD. californica\tHazel_Dell\t6\tCOR\t2543\t98\t2544.88762\t141.37\t7\t0\t70\t3\t16.8\t44.02\t-123.22\t168\t0.96\t6.15\t0.297\t3.682\t0.0308\t25.38\t21.98\t3.4\t33.93\t49.89\t16.18\tclay\t70.33\t77.78\t33\t169.03\t1119.22\t17.87\t24.47\t9.62\t17.32\t11.71\t16.66\t5.72\t11.36\t5.54\t8.84\t1.82\t5.4\t6.81\t9.82\t3.32\t6.65\r",
      "128grass\t124\tDc_HD_4\tD. californica\tHazel_Dell\t6\tCOR\t2369\t58\t2369.709898\t94.25\t4\t0\t30\t3\t16.8\t44.02\t-123.22\t168\t0.96\t6.15\t0.297\t3.682\t0.0308\t25.38\t21.98\t3.4\t33.93\t49.89\t16.18\tclay\t70.33\t77.78\t33\t169.03\t1119.22\t17.87\t24.47\t9.62\t17.32\t11.71\t16.66\t5.72\t11.36\t5.54\t8.84\t1.82\t5.4\t6.81\t9.82\t3.32\t6.65\r",
      "129grass\t125\tDc_HD_5\tD. californica\tHazel_Dell\t6\tCOR\t2371\t26\t2371.142552\t117.81\t4\t0\t30\t3\t16.8\t44.02\t-123.22\t168\t0.96\t6.15\t0.297\t3.682\t0.0308\t25.38\t21.98\t3.4\t33.93\t49.89\t16.18\tclay\t70.33\t77.78\t33\t169.03\t1119.22\t17.87\t24.47\t9.62\t17.32\t11.71\t16.66\t5.72\t11.36\t5.54\t8.84\t1.82\t5.4\t6.81\t9.82\t3.32\t6.65\r",
      "130grass\t126\tDc_HD_6\tD. californica\tHazel_Dell\t6\tCOR\t2190\t27\t2190.166432\t102.1\t5\t0\t25\t1\t16.8\t44.02\t-123.22\t168\t0.96\t6.15\t0.297\t3.682\t0.0308\t25.38\t21.98\t3.4\t33.93\t49.89\t16.18\tclay\t70.33\t77.78\t33\t169.03\t1119.22\t17.87\t24.47\t9.62\t17.32\t11.71\t16.66\t5.72\t11.36\t5.54\t8.84\t1.82\t5.4\t6.81\t9.82\t3.32\t6.65\r",
      "131grass\t127\tDc_HD_7\tD. californica\tHazel_Dell\t6\tCOR\t2207\t80\t2208.449456\t43.98\t4\t0\t30\t4\t16.8\t44.02\t-123.22\t168\t0.96\t6.15\t0.297\t3.682\t0.0308\t25.38\t21.98\t3.4\t33.93\t49.89\t16.18\tclay\t70.33\t77.78\t33\t169.03\t1119.22\t17.87\t24.47\t9.62\t17.32\t11.71\t16.66\t5.72\t11.36\t5.54\t8.84\t1.82\t5.4\t6.81\t9.82\t3.32\t6.65\r",
      "132grass\t128\tDc_HD_8\tD. californica\tHazel_Dell\t6\tCOR\t1785\t24\t1785.161337\t70.69\t3\t0\t22.5\t3\t16.8\t44.02\t-123.22\t168\t0.96\t6.15\t0.297\t3.682\t0.0308\t25.38\t21.98\t3.4\t33.93\t49.89\t16.18\tclay\t70.33\t77.78\t33\t169.03\t1119.22\t17.87\t24.47\t9.62\t17.32\t11.71\t16.66\t5.72\t11.36\t5.54\t8.84\t1.82\t5.4\t6.81\t9.82\t3.32\t6.65\r",
      "133grass\t129\tDc_HR_9\tD. californica\tHazel_Dell\t6\tCOR\t1668\t44\t1668.580235\t102.1\t5\t0\t37.5\t2\t16.8\t44.02\t-123.22\t168\t0.96\t6.15\t0.297\t3.682\t0.0308\t25.38\t21.98\t3.4\t33.93\t49.89\t16.18\tclay\t70.33\t77.78\t33\t169.03\t1119.22\t17.87\t24.47\t9.62\t17.32\t11.71\t16.66\t5.72\t11.36\t5.54\t8.84\t1.82\t5.4\t6.81\t9.82\t3.32\t6.65\r",
      "134grass\t130\tDc_HD_10\tD. californica\tHazel_Dell\t6\tCOR\t1604\t25\t1604.194814\t70.69\t4\t0\t20\t2\t16.8\t44.02\t-123.22\t168\t0.96\t6.15\t0.297\t3.682\t0.0308\t25.38\t21.98\t3.4\t33.93\t49.89\t16.18\tclay\t70.33\t77.78\t33\t169.03\t1119.22\t17.87\t24.47\t9.62\t17.32\t11.71\t16.66\t5.72\t11.36\t5.54\t8.84\t1.82\t5.4\t6.81\t9.82\t3.32\t6.65\r",
      "135grass\t131\tDc_HD_11\tD. californica\tHazel_Dell\t6\tCOR\t1480\t43\t1480.62453\t133.52\t4\t0\t30\t2\t16.8\t44.02\t-123.22\t168\t0.96\t6.15\t0.297\t3.682\t0.0308\t25.38\t21.98\t3.4\t33.93\t49.89\t16.18\tclay\t70.33\t77.78\t33\t169.03\t1119.22\t17.87\t24.47\t9.62\t17.32\t11.71\t16.66\t5.72\t11.36\t5.54\t8.84\t1.82\t5.4\t6.81\t9.82\t3.32\t6.65\r",
      "136grass\t132\tDc_HD_12\tD. californica\tHazel_Dell\t6\tCOR\t1444\t83\t1446.383421\t113.1\t12\t0\t90\t3\t16.8\t44.02\t-123.22\t168\t0.96\t6.15\t0.297\t3.682\t0.0308\t25.38\t21.98\t3.4\t33.93\t49.89\t16.18\tclay\t70.33\t77.78\t33\t169.03\t1119.22\t17.87\t24.47\t9.62\t17.32\t11.71\t16.66\t5.72\t11.36\t5.54\t8.84\t1.82\t5.4\t6.81\t9.82\t3.32\t6.65\r",
      "137grass\t133\tDc_HR_1\tD. californica\tHorse_Rock\t7\tCOR\t1263\t145\t1276.332637\t86.39\t3\t0\t22.5\t1\t1.47\t44.3\t-122.88\t791\t0.62\t5.92\t0.502\t6.911\t0.0285\t14.95\t5.71\t9.24\t74\t6.5\t19.5\tsandy loam\t17.5\t176.14\t80.06\t283.79\t2159.97\t15.13\t21.84\t6.72\t14.56\t9.33\t14.59\t3.16\t9.03\t3.53\t7.33\t-0.39\t3.49\t4.71\t7.77\t0.69\t4.39\r",
      "138grass\t134\tDc_HR_2\tD. californica\tHorse_Rock\t7\tCOR\t-150\t37\t154.4959546\t103.67\t8\t0\t60\t2\t1.47\t44.3\t-122.88\t791\t0.62\t5.92\t0.502\t6.911\t0.0285\t14.95\t5.71\t9.24\t74\t6.5\t19.5\tsandy loam\t17.5\t176.14\t80.06\t283.79\t2159.97\t15.13\t21.84\t6.72\t14.56\t9.33\t14.59\t3.16\t9.03\t3.53\t7.33\t-0.39\t3.49\t4.71\t7.77\t0.69\t4.39\r",
      "139grass\t135\tDc_HR_3\tD. californica\tHorse_Rock\t7\tCOR\t-33\t65\t72.89718787\t74.61\t15\t0\t112.5\t2\t1.47\t44.3\t-122.88\t791\t0.62\t5.92\t0.502\t6.911\t0.0285\t14.95\t5.71\t9.24\t74\t6.5\t19.5\tsandy loam\t17.5\t176.14\t80.06\t283.79\t2159.97\t15.13\t21.84\t6.72\t14.56\t9.33\t14.59\t3.16\t9.03\t3.53\t7.33\t-0.39\t3.49\t4.71\t7.77\t0.69\t4.39\r",
      "140grass\t136\tDc_HR_4\tD. californica\tHorse_Rock\t7\tCOR\t-33\t189\t191.8593235\t109.17\t5\t0\t37.5\t2\t1.47\t44.3\t-122.88\t791\t0.62\t5.92\t0.502\t6.911\t0.0285\t14.95\t5.71\t9.24\t74\t6.5\t19.5\tsandy loam\t17.5\t176.14\t80.06\t283.79\t2159.97\t15.13\t21.84\t6.72\t14.56\t9.33\t14.59\t3.16\t9.03\t3.53\t7.33\t-0.39\t3.49\t4.71\t7.77\t0.69\t4.39\r",
      "141grass\t137\tDc_HR_5\tD. californica\tHorse_Rock\t7\tCOR\t75\t-45\t87.46427842\t112.31\t19\t0\t190\t2\t1.47\t44.3\t-122.88\t791\t0.62\t5.92\t0.502\t6.911\t0.0285\t14.95\t5.71\t9.24\t74\t6.5\t19.5\tsandy loam\t17.5\t176.14\t80.06\t283.79\t2159.97\t15.13\t21.84\t6.72\t14.56\t9.33\t14.59\t3.16\t9.03\t3.53\t7.33\t-0.39\t3.49\t4.71\t7.77\t0.69\t4.39\r",
      "142grass\t138\tDc_HR_6\tD. californica\tHorse_Rock\t7\tCOR\t59\t110\t124.8238759\t155.51\t4\t0\t30\t1\t1.47\t44.3\t-122.88\t791\t0.62\t5.92\t0.502\t6.911\t0.0285\t14.95\t5.71\t9.24\t74\t6.5\t19.5\tsandy loam\t17.5\t176.14\t80.06\t283.79\t2159.97\t15.13\t21.84\t6.72\t14.56\t9.33\t14.59\t3.16\t9.03\t3.53\t7.33\t-0.39\t3.49\t4.71\t7.77\t0.69\t4.39\r",
      "143grass\t139\tDc_HR_8\tD. californica\tHorse_Rock\t7\tCOR\t78\t173\t189.7709145\t112.31\t19\t0\t142.5\t2\t1.47\t44.3\t-122.88\t791\t0.62\t5.92\t0.502\t6.911\t0.0285\t14.95\t5.71\t9.24\t74\t6.5\t19.5\tsandy loam\t17.5\t176.14\t80.06\t283.79\t2159.97\t15.13\t21.84\t6.72\t14.56\t9.33\t14.59\t3.16\t9.03\t3.53\t7.33\t-0.39\t3.49\t4.71\t7.77\t0.69\t4.39\r",
      "144grass\t140\tDc_HD_9\tD. californica\tHorse_Rock\t7\tCOR\t107\t207\t233.0193125\t129.59\t18\t0\t135\t2\t1.47\t44.3\t-122.88\t791\t0.62\t5.92\t0.502\t6.911\t0.0285\t14.95\t5.71\t9.24\t74\t6.5\t19.5\tsandy loam\t17.5\t176.14\t80.06\t283.79\t2159.97\t15.13\t21.84\t6.72\t14.56\t9.33\t14.59\t3.16\t9.03\t3.53\t7.33\t-0.39\t3.49\t4.71\t7.77\t0.69\t4.39\r",
      "145grass\t141\tDc_HR_10\tD. californica\tHorse_Rock\t7\tCOR\t150\t110\t186.0107524\t62.83\t4\t0\t40\t3\t1.47\t44.3\t-122.88\t791\t0.62\t5.92\t0.502\t6.911\t0.0285\t14.95\t5.71\t9.24\t74\t6.5\t19.5\tsandy loam\t17.5\t176.14\t80.06\t283.79\t2159.97\t15.13\t21.84\t6.72\t14.56\t9.33\t14.59\t3.16\t9.03\t3.53\t7.33\t-0.39\t3.49\t4.71\t7.77\t0.69\t4.39\r",
      "146grass\t142\tDc_HR_11\tD. californica\tHorse_Rock\t7\tCOR\t109\t76\t132.8796448\t153.15\t11\t0\t82.5\t2\t1.47\t44.3\t-122.88\t791\t0.62\t5.92\t0.502\t6.911\t0.0285\t14.95\t5.71\t9.24\t74\t6.5\t19.5\tsandy loam\t17.5\t176.14\t80.06\t283.79\t2159.97\t15.13\t21.84\t6.72\t14.56\t9.33\t14.59\t3.16\t9.03\t3.53\t7.33\t-0.39\t3.49\t4.71\t7.77\t0.69\t4.39\r",
      "147grass\t143\tDc_HR_12\tD. californica\tHorse_Rock\t7\tCOR\t61\t155\t166.5713061\t109.96\t12\t0\t90\t2\t1.47\t44.3\t-122.88\t791\t0.62\t5.92\t0.502\t6.911\t0.0285\t14.95\t5.71\t9.24\t74\t6.5\t19.5\tsandy loam\t17.5\t176.14\t80.06\t283.79\t2159.97\t15.13\t21.84\t6.72\t14.56\t9.33\t14.59\t3.16\t9.03\t3.53\t7.33\t-0.39\t3.49\t4.71\t7.77\t0.69\t4.39\r",
      "148grass\t144\tDc_WH_1\tD. californica\tWhidbey\t9\tWA\t280\t183\t334.4981315\t25.53\t2\t0\t10\t1\t2.62\t48.21\t-122.62\t64\t1.02\t6.01\t0.9\t11.9\t0.03\t114.12\t109.52\t4.6\t84.47\t5.18\t10.36\tloamy fine sand\t35.6\t42.74\t29.87\t62.58\t540.75\t15.13\t19.27\t8.5\t14.3\t10.87\t14.54\t5.68\t10.37\t6.61\t9.81\t2.86\t6.43\t6.26\t10.09\t2.49\t6.28\r",
      "149grass\t145\tDc_WH_2\tD. californica\tWhidbey\t9\tWA\t295\t173\t341.9853798\t82.47\t3\t0\t30\t3\t2.62\t48.21\t-122.62\t64\t1.02\t6.01\t0.9\t11.9\t0.03\t114.12\t109.52\t4.6\t84.47\t5.18\t10.36\tloamy fine sand\t35.6\t42.74\t29.87\t62.58\t540.75\t15.13\t19.27\t8.5\t14.3\t10.87\t14.54\t5.68\t10.37\t6.61\t9.81\t2.86\t6.43\t6.26\t10.09\t2.49\t6.28\r",
      "150grass\t146\tDc_WH_3\tD. californica\tWhidbey\t9\tWA\t380\t92\t390.9782603\t94.25\t10\t0\t75\t2\t2.62\t48.21\t-122.62\t64\t1.02\t6.01\t0.9\t11.9\t0.03\t114.12\t109.52\t4.6\t84.47\t5.18\t10.36\tloamy fine sand\t35.6\t42.74\t29.87\t62.58\t540.75\t15.13\t19.27\t8.5\t14.3\t10.87\t14.54\t5.68\t10.37\t6.61\t9.81\t2.86\t6.43\t6.26\t10.09\t2.49\t6.28\r",
      "151grass\t147\tDc_WH_4\tD. californica\tWhidbey\t9\tWA\t356\t206\t411.3052395\t22.97\t2\t0\t15\t1\t2.62\t48.21\t-122.62\t64\t1.02\t6.01\t0.9\t11.9\t0.03\t114.12\t109.52\t4.6\t84.47\t5.18\t10.36\tloamy fine sand\t35.6\t42.74\t29.87\t62.58\t540.75\t15.13\t19.27\t8.5\t14.3\t10.87\t14.54\t5.68\t10.37\t6.61\t9.81\t2.86\t6.43\t6.26\t10.09\t2.49\t6.28\r",
      "152grass\t148\tDc_WH_5\tD. californica\tWhidbey\t9\tWA\t415\t123\t432.8440828\t13.74\t1\t0\t7.5\t2\t2.62\t48.21\t-122.62\t64\t1.02\t6.01\t0.9\t11.9\t0.03\t114.12\t109.52\t4.6\t84.47\t5.18\t10.36\tloamy fine sand\t35.6\t42.74\t29.87\t62.58\t540.75\t15.13\t19.27\t8.5\t14.3\t10.87\t14.54\t5.68\t10.37\t6.61\t9.81\t2.86\t6.43\t6.26\t10.09\t2.49\t6.28\r",
      "153grass\t149\tDc_WH_6\tD. californica\tWhidbey\t9\tWA\t430\t122\t446.9720349\t42.41\t4\t2\t15\t1\t2.62\t48.21\t-122.62\t64\t1.02\t6.01\t0.9\t11.9\t0.03\t114.12\t109.52\t4.6\t84.47\t5.18\t10.36\tloamy fine sand\t35.6\t42.74\t29.87\t62.58\t540.75\t15.13\t19.27\t8.5\t14.3\t10.87\t14.54\t5.68\t10.37\t6.61\t9.81\t2.86\t6.43\t6.26\t10.09\t2.49\t6.28\r",
      "154grass\t150\tDc_WH_7\tD. californica\tWhidbey\t9\tWA\t370\t125\t390.5444917\t35.34\t4\t0\t30\t1\t2.62\t48.21\t-122.62\t64\t1.02\t6.01\t0.9\t11.9\t0.03\t114.12\t109.52\t4.6\t84.47\t5.18\t10.36\tloamy fine sand\t35.6\t42.74\t29.87\t62.58\t540.75\t15.13\t19.27\t8.5\t14.3\t10.87\t14.54\t5.68\t10.37\t6.61\t9.81\t2.86\t6.43\t6.26\t10.09\t2.49\t6.28\r",
      "155grass\t151\tDc_WH_8\tD. californica\tWhidbey\t9\tWA\t445\t153\t470.5677422\t42.41\t3\t1\t15\t2\t2.62\t48.21\t-122.62\t64\t1.02\t6.01\t0.9\t11.9\t0.03\t114.12\t109.52\t4.6\t84.47\t5.18\t10.36\tloamy fine sand\t35.6\t42.74\t29.87\t62.58\t540.75\t15.13\t19.27\t8.5\t14.3\t10.87\t14.54\t5.68\t10.37\t6.61\t9.81\t2.86\t6.43\t6.26\t10.09\t2.49\t6.28\r",
      "156grass\t152\tDc_WH_9\tD. californica\tWhidbey\t9\tWA\t524\t130\t539.885173\t213.63\t12\t0\t90\t2\t2.62\t48.21\t-122.62\t64\t1.02\t6.01\t0.9\t11.9\t0.03\t114.12\t109.52\t4.6\t84.47\t5.18\t10.36\tloamy fine sand\t35.6\t42.74\t29.87\t62.58\t540.75\t15.13\t19.27\t8.5\t14.3\t10.87\t14.54\t5.68\t10.37\t6.61\t9.81\t2.86\t6.43\t6.26\t10.09\t2.49\t6.28\r",
      "157grass\t153\tDc_WH_10\tD. californica\tWhidbey\t9\tWA\t544\t133\t560.022321\t125.66\t8\t0\t60\t2\t2.62\t48.21\t-122.62\t64\t1.02\t6.01\t0.9\t11.9\t0.03\t114.12\t109.52\t4.6\t84.47\t5.18\t10.36\tloamy fine sand\t35.6\t42.74\t29.87\t62.58\t540.75\t15.13\t19.27\t8.5\t14.3\t10.87\t14.54\t5.68\t10.37\t6.61\t9.81\t2.86\t6.43\t6.26\t10.09\t2.49\t6.28\r",
      "158grass\t154\tDc_WH_11\tD. californica\tWhidbey\t9\tWA\t572\t127\t585.9291766\t186.92\t10\t0\t75\t2\t2.62\t48.21\t-122.62\t64\t1.02\t6.01\t0.9\t11.9\t0.03\t114.12\t109.52\t4.6\t84.47\t5.18\t10.36\tloamy fine sand\t35.6\t42.74\t29.87\t62.58\t540.75\t15.13\t19.27\t8.5\t14.3\t10.87\t14.54\t5.68\t10.37\t6.61\t9.81\t2.86\t6.43\t6.26\t10.09\t2.49\t6.28\r",
      "159grass\t155\tDc_WH_12\tD. californica\tWhidbey\t9\tWA\t662\t135\t675.6248959\t49.48\t4\t0\t30\t1\t2.62\t48.21\t-122.62\t64\t1.02\t6.01\t0.9\t11.9\t0.03\t114.12\t109.52\t4.6\t84.47\t5.18\t10.36\tloamy fine sand\t35.6\t42.74\t29.87\t62.58\t540.75\t15.13\t19.27\t8.5\t14.3\t10.87\t14.54\t5.68\t10.37\t6.61\t9.81\t2.86\t6.43\t6.26\t10.09\t2.49\t6.28\r",
      "160grass\t156\tPos_X\tPos_X\tControl\t\t\t\t\t\t\t\t\t\t\t\t\t\t\t\t\t\t\t\t\t\t\t\t\t\t\t\t\t\t\t\t\t\t\t\t\t\t\t\t\t\t\t\t\t\t\t\r",
      "161grass\t157\tmock_g\tPos_G\tControl\t\t\t\t\t\t\t\t\t\t\t\t\t\t\t\t\t\t\t\t\t\t\t\t\t\t\t\t\t\t\t\t\t\t\t\t\t\t\t\t\t\t\t\t\t\t\t\r",
      "162grass\t158\tmock_its\tPos_PCR\tControl\t\t\t\t\t\t\t\t\t\t\t\t\t\t\t\t\t\t\t\t\t\t\t\t\t\t\t\t\t\t\t\t\t\t\t\t\t\t\t\t\t\t\t\t\t\t\t\r",
      "163grass\t159\tnegative\tneg\tControl\t\t\t\t\t\t\t\t\t\t\t\t\t\t\t\t\t\t\t\t\t\t\t\t\t\t\t\t\t\t\t\t\t\t\t\t\t\t\t\t\t\t\t\t\t\t\t\r",
      "255grass\t160\twood_neg\tneg\tControl\t\t\t\t\t\t\t\t\t\t\t\t\t\t\t\t\t\t\t\t\t\t\t\t\t\t\t\t\t\t\t\t\t\t\t\t\t\t\t\t\t\t\t\t\t\t\t\r",
      "256grass\t161\twood_pos_g\tPos_G\tControl\t\t\t\t\t\t\t\t\t\t\t\t\t\t\t\t\t\t\t\t\t\t\t\t\t\t\t\t\t\t\t\t\t\t\t\t\t\t\t\t\t\t\t\t\t\t\t\r",
      "257grass\t162\twood_pos_its\tPos_PCR\tControl\t\t\t\t\t\t\t\t\t\t\t\t\t\t\t\t\t\t\t\t\t\t\t\t\t\t\t\t\t\t\t\t\t\t\t\t\t\t\t\t\t\t\t\t\t\t\t"
     ]
    }
   ],
   "source": [
    "# I've created a csv file which contains the sample Id and names.  I converted this into a tab-delimited file (.txt),\n",
    "# which I used to add metadata.  for some reason the notebook won't print the contents, but if finally worked\n",
    "head meta_data.txt"
   ]
  },
  {
   "cell_type": "code",
   "execution_count": 20,
   "metadata": {
    "collapsed": true
   },
   "outputs": [],
   "source": [
    "biom add-metadata -i grass_otu_uclust_97_relab.biom -o grass_97_wmeta.biom -m meta_data.txt --output-as-json"
   ]
  },
  {
   "cell_type": "code",
   "execution_count": 21,
   "metadata": {},
   "outputs": [
    {
     "name": "stdout",
     "output_type": "stream",
     "text": [
      "\n",
      "The input file is a valid BIOM-formatted file.\n"
     ]
    }
   ],
   "source": [
    "biom validate-table -i grass_97_wmeta.biom"
   ]
  },
  {
   "cell_type": "markdown",
   "metadata": {
    "collapsed": true
   },
   "source": [
    "# Exploration of Biome table\n",
    "\n",
    "## \n",
    "\n",
    "I'll be using R to do most of the exploration.  I haven't taken the time to fix the install of R into the jupyter notebook, so I've made an accompanying R document to work through my exploration.  /Users/grahambailes/grass_endophyte_community/statistics/grass_97_biom.r\n",
    "\n"
   ]
  },
  {
   "cell_type": "markdown",
   "metadata": {},
   "source": [
    "## convert .biom format into .txt \n",
    "\n",
    "It may be usefull to perform certain actions on the biom table outside of the R package phyloseq, and therefore I have decided to create a .txt version of my biom table.  These applications include species accumulation cureves, the use of the FUNGuild tool (https://github.com/UMNFuN/FUNGuild), etc.\n"
   ]
  },
  {
   "cell_type": "code",
   "execution_count": 4,
   "metadata": {},
   "outputs": [
    {
     "name": "stdout",
     "output_type": "stream",
     "text": []
    }
   ],
   "source": [
    "## use QIIME tool to convert from .biom to .txt\n",
    "## this is the .biom which I created through this pipeline.  \n",
    "## At this point in time, I haven't done any variance stabilization methods, so this will be an exploration\n",
    "## of the tools I wish to use.\n",
    "## note - this is an otu table that was created prior to variance stabalization.\n",
    "\n",
    "biom convert -i grass_97_wmeta.biom -o 97_otu_table.txt --to-tsv --header-key taxonomy"
   ]
  },
  {
   "cell_type": "code",
   "execution_count": 3,
   "metadata": {},
   "outputs": [
    {
     "name": "stdout",
     "output_type": "stream",
     "text": [
      "Traceback (most recent call last):\r\n",
      "  File \"/usr/local/lib/miniconda3/bin/biom\", line 11, in <module>\r\n",
      "    sys.exit(cli())\r\n",
      "  File \"/usr/local/lib/miniconda3/lib/python3.5/site-packages/click/core.py\", line 716, in __call__\r\n",
      "    return self.main(*args, **kwargs)\r\n",
      "  File \"/usr/local/lib/miniconda3/lib/python3.5/site-packages/click/core.py\", line 696, in main\r\n",
      "    rv = self.invoke(ctx)\r\n",
      "  File \"/usr/local/lib/miniconda3/lib/python3.5/site-packages/click/core.py\", line 1060, in invoke\r\n",
      "    return _process_result(sub_ctx.command.invoke(sub_ctx))\r\n",
      "  File \"/usr/local/lib/miniconda3/lib/python3.5/site-packages/click/core.py\", line 889, in invoke\r\n",
      "    return ctx.invoke(self.callback, **ctx.params)\r\n",
      "  File \"/usr/local/lib/miniconda3/lib/python3.5/site-packages/click/core.py\", line 534, in invoke\r\n",
      "    return callback(*args, **kwargs)\r\n",
      "  File \"/usr/local/lib/miniconda3/lib/python3.5/site-packages/biom/cli/table_converter.py\", line 114, in convert\r\n",
      "    table = load_table(input_fp)\r\n",
      "  File \"/usr/local/lib/miniconda3/lib/python3.5/site-packages/biom/parse.py\", line 654, in load_table\r\n",
      "    table = parse_biom_table(fp)\r\n",
      "  File \"/usr/local/lib/miniconda3/lib/python3.5/site-packages/biom/parse.py\", line 405, in parse_biom_table\r\n",
      "    t = Table.from_json(json.load(fp), input_is_dense=input_is_dense)\r\n",
      "  File \"/usr/local/lib/miniconda3/lib/python3.5/site-packages/biom/table.py\", line 3668, in from_json\r\n",
      "    sample_ids = [col['id'] for col in json_table['columns']]\r\n",
      "KeyError: 'columns'\r\n"
     ]
    }
   ],
   "source": [
    "#Okay, I'll create an otu table from the variance stabalized biom (entitled grass_biom_vs)\n",
    "biom convert -i grass_biom_vs.biom -o 97_otu_table_vs.txt --to-tsv --header-key taxonomy"
   ]
  },
  {
   "cell_type": "markdown",
   "metadata": {},
   "source": [
    "## Using FUNGuild\n",
    "\n",
    "### so far as I understand, funguild was created by some of the big names in fungal community ecology in order to \n",
    "### meet the demand for a functional representation of OTUs within a community.  This has been a major hurdle for the field, since it is widley accepted that microfungi will often switch functional groups within a plant dependent upon environmental conditions, host identity, host health, etc (\n",
    "\n",
    "### It should be noted that the software is designed to create functional assignments at the Genus level.  It seems that this assignment is based upon a citation from the literature.  As such, the assignment may or may not represent the true functional nature of the organism.  However, at this time it may still be worthwile to include such information.  Without the aid of metatranscriptomics, it may not be possible to assign an OTU to a specific functional class.\n",
    "\n"
   ]
  },
  {
   "cell_type": "code",
   "execution_count": null,
   "metadata": {
    "collapsed": true
   },
   "outputs": [],
   "source": [
    "## haven't gotten this to work since I created a new biom table... 12/11/16\n",
    "## update 2/6/17 - looks like the taxonomy header for my otu table is the problem - when the biom table is converted into a text document, \n",
    "## the taxonomy appears as distinct headers, whereas the python script requires a header as 'taxonomy'\n",
    "## to be proporly formatted.  This is the reason why taxonomy was undefined in the error message - we'll try it again!"
   ]
  },
  {
   "cell_type": "code",
   "execution_count": 3,
   "metadata": {},
   "outputs": [
    {
     "name": "stdout",
     "output_type": "stream",
     "text": []
    }
   ],
   "source": [
    "## I'm trying to figure out whether the script was designed to work with python 2 or 3.   \n",
    "# python 2 I will need a different shebang line:  #! /usr/local/env python2.7\n",
    "# python 3:  #! /usr/bin/env python3\n",
    "# then again, perhaps by adding the prefix 'python' to the command, the shebang is unnessesary.\n",
    "\n",
    "## command to create Guild classification:\n",
    "#/usr/local/env python2.7\n",
    "## to make the script work, I needed to conver the otu_table.txt file into a csv\n",
    "python2.7 funguild_v1.0.py -otu /Users/grahambailes/grass_endophyte_community/alt_biom/grass_biom_vs_fun.csv -db fungi -m -u\n",
    "\n",
    "## parameters:\n",
    "##    -otu: required. specify path of otu.txt file \n",
    "##    -db: optional.  Choose between fungal (default) and nematode databases\n",
    "##    -m: optional.  return an additional file containing only otus that have been assigned a function. output sufix _assigned/.txt\n",
    "##    -u: optional.  Return an additional file containing OTUs that were unassigned.  output sufix _unassigned.txt\n",
    "## The output file from this command will be labled '97_otu_table.function' "
   ]
  },
  {
   "cell_type": "markdown",
   "metadata": {
    "collapsed": true
   },
   "source": [
    "grahambailes[d93-160:alt_biom]$ python2.7 funguild_v1.0.py -otu /Users/grahambailes/grass_endophyte_community/alt_biom/grass_biom_vs_fun.csv -db fungi -m -u\n",
    "FunGuild v1.0 Beta\n",
    "Downloading fungi database ...\n",
    "\n",
    "Reading in the OTU table: '/Users/grahambailes/grass_endophyte_community/alt_biom/grass_biom_vs_fun.csv'\n",
    "\n",
    "Searching the FUNGuild database...\n",
    "10%\n",
    "20%\n",
    "30%\n",
    "40%\n",
    "50%\n",
    "60%\n",
    "70%\n",
    "80%\n",
    "90%\n",
    "100%\n",
    "\n",
    "Found 29640 matching taxonomy records in the database.\n",
    "Dereplicating and sorting the result...\n",
    "FunGuild tried to assign function to 3093 OTUs in '/Users/grahambailes/grass_endophyte_community/alt_biom/grass_biom_vs_fun.csv'.\n",
    "FUNGuild made assignments on 1868 OTUs.\n",
    "Result saved to '/Users/grahambailes/grass_endophyte_community/alt_biom/grass_biom_vs_fun.guilds.txt'\n",
    "\n",
    "Additional output:\n",
    "FUNGuild made assignments on 1868 OTUs, these have been saved to /Users/grahambailes/grass_endophyte_community/alt_biom/grass_biom_vs_fun.guilds_matched.txt.\n",
    "1225 OTUs were unassigned, these are saved to /Users/grahambailes/grass_endophyte_community/alt_biom/grass_biom_vs_fun.guilds_unmatched.txt.\n",
    "\n",
    "Total calculating time: 194.19 seconds."
   ]
  },
  {
   "cell_type": "code",
   "execution_count": null,
   "metadata": {
    "collapsed": true
   },
   "outputs": [],
   "source": [
    "## after trimming \n",
    "# performed 2019-03-01\n",
    "\n",
    "grahambailes[Grahams-MacBook-Pro:alt_biom]$ python Guilds_v1.1.py -otu /Users/grahambailes/grass_endophyte_community/alt_biom/grass_biom_vs_fun.csv -db fungi -m -u\n",
    "FunGuild v1.0 Beta\n",
    "Connecting with FUNGuild database ...\n",
    "\n",
    "Reading in the OTU table: '/Users/grahambailes/grass_endophyte_community/alt_biom/grass_biom_vs_fun.csv'\n",
    "\n",
    "Searching the FUNGuild database...\n",
    "10%\n",
    "20%\n",
    "30%\n",
    "40%\n",
    "50%\n",
    "60%\n",
    "70%\n",
    "80%\n",
    "90%\n",
    "100%\n",
    "\n",
    "Found 4374 matching taxonomy records in the database.\n",
    "Dereplicating and sorting the result...\n",
    "FunGuild tried to assign function to 3713 OTUs in '/Users/grahambailes/grass_endophyte_community/alt_biom/grass_biom_vs_fun.csv'.\n",
    "FUNGuild made assignments on 2844 OTUs.\n",
    "Result saved to '/Users/grahambailes/grass_endophyte_community/alt_biom/grass_biom_vs_fun.guilds.txt'\n",
    "\n",
    "Additional output:\n",
    "FUNGuild made assignments on 2844 OTUs, these have been saved to /Users/grahambailes/grass_endophyte_community/alt_biom/grass_biom_vs_fun.guilds_matched.txt.\n",
    "869 OTUs were unassigned, these are saved to /Users/grahambailes/grass_endophyte_community/alt_biom/grass_biom_vs_fun.guilds_unmatched.txt.\n",
    "\n",
    "Total calculating time: 29.7 seconds."
   ]
  },
  {
   "cell_type": "markdown",
   "metadata": {},
   "source": [
    "### okay, so The program matched about 61% of my OTUs (1868 of 3093) with some level of functional assignment.  The script returned 1) my original biom.txt file with appended functions, 2) a file containing only those OTUs assigned, and 3) a file containing OTUs that were not assigned.  \n",
    "\n",
    "### a few notes on \n",
    "#### confidence:  The authors note that for the most part, assignment confidence is based upon the primary literature.  these often receive the highest ranking ('highly probably').  Otherwize, the ranking comes from authoritative websites or personal experience from the authors.  There is however one large caviate:  Many fungi can belong to multiple functional guilds, dependent upon life stage, environment, host, etc.  In these cases, the ranking was reduced to possible, to reflect the uncertainty given the taxonomy alone."
   ]
  },
  {
   "cell_type": "markdown",
   "metadata": {},
   "source": [
    "## a little frustration continues - The way I set up my taxonomy may have accidentially created a new line break every other line, making the fine unreadable in r.  \n",
    "\n",
    "I needed to find a way to remove the linebreak, and merge the lines which were now seperated.\n",
    "After much trial and error, I came upon the sed command:\n",
    "\n",
    "sed 'N;s/\\n/ /'  grass_biom_vs_fun.guilds_matched-2.txt > grass_biom_vs_funguilds_matched.txt\n",
    "\n",
    "essentially, the command merges line 1&2, 3&4, 5&6, ect, and removes the line break that was accidentially inserted.  As such, I needed to remove the header (line one), and re-insert it later.  I fed sed my misbehaving file, and asked it to write a new one with the correct formating.\n",
    "\n",
    "remember, sed is a great, versitile tool!"
   ]
  },
  {
   "cell_type": "code",
   "execution_count": null,
   "metadata": {
    "collapsed": true
   },
   "outputs": [],
   "source": [
    "## at this point, I'm going to import the assigned OTU table into R to have a look - the plan is to exclude those species below the confidence of probable\n",
    "## to eventually describe community functional differences among sites."
   ]
  }
 ],
 "metadata": {
  "kernelspec": {
   "display_name": "Bash",
   "language": "bash",
   "name": "bash"
  },
  "language_info": {
   "codemirror_mode": "shell",
   "file_extension": ".sh",
   "mimetype": "text/x-sh",
   "name": "bash"
  }
 },
 "nbformat": 4,
 "nbformat_minor": 1
}
