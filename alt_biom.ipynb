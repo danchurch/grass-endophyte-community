{
 "cells": [
  {
   "cell_type": "markdown",
   "metadata": {
    "collapsed": true,
    "deletable": true,
    "editable": true
   },
   "source": [
    "This notebook will be an attempt to mirror some of the changes that Dan went through after talking with the creator of uclust.  in particular, I will be using the uclust merging algorithym and a more stringent quality filter.  Essentially, the uclust merger acts to decrease the creation of false OTUs.  It does this by giving weight to the higher of the two reads(foreward vs reverse) when determining a base pair.  If there is aggreement, the quality score goes up-if not, the higher quality read has extra weight, but the final quality score is lower.  I think I can start with my already compled grass foreward and reverse fastq files (grassR1.fastq and grassR2.fastq)"
   ]
  },
  {
   "cell_type": "code",
   "execution_count": 2,
   "metadata": {
    "collapsed": false,
    "deletable": true,
    "editable": true
   },
   "outputs": [
    {
     "name": "stdout",
     "output_type": "stream",
     "text": [
      "/Users/grahambailes/grass_endophyte_community\r\n"
     ]
    }
   ],
   "source": [
    "pwd"
   ]
  },
  {
   "cell_type": "code",
   "execution_count": 2,
   "metadata": {
    "collapsed": false,
    "deletable": true,
    "editable": true
   },
   "outputs": [
    {
     "name": "stdout",
     "output_type": "stream",
     "text": []
    }
   ],
   "source": [
    "mkdir alt_biom"
   ]
  },
  {
   "cell_type": "code",
   "execution_count": 5,
   "metadata": {
    "collapsed": false,
    "deletable": true,
    "editable": true
   },
   "outputs": [
    {
     "name": "stdout",
     "output_type": "stream",
     "text": []
    }
   ],
   "source": [
    "cp ./grass_biom/grassR1.fastq ./alt_biom\n",
    "cp ./grass_biom/grassR2.fastq ./alt_biom"
   ]
  },
  {
   "cell_type": "code",
   "execution_count": 1,
   "metadata": {
    "collapsed": false,
    "deletable": true,
    "editable": true
   },
   "outputs": [
    {
     "name": "stdout",
     "output_type": "stream",
     "text": [
      "/Users/grahambailes/grass_endophyte_community/alt_biom\r\n"
     ]
    }
   ],
   "source": [
    "cd ./alt_biom\n",
    "pwd"
   ]
  },
  {
   "cell_type": "markdown",
   "metadata": {
    "collapsed": false,
    "deletable": true,
    "editable": true
   },
   "source": [
    "## in ACISS\n",
    "##trim reads at same length as the original iteration of the biom table.  this is done with the FASTX_toolkit\n",
    "fastx_trimmer -l 255 -i grassR1.fastq grassR1_short.fastq\n",
    "fastx_trimmer -l 220 -i grassR2.fastq grassR2_short.fastq"
   ]
  },
  {
   "cell_type": "markdown",
   "metadata": {
    "deletable": true,
    "editable": true
   },
   "source": [
    "# merge pairs"
   ]
  },
  {
   "cell_type": "markdown",
   "metadata": {
    "deletable": true,
    "editable": true
   },
   "source": [
    "At this point, I'll be using the usearch algorithm to do the merging.\n",
    "The command fastq_mergepairs takes a foreward and reverse file and returns a merged fastq file.  the notrunclables option keeps lables.  For our run, "
   ]
  },
  {
   "cell_type": "code",
   "execution_count": null,
   "metadata": {
    "collapsed": true,
    "deletable": true,
    "editable": true
   },
   "outputs": [],
   "source": [
    "##again in aciss - I've made a directory \n",
    "mkdir alt_biom\n",
    "cd alt_biom\n",
    "usearch -fastq_mergepairs /home11/gbailes/endophyte_community/grassR1_short.fastq -reverse /home11/gbailes/endophyte_community/grassR2_short.fastq -fastqout grass_trimmed_merged.fastq -notrunclabels -report   \n"
   ]
  },
  {
   "cell_type": "markdown",
   "metadata": {
    "deletable": true,
    "editable": true
   },
   "source": [
    "### merge pairs output\n",
    "\n",
    "usearch v8.1.1803_i86linux64, 74.2Gb RAM, 12 cores\n",
    "(C) Copyright 2013-15 Robert C. Edgar, all rights reserved.\n",
    "http://drive5.com/usearch\n",
    "\n",
    "Licensed to: ronh@molbio.uoregon.edu\n",
    "\n",
    "04:40 925Mb  100.0% 97.3% merged \n",
    "  11033436  Pairs (11.0M)   \n",
    "  \n",
    "  10735444  Merged (10.7M, 97.30%)\n",
    " \n",
    " 5462314  Alignments with zero diffs (49.51%)\n",
    " \n",
    " 1795  Fwd tails Q <= 2 trimmed (0.02%)\n",
    " \n",
    " 3099  Rev tails Q <= 2 trimmed (0.03%)\n",
    " \n",
    " 297992  No alignment found (2.70%)\n",
    " \n",
    " 0  Alignment too short (< 16) (0.00%)\n",
    " \n",
    " 8141236  Staggered pairs (73.79%) merged & trimmed\n",
    " \n",
    " 209.71  Mean alignment length\n",
    " \n",
    " 244.01  Mean merged read length\n",
    " \n",
    " 2.00  Mean fwd expected errors\n",
    " \n",
    " 1.77  Mean rev expected errors\n",
    " \n",
    " 1.12  Mean merged expected errors"
   ]
  },
  {
   "cell_type": "code",
   "execution_count": null,
   "metadata": {
    "collapsed": true,
    "deletable": true,
    "editable": true
   },
   "outputs": [],
   "source": [
    "fastx_quality_stats -Q33 -i grass_trimmed_merged.fastq -o grass_trimmed_merged_quality.txt\n",
    "#(ACISS has older version of fastx as of time of writing, so we in \"-Q33\" flag to\n",
    "#tell fastx that we are dealing with Sanger-type quality encoding, or \"Phred+33\")"
   ]
  },
  {
   "cell_type": "code",
   "execution_count": null,
   "metadata": {
    "collapsed": true,
    "deletable": true,
    "editable": true
   },
   "outputs": [],
   "source": [
    "./quality_plot.sh -i grass_trimmed_merged_quality.txt -o grass_trimmed_merged_quality.png"
   ]
  },
  {
   "cell_type": "markdown",
   "metadata": {
    "deletable": true,
    "editable": true
   },
   "source": [
    "![merged quality](/notebooks/grass_endophyte_community/alt_biom/grass_trimmed_merged_quality.png \"ShowMyImage\")"
   ]
  },
  {
   "cell_type": "markdown",
   "metadata": {
    "deletable": true,
    "editable": true
   },
   "source": [
    "# Usearch quality filter\n",
    "\n",
    "the usearch pipeline further suggests quality filtering of reads.  I defer to Dan's knowledge on using this command.  Looks like he used expected error approach. We can set error cutoff of 1% of all bases in a read, meaning that a read of length 400 bp is thrown out if it likely contains 4 or more erroneous bases. I think this is permissable, given our OTU clustering will ultimately be done at 95% similarity.\n",
    "\n",
    "http://drive5.com/usearch/manual/exp_errs.html"
   ]
  },
  {
   "cell_type": "code",
   "execution_count": null,
   "metadata": {
    "collapsed": true,
    "deletable": true,
    "editable": true
   },
   "outputs": [],
   "source": [
    "usearch -fastq_filter grass_trimmed_merged.fastq -fastq_maxee_rate .01 -fastqout grass_filtered.fastq -notrunclabels"
   ]
  },
  {
   "cell_type": "markdown",
   "metadata": {
    "deletable": true,
    "editable": true
   },
   "source": [
    "usearch v8.1.1861_i86linux64, 74.2Gb RAM, 12 cores\n",
    "(C) Copyright 2013-15 Robert C. Edgar, all rights reserved.\n",
    "http://drive5.com/usearch\n",
    "\n",
    "Licensed to: ronh@molbio.uoregon.edu\n",
    "\n",
    "01:11 857Mb  100.0% Filtering, 88.4% passed\n",
    "  10735444  FASTQ recs (10.7M)             \n",
    "   9485630  Converted (9.5M, 88.4%)\n",
    "   \n",
    "looks like about 11.6% of my reads were filtered out.   "
   ]
  },
  {
   "cell_type": "markdown",
   "metadata": {
    "deletable": true,
    "editable": true
   },
   "source": [
    "## convert from fastq to fasta"
   ]
  },
  {
   "cell_type": "code",
   "execution_count": null,
   "metadata": {
    "collapsed": true,
    "deletable": true,
    "editable": true
   },
   "outputs": [],
   "source": [
    "#use fastx_toolkit to convert to fasta\n",
    "fastq_to_fasta -n -Q33 -i grass_filtered.fastq -o  grass.fasta\n",
    "\n",
    "# -n keep sequences with unknown (N) nucleotides, -Q33 "
   ]
  },
  {
   "cell_type": "markdown",
   "metadata": {
    "deletable": true,
    "editable": true
   },
   "source": [
    "## floating primers\n",
    "sequences may often include multiple primer occurances, sometimes sprinkled within the sequence.  these should be removed according to http://onlinelibrary.wiley.com/doi/10.1002/ece3.1107/epdf (balint et al. 2014)\n"
   ]
  },
  {
   "cell_type": "code",
   "execution_count": null,
   "metadata": {
    "collapsed": true,
    "deletable": true,
    "editable": true
   },
   "outputs": [],
   "source": [
    "#check for floating primers\n",
    "grep CTTGGTCATTTAGAGGAAGTAA grass.fasta | wc -l #forward (ITS1)\n",
    "grep GCTGCGTTCTTCATCGATGC grass.fasta | wc -l #reverse (ITS2)\n",
    "# 43, 28"
   ]
  },
  {
   "cell_type": "code",
   "execution_count": null,
   "metadata": {
    "collapsed": true,
    "deletable": true,
    "editable": true
   },
   "outputs": [],
   "source": [
    "#using a python script that dan wrote to remove primer sequences from the read files\n",
    "./floatingprimers.py  grass_paired_clipped.fasta  grass_paired_clipped_defloat.fasta CTTGGTCATTTAGAGGAAGTAA GCTGCGTTCTTCATCGATGC \n"
   ]
  },
  {
   "cell_type": "code",
   "execution_count": null,
   "metadata": {
    "collapsed": true,
    "deletable": true,
    "editable": true
   },
   "outputs": [],
   "source": [
    "#To count reads in these we need to grep the sequence identifier line, \n",
    "#instead of just using the 'wc -l' command:\n",
    "grep '\\<M' grass.fasta | wc -l\n",
    "grep '\\<M' grass_defloat.fasta | wc -l"
   ]
  },
  {
   "cell_type": "markdown",
   "metadata": {
    "collapsed": true,
    "deletable": true,
    "editable": true
   },
   "source": [
    "grass.fasta: 9485630\n",
    "\n",
    "grass_defloat.fasta: 9485318\n",
    "\n",
    "312 reads removed (0.003%) for the presence of floating primer relics"
   ]
  },
  {
   "cell_type": "markdown",
   "metadata": {
    "deletable": true,
    "editable": true
   },
   "source": [
    "## chimera checking\n",
    "\n",
    "We'll use the uchime algorithm, another step in the uparse/usearch pipeline. This is actually just the first of two checks for chimeras, the other being part of the otu clustering.  I've already downloaded an iteration of the uchime reference\n"
   ]
  },
  {
   "cell_type": "code",
   "execution_count": null,
   "metadata": {
    "collapsed": true,
    "deletable": true,
    "editable": true
   },
   "outputs": [],
   "source": [
    "usearch -uchime_ref grass_defloat.fasta -db /home11/gbailes/alt_biom/uchime_sh_refs_dynamic_develop_985_01.01.2016.ITS1.fasta -nonchimeras grass_notchim.fasta -strand plus -uchimeout grass_chim_log.txt -notrunclabels\n"
   ]
  },
  {
   "cell_type": "markdown",
   "metadata": {
    "deletable": true,
    "editable": true
   },
   "source": [
    "grass_defloat.fasta: 9485318\n",
    "\n",
    "grass_notchim.fasta: 9432696\n",
    "\n",
    "52,622 reads removed (~0.5% of reads)"
   ]
  },
  {
   "cell_type": "markdown",
   "metadata": {
    "deletable": true,
    "editable": true
   },
   "source": [
    "## creating simple lables\n",
    "\n",
    "using the sed command, I'll relable the reads to have a simple identifier.  I'll also include a file which connects the new lables to the original sample names (grass_illumina_lables.csv)"
   ]
  },
  {
   "cell_type": "code",
   "execution_count": null,
   "metadata": {
    "collapsed": true,
    "deletable": true,
    "editable": true
   },
   "outputs": [],
   "source": [
    "sed s/^\\>.*[0-9]\\ //g grass_notchim.fasta | sed s/1:[YN]:0:/\\>/g | sed '/^>/ s/$/grass/g' > grass_relab.fasta"
   ]
  },
  {
   "cell_type": "markdown",
   "metadata": {
    "collapsed": true,
    "deletable": true,
    "editable": true
   },
   "source": [
    "## trimming reads to ITS1"
   ]
  },
  {
   "cell_type": "markdown",
   "metadata": {
    "deletable": true,
    "editable": true
   },
   "source": [
    "apparently, inorder to best cluster otus, you first need to trim out any highly-conserved regions of the ITS (i.e. the SSU and 5.8 regions)  "
   ]
  },
  {
   "cell_type": "code",
   "execution_count": null,
   "metadata": {
    "collapsed": true,
    "deletable": true,
    "editable": true
   },
   "outputs": [],
   "source": [
    "./fasta_remove_linebreaks.py grass_relab.fasta grass_relab_nolb.fasta ## remove linebreaks from fasta files\n",
    "./subset_fasta.py grass_relab_nolb.fasta 100 grass_sub.fasta ## subset reads to examine proportion of ssu and 5.8 regions\n",
    " ./ITSx -i grass_sub.fasta -o grass_sub --reset T -- allow_single_domain -t F \n",
    " \n",
    "# ITSx -- Identifies ITS sequences and extracts the ITS region\n",
    "#by Johan Bengtsson-Palme et al., University of Gothenburg\n",
    "#Version: 1.0.11\n",
    "#-----------------------------------------------------------------\n",
    "#Sat Dec 10 15:13:01 2016 : Preparing HMM database (should be quick)...\n",
    "#Sat Dec 10 15:13:01 2016 : Checking and handling input sequence data (should not take long)...\n",
    "#Sat Dec 10 15:13:01 2016 : Comparing sequences to HMM database (this may take a long while)...\n",
    "#    Sat Dec 10 15:13:06 2016 : Fungi analysis of main strand finished.\n",
    "#    Sat Dec 10 15:13:11 2016 : Fungi analysis of complementary strand finished.\n",
    "#Sat Dec 10 15:13:11 2016 : Analysing results of HMM-scan (this might take quite some time)...\n",
    "#Sat Dec 10 15:13:11 2016 : Extraction finished!\n",
    "##-----------------------------------------------------------------\n",
    "#Thank you for using ITSx!\n",
    "#Please report bugs or unsupported lineages to itsx@microbiology.se"
   ]
  },
  {
   "cell_type": "code",
   "execution_count": 6,
   "metadata": {
    "collapsed": false,
    "deletable": true,
    "editable": true
   },
   "outputs": [
    {
     "name": "stdout",
     "output_type": "stream",
     "text": [
      "5grass\t295 bp.\tSSU: 1-46\tITS1: 47-265\t5.8S: No end\tITS2: Not found\tLSU: Not found\tBroken or partial sequence, only partial 5.8S! \r\n",
      "7grass\t229 bp.\tSSU: 1-46\tITS1: 47-199\t5.8S: No end\tITS2: Not found\tLSU: Not found\tBroken or partial sequence, only partial 5.8S! \r\n",
      "8grass\t270 bp.\tSSU: 1-46\tITS1: 47-240\t5.8S: No end\tITS2: Not found\tLSU: Not found\tBroken or partial sequence, only partial 5.8S! \r\n",
      "12grass\t285 bp.\tSSU: 1-46\tITS1: 47-255\t5.8S: No end\tITS2: Not found\tLSU: Not found\tBroken or partial sequence, only partial 5.8S! \r\n",
      "17grass\t254 bp.\tSSU: 1-46\tITS1: 47-224\t5.8S: No end\tITS2: Not found\tLSU: Not found\tBroken or partial sequence, only partial 5.8S! \r\n",
      "18grass\t229 bp.\tSSU: 1-46\tITS1: 47-199\t5.8S: No end\tITS2: Not found\tLSU: Not found\tBroken or partial sequence, only partial 5.8S! \r\n",
      "20grass\t217 bp.\tSSU: 1-46\tITS1: 47-187\t5.8S: No end\tITS2: Not found\tLSU: Not found\tBroken or partial sequence, only partial 5.8S! \r\n",
      "24grass\t225 bp.\tSSU: 1-46\tITS1: 47-195\t5.8S: No end\tITS2: Not found\tLSU: Not found\tBroken or partial sequence, only partial 5.8S! \r\n",
      "26grass\t229 bp.\tSSU: 1-46\tITS1: 47-199\t5.8S: No end\tITS2: Not found\tLSU: Not found\tBroken or partial sequence, only partial 5.8S! \r\n",
      "29grass\t261 bp.\tSSU: 1-46\tITS1: 47-231\t5.8S: No end\tITS2: Not found\tLSU: Not found\tBroken or partial sequence, only partial 5.8S! \r\n",
      "30grass\t230 bp.\tSSU: 1-46\tITS1: 47-200\t5.8S: No end\tITS2: Not found\tLSU: Not found\tBroken or partial sequence, only partial 5.8S! \r\n",
      "32grass\t230 bp.\tSSU: 1-46\tITS1: 47-200\t5.8S: No end\tITS2: Not found\tLSU: Not found\tBroken or partial sequence, only partial 5.8S! \r\n",
      "33grass\t230 bp.\tSSU: 1-46\tITS1: 47-200\t5.8S: No end\tITS2: Not found\tLSU: Not found\tBroken or partial sequence, only partial 5.8S! \r\n",
      "36grass\t254 bp.\tSSU: 1-46\tITS1: 47-224\t5.8S: No end\tITS2: Not found\tLSU: Not found\tBroken or partial sequence, only partial 5.8S! \r\n",
      "37grass\t231 bp.\tSSU: 1-46\tITS1: 47-201\t5.8S: No end\tITS2: Not found\tLSU: Not found\tBroken or partial sequence, only partial 5.8S! \r\n",
      "38grass\t230 bp.\tSSU: 1-46\tITS1: 47-200\t5.8S: No end\tITS2: Not found\tLSU: Not found\tBroken or partial sequence, only partial 5.8S! \r\n",
      "39grass\t240 bp.\tSSU: 1-46\tITS1: 47-210\t5.8S: No end\tITS2: Not found\tLSU: Not found\tBroken or partial sequence, only partial 5.8S! \r\n",
      "40grass\t250 bp.\tSSU: 1-46\tITS1: 47-220\t5.8S: No end\tITS2: Not found\tLSU: Not found\tBroken or partial sequence, only partial 5.8S! \r\n",
      "41grass\t225 bp.\tSSU: 1-46\tITS1: 47-195\t5.8S: No end\tITS2: Not found\tLSU: Not found\tBroken or partial sequence, only partial 5.8S! \r\n",
      "43grass\t222 bp.\tSSU: 1-46\tITS1: 47-192\t5.8S: No end\tITS2: Not found\tLSU: Not found\tBroken or partial sequence, only partial 5.8S! \r\n",
      "45grass\t248 bp.\tSSU: 1-46\tITS1: 47-218\t5.8S: No end\tITS2: Not found\tLSU: Not found\tBroken or partial sequence, only partial 5.8S! \r\n",
      "49grass\t222 bp.\tSSU: 1-46\tITS1: 47-192\t5.8S: No end\tITS2: Not found\tLSU: Not found\tBroken or partial sequence, only partial 5.8S! \r\n",
      "53grass\t225 bp.\tSSU: 1-46\tITS1: 47-195\t5.8S: No end\tITS2: Not found\tLSU: Not found\tBroken or partial sequence, only partial 5.8S! \r\n",
      "55grass\t225 bp.\tSSU: 1-46\tITS1: 47-195\t5.8S: No end\tITS2: Not found\tLSU: Not found\tBroken or partial sequence, only partial 5.8S! \r\n",
      "56grass\t225 bp.\tSSU: 1-46\tITS1: 47-195\t5.8S: No end\tITS2: Not found\tLSU: Not found\tBroken or partial sequence, only partial 5.8S! \r\n",
      "57grass\t225 bp.\tSSU: 1-46\tITS1: 47-195\t5.8S: No end\tITS2: Not found\tLSU: Not found\tBroken or partial sequence, only partial 5.8S! \r\n",
      "58grass\t225 bp.\tSSU: 1-46\tITS1: 47-195\t5.8S: No end\tITS2: Not found\tLSU: Not found\tBroken or partial sequence, only partial 5.8S! \r\n",
      "60grass\t214 bp.\tSSU: 1-46\tITS1: 47-184\t5.8S: No end\tITS2: Not found\tLSU: Not found\tBroken or partial sequence, only partial 5.8S! \r\n",
      "61grass\t225 bp.\tSSU: 1-46\tITS1: 47-195\t5.8S: No end\tITS2: Not found\tLSU: Not found\tBroken or partial sequence, only partial 5.8S! \r\n",
      "65grass\t261 bp.\tSSU: 1-46\tITS1: 47-231\t5.8S: No end\tITS2: Not found\tLSU: Not found\tBroken or partial sequence, only partial 5.8S! \r\n",
      "69grass\t254 bp.\tSSU: 1-46\tITS1: 47-224\t5.8S: No end\tITS2: Not found\tLSU: Not found\tBroken or partial sequence, only partial 5.8S! \r\n",
      "70grass\t254 bp.\tSSU: 1-46\tITS1: 47-224\t5.8S: No end\tITS2: Not found\tLSU: Not found\tBroken or partial sequence, only partial 5.8S! \r\n",
      "73grass\t217 bp.\tSSU: 1-46\tITS1: 47-187\t5.8S: No end\tITS2: Not found\tLSU: Not found\tBroken or partial sequence, only partial 5.8S! \r\n",
      "74grass\t261 bp.\tSSU: 1-46\tITS1: 47-231\t5.8S: No end\tITS2: Not found\tLSU: Not found\tBroken or partial sequence, only partial 5.8S! \r\n",
      "79grass\t321 bp.\tSSU: 1-46\tITS1: 47-291\t5.8S: No end\tITS2: Not found\tLSU: Not found\tBroken or partial sequence, only partial 5.8S! \r\n",
      "81grass\t262 bp.\tSSU: 1-46\tITS1: 47-232\t5.8S: No end\tITS2: Not found\tLSU: Not found\tBroken or partial sequence, only partial 5.8S! \r\n",
      "85grass\t230 bp.\tSSU: 1-46\tITS1: 47-200\t5.8S: No end\tITS2: Not found\tLSU: Not found\tBroken or partial sequence, only partial 5.8S! \r\n",
      "86grass\t229 bp.\tSSU: 1-46\tITS1: 47-199\t5.8S: No end\tITS2: Not found\tLSU: Not found\tBroken or partial sequence, only partial 5.8S! \r\n",
      "97grass\t254 bp.\tSSU: 1-46\tITS1: 47-224\t5.8S: No end\tITS2: Not found\tLSU: Not found\tBroken or partial sequence, only partial 5.8S! \r\n",
      "98grass\t232 bp.\tSSU: 1-46\tITS1: 47-202\t5.8S: No end\tITS2: Not found\tLSU: Not found\tBroken or partial sequence, only partial 5.8S! \r\n",
      "100grass\t219 bp.\tSSU: 1-46\tITS1: 47-214\t5.8S: No end\tITS2: Not found\tLSU: Not found\tBroken or partial sequence, only partial 5.8S! \r\n",
      "101grass\t218 bp.\tSSU: 1-46\tITS1: 47-188\t5.8S: No end\tITS2: Not found\tLSU: Not found\tBroken or partial sequence, only partial 5.8S! \r\n",
      "106grass\t299 bp.\tSSU: 1-46\tITS1: 47-269\t5.8S: No end\tITS2: Not found\tLSU: Not found\tBroken or partial sequence, only partial 5.8S! \r\n",
      "109grass\t231 bp.\tSSU: 1-46\tITS1: 47-201\t5.8S: No end\tITS2: Not found\tLSU: Not found\tBroken or partial sequence, only partial 5.8S! \r\n",
      "110grass\t232 bp.\tSSU: 1-46\tITS1: 47-202\t5.8S: No end\tITS2: Not found\tLSU: Not found\tBroken or partial sequence, only partial 5.8S! \r\n",
      "111grass\t232 bp.\tSSU: 1-46\tITS1: 47-202\t5.8S: No end\tITS2: Not found\tLSU: Not found\tBroken or partial sequence, only partial 5.8S! \r\n",
      "112grass\t232 bp.\tSSU: 1-46\tITS1: 47-202\t5.8S: No end\tITS2: Not found\tLSU: Not found\tBroken or partial sequence, only partial 5.8S! \r\n",
      "113grass\t368 bp.\tSSU: 1-46\tITS1: 47-338\t5.8S: No end\tITS2: Not found\tLSU: Not found\tBroken or partial sequence, only partial 5.8S! \r\n",
      "114grass\t438 bp.\tSSU: 1-46\tITS1: 47-188\t5.8S: No end\tITS2: Not found\tLSU: Not found\tBroken or partial sequence, only partial 5.8S! \r\n",
      "115grass\t230 bp.\tSSU: 1-46\tITS1: 47-200\t5.8S: No end\tITS2: Not found\tLSU: Not found\tBroken or partial sequence, only partial 5.8S! \r\n",
      "69grass\t254 bp.\tSSU: 1-46\tITS1: 47-224\t5.8S: No end\tITS2: Not found\tLSU: Not found\tBroken or partial sequence, only partial 5.8S! \r\n",
      "70grass\t254 bp.\tSSU: 1-46\tITS1: 47-224\t5.8S: No end\tITS2: Not found\tLSU: Not found\tBroken or partial sequence, only partial 5.8S! \r\n",
      "73grass\t217 bp.\tSSU: 1-46\tITS1: 47-187\t5.8S: No end\tITS2: Not found\tLSU: Not found\tBroken or partial sequence, only partial 5.8S! \r\n",
      "74grass\t261 bp.\tSSU: 1-46\tITS1: 47-231\t5.8S: No end\tITS2: Not found\tLSU: Not found\tBroken or partial sequence, only partial 5.8S! \r\n",
      "79grass\t321 bp.\tSSU: 1-46\tITS1: 47-291\t5.8S: No end\tITS2: Not found\tLSU: Not found\tBroken or partial sequence, only partial 5.8S! \r\n",
      "81grass\t262 bp.\tSSU: 1-46\tITS1: 47-232\t5.8S: No end\tITS2: Not found\tLSU: Not found\tBroken or partial sequence, only partial 5.8S! \r\n",
      "85grass\t230 bp.\tSSU: 1-46\tITS1: 47-200\t5.8S: No end\tITS2: Not found\tLSU: Not found\tBroken or partial sequence, only partial 5.8S! \r\n",
      "86grass\t229 bp.\tSSU: 1-46\tITS1: 47-199\t5.8S: No end\tITS2: Not found\tLSU: Not found\tBroken or partial sequence, only partial 5.8S! \r\n",
      "97grass\t254 bp.\tSSU: 1-46\tITS1: 47-224\t5.8S: No end\tITS2: Not found\tLSU: Not found\tBroken or partial sequence, only partial 5.8S! \r\n",
      "98grass\t232 bp.\tSSU: 1-46\tITS1: 47-202\t5.8S: No end\tITS2: Not found\tLSU: Not found\tBroken or partial sequence, only partial 5.8S! \r\n",
      "100grass\t219 bp.\tSSU: 1-46\tITS1: 47-214\t5.8S: No end\tITS2: Not found\tLSU: Not found\tBroken or partial sequence, only partial 5.8S! \r\n",
      "101grass\t218 bp.\tSSU: 1-46\tITS1: 47-188\t5.8S: No end\tITS2: Not found\tLSU: Not found\tBroken or partial sequence, only partial 5.8S! \r\n",
      "106grass\t299 bp.\tSSU: 1-46\tITS1: 47-269\t5.8S: No end\tITS2: Not found\tLSU: Not found\tBroken or partial sequence, only partial 5.8S! \r\n",
      "109grass\t231 bp.\tSSU: 1-46\tITS1: 47-201\t5.8S: No end\tITS2: Not found\tLSU: Not found\tBroken or partial sequence, only partial 5.8S! \r\n",
      "110grass\t232 bp.\tSSU: 1-46\tITS1: 47-202\t5.8S: No end\tITS2: Not found\tLSU: Not found\tBroken or partial sequence, only partial 5.8S! \r\n",
      "111grass\t232 bp.\tSSU: 1-46\tITS1: 47-202\t5.8S: No end\tITS2: Not found\tLSU: Not found\tBroken or partial sequence, only partial 5.8S! \r\n",
      "112grass\t232 bp.\tSSU: 1-46\tITS1: 47-202\t5.8S: No end\tITS2: Not found\tLSU: Not found\tBroken or partial sequence, only partial 5.8S! \r\n",
      "113grass\t368 bp.\tSSU: 1-46\tITS1: 47-338\t5.8S: No end\tITS2: Not found\tLSU: Not found\tBroken or partial sequence, only partial 5.8S! \r\n",
      "114grass\t438 bp.\tSSU: 1-46\tITS1: 47-188\t5.8S: No end\tITS2: Not found\tLSU: Not found\tBroken or partial sequence, only partial 5.8S! \r\n",
      "115grass\t230 bp.\tSSU: 1-46\tITS1: 47-200\t5.8S: No end\tITS2: Not found\tLSU: Not found\tBroken or partial sequence, only partial 5.8S! \r\n",
      "117grass\t231 bp.\tSSU: 1-46\tITS1: 47-201\t5.8S: No end\tITS2: Not found\tLSU: Not found\tBroken or partial sequence, only partial 5.8S! \r\n",
      "119grass\t230 bp.\tSSU: 1-46\tITS1: 47-179\t5.8S: No end\tITS2: Not found\tLSU: Not found\tBroken or partial sequence, only partial 5.8S! \r\n",
      "121grass\t261 bp.\tSSU: 1-46\tITS1: 47-231\t5.8S: No end\tITS2: Not found\tLSU: Not found\tBroken or partial sequence, only partial 5.8S! \r\n",
      "123grass\t218 bp.\tSSU: 1-46\tITS1: 47-188\t5.8S: No end\tITS2: Not found\tLSU: Not found\tBroken or partial sequence, only partial 5.8S! \r\n",
      "124grass\t230 bp.\tSSU: 1-46\tITS1: 47-200\t5.8S: No end\tITS2: Not found\tLSU: Not found\tBroken or partial sequence, only partial 5.8S! \r\n",
      "125grass\t222 bp.\tSSU: 1-46\tITS1: 47-192\t5.8S: No end\tITS2: Not found\tLSU: Not found\tBroken or partial sequence, only partial 5.8S! \r\n",
      "127grass\t286 bp.\tSSU: 1-46\tITS1: 47-192\t5.8S: No end\tITS2: Not found\tLSU: Not found\tBroken or partial sequence, only partial 5.8S! \r\n",
      "128grass\t215 bp.\tSSU: 1-46\tITS1: 47-185\t5.8S: No end\tITS2: Not found\tLSU: Not found\tBroken or partial sequence, only partial 5.8S! \r\n",
      "129grass\t312 bp.\tSSU: 1-46\tITS1: 47-282\t5.8S: No end\tITS2: Not found\tLSU: Not found\tBroken or partial sequence, only partial 5.8S! \r\n",
      "130grass\t218 bp.\tSSU: 1-46\tITS1: 47-188\t5.8S: No end\tITS2: Not found\tLSU: Not found\tBroken or partial sequence, only partial 5.8S! \r\n",
      "133grass\t272 bp.\tSSU: 1-46\tITS1: 47-242\t5.8S: No end\tITS2: Not found\tLSU: Not found\tBroken or partial sequence, only partial 5.8S! \r\n",
      "135grass\t218 bp.\tSSU: 1-46\tITS1: 47-188\t5.8S: No end\tITS2: Not found\tLSU: Not found\tBroken or partial sequence, only partial 5.8S! \r\n",
      "136grass\t322 bp.\tSSU: 1-46\tITS1: 47-292\t5.8S: No end\tITS2: Not found\tLSU: Not found\tBroken or partial sequence, only partial 5.8S! \r\n",
      "137grass\t234 bp.\tSSU: 1-46\tITS1: 47-204\t5.8S: No end\tITS2: Not found\tLSU: Not found\tBroken or partial sequence, only partial 5.8S! \r\n",
      "139grass\t254 bp.\tSSU: 1-46\tITS1: 47-224\t5.8S: No end\tITS2: Not found\tLSU: Not found\tBroken or partial sequence, only partial 5.8S! \r\n",
      "140grass\t251 bp.\tSSU: 1-46\tITS1: 47-221\t5.8S: No end\tITS2: Not found\tLSU: Not found\tBroken or partial sequence, only partial 5.8S! \r\n",
      "144grass\t218 bp.\tSSU: 1-46\tITS1: 47-188\t5.8S: No end\tITS2: Not found\tLSU: Not found\tBroken or partial sequence, only partial 5.8S! \r\n",
      "145grass\t216 bp.\tSSU: 1-46\tITS1: 47-186\t5.8S: No end\tITS2: Not found\tLSU: Not found\tBroken or partial sequence, only partial 5.8S! \r\n",
      "146grass\t234 bp.\tSSU: 1-46\tITS1: 47-204\t5.8S: No end\tITS2: Not found\tLSU: Not found\tBroken or partial sequence, only partial 5.8S! \r\n",
      "148grass\t257 bp.\tSSU: 1-46\tITS1: 47-188\t5.8S: No end\tITS2: Not found\tLSU: Not found\tBroken or partial sequence, only partial 5.8S! \r\n",
      "150grass\t254 bp.\tSSU: 1-46\tITS1: 47-224\t5.8S: No end\tITS2: Not found\tLSU: Not found\tBroken or partial sequence, only partial 5.8S! \r\n",
      "154grass\t218 bp.\tSSU: 1-46\tITS1: 47-188\t5.8S: No end\tITS2: Not found\tLSU: Not found\tBroken or partial sequence, only partial 5.8S! \r\n",
      "155grass\t269 bp.\tSSU: 1-46\tITS1: 47-193\t5.8S: No end\tITS2: Not found\tLSU: Not found\tBroken or partial sequence, only partial 5.8S! \r\n",
      "157grass\t230 bp.\tSSU: 1-46\tITS1: 47-200\t5.8S: No end\tITS2: Not found\tLSU: Not found\tBroken or partial sequence, only partial 5.8S! \r\n",
      "158grass\t209 bp.\tSSU: 1-46\tITS1: 47-179\t5.8S: No end\tITS2: Not found\tLSU: Not found\tBroken or partial sequence, only partial 5.8S! \r\n",
      "159grass\t232 bp.\tSSU: 1-46\tITS1: 47-202\t5.8S: No end\tITS2: Not found\tLSU: Not found\tBroken or partial sequence, only partial 5.8S! \r\n",
      "161grass\t252 bp.\tSSU: 1-46\tITS1: 47-222\t5.8S: No end\tITS2: Not found\tLSU: Not found\tBroken or partial sequence, only partial 5.8S! \r\n",
      "162grass\t251 bp.\tSSU: 1-46\tITS1: 47-221\t5.8S: No end\tITS2: Not found\tLSU: Not found\tBroken or partial sequence, only partial 5.8S! \r\n",
      "163grass\t270 bp.\tSSU: 1-46\tITS1: 47-240\t5.8S: No end\tITS2: Not found\tLSU: Not found\tBroken or partial sequence, only partial 5.8S! \r\n",
      "256grass\t250 bp.\tSSU: 1-46\tITS1: 47-220\t5.8S: No end\tITS2: Not found\tLSU: Not found\tBroken or partial sequence, only partial 5.8S! \r\n"
     ]
    }
   ],
   "source": [
    "head -50 grass_sub.positions.txt; tail -50 grass_sub.positions.txt "
   ]
  },
  {
   "cell_type": "markdown",
   "metadata": {
    "deletable": true,
    "editable": true
   },
   "source": [
    "Looks like for most sequences, the SSU is 46 bp, and the 5.8S gene is 30.  Within this subset, there is more variation within the 5.8S - these values range from 20 to 70 or so.  However, since the majority are centered at 30, I'll trim 46 bp from the , and 30bp from "
   ]
  },
  {
   "cell_type": "code",
   "execution_count": 27,
   "metadata": {
    "collapsed": false,
    "deletable": true,
    "editable": true
   },
   "outputs": [
    {
     "name": "stdout",
     "output_type": "stream",
     "text": []
    }
   ],
   "source": [
    "fastx_trimmer -f 47 -i grass_relab_nolb.fasta | fastx_trimmer -t 30 -o grass.ITS1.fasta"
   ]
  },
  {
   "cell_type": "markdown",
   "metadata": {
    "deletable": true,
    "editable": true
   },
   "source": [
    "## pick OTUs and representative sequences\n",
    "\n"
   ]
  },
  {
   "cell_type": "code",
   "execution_count": null,
   "metadata": {
    "collapsed": true,
    "deletable": true,
    "editable": true
   },
   "outputs": [],
   "source": [
    "## Transfer fasta with ITS1 only to aciss. for some reason, sftp was only transfering a fraction of my\n",
    "## file, so I chose to use the scp comand.  seems to have done the trick\n",
    " scp ./grass.ITS1.fasta gbailes@aciss.uoregon.edu:/home11/gbailes/biom_dec_16\n",
    " \n",
    " #remember to load appropriate modules on aciss:\n",
    " module load usearch/8.1.1803\n",
    " module load python/3.5.2"
   ]
  },
  {
   "cell_type": "code",
   "execution_count": null,
   "metadata": {
    "collapsed": true,
    "deletable": true,
    "editable": true
   },
   "outputs": [],
   "source": [
    "## dereplicate sequences\n",
    "usearch -derep_fulllength ./grass.ITS1.fasta -fasout ./grass_ITS1_derep.fasta -sizeout\n"
   ]
  },
  {
   "cell_type": "markdown",
   "metadata": {
    "deletable": true,
    "editable": true
   },
   "source": [
    "usearch v8.1.1803_i86linux64, 74.2Gb RAM, 12 cores\n",
    "(C) Copyright 2013-15 Robert C. Edgar, all rights reserved.\n",
    "http://drive5.com/usearch\n",
    "\n",
    "Licensed to: ronh@molbio.uoregon.edu\n",
    "\n",
    "00:24 2.3Gb  100.0% Reading ./grass.ITS1.fasta\n",
    "00:29 5.0Gb 9417846 seqs, 1182213 uniques, 900911 singletons (76.2%)\n",
    "00:29 5.0Gb Min size 1, median 1, max 727417, avg 7.97\n",
    "00:29 5.0Gb  100.0% Writing \n",
    "00:36 3.2Gb  100.0% Writing ./grass_ITS1_derep.fasta\n",
    "\n",
    "looks like we have 9,417846 sequences, 1,182,213 uniques, 900,911 singletons (76.2%)"
   ]
  },
  {
   "cell_type": "code",
   "execution_count": null,
   "metadata": {
    "collapsed": true,
    "deletable": true,
    "editable": true
   },
   "outputs": [],
   "source": [
    "## sort by size\n",
    "usearch -sortbysize ./grass_ITS1_derep.fasta -fasout ./grass_ITS1_sorted.fasta -minsize 2"
   ]
  },
  {
   "cell_type": "markdown",
   "metadata": {
    "deletable": true,
    "editable": true
   },
   "source": [
    "usearch v8.1.1803_i86linux64, 74.2Gb RAM, 12 cores\n",
    "(C) Copyright 2013-15 Robert C. Edgar, all rights reserved.\n",
    "http://drive5.com/usearch\n",
    "\n",
    "Licensed to: ronh@molbio.uoregon.edu\n",
    "\n",
    "00:03 342Mb  100.0% Reading ./grass_ITS1_derep.fasta\n",
    "00:03 308Mb Getting sizes                           \n",
    "00:04 318Mb Sorting 281302 sequences\n",
    "00:05 319Mb  100.0% Writing output"
   ]
  },
  {
   "cell_type": "code",
   "execution_count": null,
   "metadata": {
    "collapsed": true,
    "deletable": true,
    "editable": true
   },
   "outputs": [],
   "source": [
    "## look at total unique sequences, vs singletons.  \n",
    "grep '>' grass_ITS1_derep.fasta | wc -l\n",
    "grep '>' grass_ITS1_sorted.fasta | wc -l"
   ]
  },
  {
   "cell_type": "markdown",
   "metadata": {
    "deletable": true,
    "editable": true
   },
   "source": [
    "1182213,\n",
    "281302\n",
    "looks like lots of singletons!\n"
   ]
  },
  {
   "cell_type": "markdown",
   "metadata": {
    "deletable": true,
    "editable": true
   },
   "source": [
    "# cluster to 97% radius\n",
    "\n",
    "I think that the default clustering uses minimum distance/single linkage to create clusters - This means that within a cluster, un-grouped sequences are compared with a single centroid and rejected with a similarity > 0.3.  This means that within a single cluster, there may be sequences that are more dissimilar than 97%, solong as they agree with the centroid.  This type of clustering distance results in fewer, larger clusters than other methods (maximum distance/complete linkage)"
   ]
  },
  {
   "cell_type": "markdown",
   "metadata": {
    "collapsed": true,
    "deletable": true,
    "editable": true
   },
   "source": [
    "\n",
    "Dan wrote a python script that will  to our clusters.  Apparently the 'cluster-_smallmem' clustering algorithm \n",
    "(as opposed to the 'usearch_cluster_otus') doesn't automatically add the '"
   ]
  },
  {
   "cell_type": "code",
   "execution_count": null,
   "metadata": {
    "collapsed": true,
    "deletable": true,
    "editable": true
   },
   "outputs": [],
   "source": [
    "## cluster using uclust \n",
    "usearch -cluster_smallmem ./grass_ITS1_sorted.fasta -id 0.97 -centroids ./otus_97_uclust.fasta -sizein -sizeout -sortedby size"
   ]
  },
  {
   "cell_type": "markdown",
   "metadata": {
    "deletable": true,
    "editable": true
   },
   "source": [
    "usearch v8.1.1803_i86linux64, 74.2Gb RAM, 12 cores\n",
    "(C) Copyright 2013-15 Robert C. Edgar, all rights reserved.\n",
    "http://drive5.com/usearch\n",
    "\n",
    "Licensed to: ronh@molbio.uoregon.edu\n",
    "\n",
    "00:09  53Mb  100.0% 3922 clusters, max size 1179223, avg 2171.6\n",
    "00:10  53Mb  100.0% Writing centroids to ./otus_97_uclust.fasta\n",
    "                                                               \n",
    "      Seqs  281302 (281.3k)\n",
    "  Clusters  3922\n",
    "  Max size  1179223 (1.2M)\n",
    "  Avg size  2171.6\n",
    "  Min size  2\n",
    "Singletons  0, 0.0% of seqs, 0.0% of clusters\n",
    "   Max mem  53Mb\n",
    "      Time  34.0s\n",
    "Throughput  8273.6 seqs/sec.\n",
    "\n",
    "Okay, looks like our 281302 sequences clustered to 3922 clusters.  This makes me think that there were no more chimeras detected durring this process"
   ]
  },
  {
   "cell_type": "code",
   "execution_count": null,
   "metadata": {
    "collapsed": true,
    "deletable": true,
    "editable": true
   },
   "outputs": [],
   "source": [
    "## add otu tags to sequences\n",
    "./addOTUtags.py ./otus_97_uclust.fasta OTU ./otus_97_uclust_relabel.fasta"
   ]
  },
  {
   "cell_type": "code",
   "execution_count": null,
   "metadata": {
    "collapsed": true,
    "deletable": true,
    "editable": true
   },
   "outputs": [],
   "source": [
    "## assign taxonomy\n",
    "##since I created the utax reference database on my labtop (32 bit), this also was run on the laptop\n",
    "## first transfer relabled uclust fasta back to personal computer:\n",
    "scp gbailes@aciss.uoregon.edu:/home11/gbailes/biom_dec_16/otus_97_uclust_relabel.fasta /Users/grahambailes/grass_endophyte_community/alt_biom/\n",
    "usearch -utax otus_97_uclust_relabel.fasta -db utax_ref_class.udb -strand both -fastaout otus_97_uclust_ass_tax.fasta"
   ]
  },
  {
   "cell_type": "markdown",
   "metadata": {
    "deletable": true,
    "editable": true
   },
   "source": [
    "usearch v8.1.1861_i86osx32, 4.0Gb RAM (8.6Gb total), 4 cores\n",
    "(C) Copyright 2013-15 Robert C. Edgar, all rights reserved.\n",
    "http://drive5.com/usearch\n",
    "\n",
    "Licensed to: bailes.graham@gmail.com\n",
    "\n",
    "00:00 127Mb  100.0% Rows\n",
    "00:00 127Mb Read taxonomy info...done.\n",
    "00:00 130Mb Reading pointers...done.\n",
    "00:00 135Mb Reading db seqs...done.\n",
    "00:02 169Mb  100.0% 3919 seqs, 60.9% at phylum, 16.5% genus (P > 0.90)"
   ]
  },
  {
   "cell_type": "markdown",
   "metadata": {
    "deletable": true,
    "editable": true
   },
   "source": [
    "## create 97% radius biom table"
   ]
  },
  {
   "cell_type": "code",
   "execution_count": null,
   "metadata": {
    "collapsed": true,
    "deletable": true,
    "editable": true
   },
   "outputs": [],
   "source": [
    "usearch -usearch_global grass.ITS1.fasta -db otus_97_uclust_ass_tax.fasta -strand both -id 0.97 -biomout grass_otu_uclust_97.biom"
   ]
  },
  {
   "cell_type": "markdown",
   "metadata": {
    "deletable": true,
    "editable": true
   },
   "source": [
    "(C) Copyright 2013-15 Robert C. Edgar, all rights reserved.\n",
    "http://drive5.com/usearch\n",
    "\n",
    "Licensed to: bailes.graham@gmail.com\n",
    "\n",
    "00:00 4.2Mb  100.0% Reading otus_97_uclust_ass_tax.fasta\n",
    "00:00 2.8Mb  100.0% Masking                             \n",
    "00:00 3.7Mb  100.0% Word stats\n",
    "00:00 3.7Mb  100.0% Alloc rows\n",
    "00:00 6.0Mb  100.0% Build index\n",
    "18:52  43Mb  100.0% Searching, 100.0% matched\n",
    "9388226 / 9417846 mapped to OTUs (99.7%)     \n",
    "18:52  43Mb Writing grass_otu_uclust_97.biom\n",
    "18:52  43Mb Writing grass_otu_uclust_97.biom ...done.\n"
   ]
  },
  {
   "cell_type": "markdown",
   "metadata": {
    "deletable": true,
    "editable": true
   },
   "source": [
    "## format biome table\n",
    "\n",
    "clean-up of the biome table created through the usearch algorithms.  Downstream programs and packages cannot read as is..."
   ]
  },
  {
   "cell_type": "code",
   "execution_count": null,
   "metadata": {
    "collapsed": true,
    "deletable": true,
    "editable": true
   },
   "outputs": [],
   "source": [
    "./format_tax.py grass_otu_uclust_97.biom grass_otu_uclust_97_relab.biom\n"
   ]
  },
  {
   "cell_type": "code",
   "execution_count": 29,
   "metadata": {
    "collapsed": false,
    "deletable": true,
    "editable": true
   },
   "outputs": [
    {
     "name": "stdout",
     "output_type": "stream",
     "text": [
      "\t\"rows\":[\r\n",
      "\t\t{\"id\":\"OTU2:5grass\", \"metadata\":{\"taxonomy\": [\"k__Fungi\", \"p__Ascomycota\", \"c__Sordariomycetes\", \"o__Hypocreales\", \"f__Incertae_sedis\", \"g__Sarocladium\", \"s__Sarocladium_zeae_SH024476.07FU\"]}},\r\n",
      "\t\t{\"id\":\"OTU1:5grass\", \"metadata\":{\"taxonomy\": [\"k__Fungi\", \"p__Ascomycota\", \"c__Dothideomycetes\", \"o__Capnodiales\", \"f__Mycosphaerellaceae\", \"g__Mycosphaerella\", \"s__Mycosphaerella_tassiana_SH216250.07FU\"]}},\r\n",
      "\t\t{\"id\":\"OTU16:5grass\", \"metadata\":{\"taxonomy\": [\"k__Fungi\", \"p__Ascomycota\", \"c__Dothideomycetes\", \"o__Capnodiales\"]}},\r\n",
      "\t\t{\"id\":\"OTU263:5grass\", \"metadata\":{\"taxonomy\": [\"k__Fungi\", \"p__Ascomycota\", \"c__Leotiomycetes\", \"o__Helotiales\", \"f__Dermateaceae\", \"g__Dermea\", \"s__Dermea_ariae_SH201690.07FU\"]}},\r\n",
      "\t\t{\"id\":\"OTU9:5grass\", \"metadata\":{\"taxonomy\": [\"k__Fungi\", \"p__Ascomycota\", \"c__Dothideomycetes\", \"o__Capnodiales\", \"f__Davidiellaceae\", \"g__Cladosporium\", \"s__Cladosporium_exasperatum_SH422672.07FU\"]}},\r\n",
      "\t\t{\"id\":\"OTU4:5grass\", \"metadata\":{\"taxonomy\": [\"k__Fungi\", \"p__Ascomycota\", \"c__Sordariomycetes\", \"o__Incertae_sedis\", \"f__Glomerellaceae\"]}},\r\n",
      "\t\t{\"id\":\"OTU1265:13grass\", \"metadata\":{\"taxonomy\": [\"k__Fungi\", \"p__Ascomycota\", \"c__Sordariomycetes\", \"o__Incertae_sedis\", \"f__Glomerellaceae\"]}},\r\n",
      "\t\t{\"id\":\"OTU127:23grass\", \"metadata\":{\"taxonomy\": [\"k__Fungi\", \"p__Ascomycota\", \"c__Dothideomycetes\", \"o__Pleosporales\", \"f__Phaeosphaeriaceae\"]}},\r\n",
      "\t\t{\"id\":\"OTU1202:12grass\", \"metadata\":{\"taxonomy\": [\"k__Fungi\", \"p__Ascomycota\", \"c__Sordariomycetes\", \"o__Incertae_sedis\", \"f__Glomerellaceae\"]}},\r\n",
      "\t\t{\"id\":\"OTU27:5grass\", \"metadata\":{\"taxonomy\": [\"k__Fungi\", \"p__Ascomycota\", \"c__Dothideomycetes\", \"o__Pleosporales\", \"f__Phaeosphaeriaceae\", \"g__Neostagonospora\", \"s__Neostagonospora_caricis_SH208465.07FU\"]}},\r\n"
     ]
    }
   ],
   "source": [
    "# take another look at a row \n",
    "grep 'rows' -A 10 grass_otu_uclust_97_relab.biom "
   ]
  },
  {
   "cell_type": "code",
   "execution_count": 34,
   "metadata": {
    "collapsed": false,
    "deletable": true,
    "editable": true
   },
   "outputs": [
    {
     "name": "stdout",
     "output_type": "stream",
     "text": [
      "\t\"columns\":[\r\n",
      "\t\t{\"id\":\"5grass\", \"metadata\":null},\r\n",
      "\t\t{\"id\":\"6grass\", \"metadata\":null},\r\n",
      "\t\t{\"id\":\"7grass\", \"metadata\":null},\r\n",
      "\t\t{\"id\":\"8grass\", \"metadata\":null},\r\n",
      "\t\t{\"id\":\"9grass\", \"metadata\":null},\r\n",
      "\t\t{\"id\":\"10grass\", \"metadata\":null},\r\n",
      "\t\t{\"id\":\"11grass\", \"metadata\":null},\r\n",
      "\t\t{\"id\":\"12grass\", \"metadata\":null},\r\n",
      "\t\t{\"id\":\"13grass\", \"metadata\":null},\r\n",
      "\t\t{\"id\":\"14grass\", \"metadata\":null},\r\n"
     ]
    }
   ],
   "source": [
    "# and at columns\n",
    "grep 'columns' -A 10 grass_otu_uclust_97_relab.biom "
   ]
  },
  {
   "cell_type": "code",
   "execution_count": 35,
   "metadata": {
    "collapsed": false,
    "deletable": true,
    "editable": true
   },
   "outputs": [
    {
     "name": "stdout",
     "output_type": "stream",
     "text": [
      "Invalid format 'Biological Observation Matrix 1.0', must be '1.0.0'\r\n",
      "'id' in {'metadata': {'taxonomy': ['k__Fungi', 'p__Basidiomycota', 'c__Agaricomycetes', 'o__Agaricales', 'f__Inocybaceae', 'g__Crepidotus', 's__Crepidotus_calolepis_SH219445.07FU']}, 'id': ''} appears empty\r\n",
      "Bad value at idx 0: [0, 0, 39534]\r\n",
      "Timestamp does not appear to be ISO 8601\r\n",
      "The input file is not a valid BIOM-formatted file.\r\n"
     ]
    }
   ],
   "source": [
    "# command to test whether the biom table is in correct format for downstream applications\n",
    "biom validate-table -i grass_otu_uclust_97_relab.biom"
   ]
  },
  {
   "cell_type": "code",
   "execution_count": null,
   "metadata": {
    "collapsed": true,
    "deletable": true,
    "editable": true
   },
   "outputs": [],
   "source": [
    "# there are several small issues here - this also happened to Dan, where there was \n",
    "#1) an ID that was missing, 2) a 'bad value' at [0,0,11660], and the non-matching timestamp.\n",
    "#I don't really care about the time-stamp issue, so I'll look into the other two:\n"
   ]
  },
  {
   "cell_type": "code",
   "execution_count": 36,
   "metadata": {
    "collapsed": false,
    "deletable": true,
    "editable": true
   },
   "outputs": [
    {
     "name": "stdout",
     "output_type": "stream",
     "text": [
      "\t\t{\"id\":\"\", \"metadata\":{\"taxonomy\":\"d:Fungi(0.2002),p:Basidiomycota(0.0874),c:Agaricomycetes(0.0418),o:Agaricales(0.0220),f:Inocybaceae(0.0170),g:Crepidotus(0.0027),s:Crepidotus_calolepis_SH219445.07FU\"}},\r\n"
     ]
    }
   ],
   "source": [
    "# look for information on missing id\n",
    "grep '\"id\":\"\"' grass_otu_uclust_97.biom"
   ]
  },
  {
   "cell_type": "code",
   "execution_count": 37,
   "metadata": {
    "collapsed": false,
    "deletable": true,
    "editable": true
   },
   "outputs": [
    {
     "name": "stdout",
     "output_type": "stream",
     "text": []
    }
   ],
   "source": [
    "# find the associated otu in the otu assignment fasta file\n",
    "grep 'd:Fungi(0.6166),p:Ascomycota(0.2102),c:Eurotiomycetes(0.0703),o:Eurotiales(0.0428),f:Elaphomycetaceae(0.0339),g:Pseudotulostoma(0.0056)' otus_97_uclust_ass_tax.fasta "
   ]
  },
  {
   "cell_type": "code",
   "execution_count": null,
   "metadata": {
    "collapsed": true,
    "deletable": true,
    "editable": true
   },
   "outputs": [],
   "source": [
    "# its a bit odd that three otus had 1) the same confidence for each taxonomic level, and 2) such low confidence levels in general\n",
    "# as I saw when grepping the columns, position 0,0,11660 is from sample grass5, so I'll insert this otu (OTU697:5grass) in the empty assignment"
   ]
  },
  {
   "cell_type": "code",
   "execution_count": 38,
   "metadata": {
    "collapsed": false,
    "deletable": true,
    "editable": true
   },
   "outputs": [
    {
     "name": "stdout",
     "output_type": "stream",
     "text": []
    }
   ],
   "source": [
    "sed -i' ' '/\"id\":\"\"/ s/\"id\":\"\",/\"id\":\"5grass\",/' grass_otu_uclust_97_relab.biom"
   ]
  },
  {
   "cell_type": "code",
   "execution_count": 39,
   "metadata": {
    "collapsed": false,
    "deletable": true,
    "editable": true
   },
   "outputs": [
    {
     "name": "stdout",
     "output_type": "stream",
     "text": [
      "       0\r\n"
     ]
    }
   ],
   "source": [
    "grep '\"id\":\"\"' grass_otu_uclust_97_relab.biom | wc -l\n"
   ]
  },
  {
   "cell_type": "code",
   "execution_count": 40,
   "metadata": {
    "collapsed": false,
    "deletable": true,
    "editable": true
   },
   "outputs": [
    {
     "name": "stdout",
     "output_type": "stream",
     "text": [
      "Invalid format 'Biological Observation Matrix 1.0', must be '1.0.0'\r\n",
      "Bad value at idx 0: [0, 0, 39534]\r\n",
      "Timestamp does not appear to be ISO 8601\r\n",
      "The input file is not a valid BIOM-formatted file.\r\n"
     ]
    }
   ],
   "source": [
    "## check out the validate command agin\n",
    "biom validate-table -i grass_otu_uclust_97_relab.biom"
   ]
  },
  {
   "cell_type": "code",
   "execution_count": 42,
   "metadata": {
    "collapsed": false,
    "deletable": true,
    "editable": true
   },
   "outputs": [
    {
     "name": "stdout",
     "output_type": "stream",
     "text": [
      "\t\t{\"id\":\"159grass\", \"metadata\":null},\r\n",
      "\t\t{\"id\":\"160grass\", \"metadata\":null},\r\n",
      "\t\t{\"id\":\"161grass\", \"metadata\":null},\r\n",
      "\t\t{\"id\":\"162grass\", \"metadata\":null},\r\n",
      "\t\t{\"id\":\"163grass\", \"metadata\":null},\r\n",
      "\t\t{\"id\":\"255grass\", \"metadata\":null},\r\n",
      "\t\t{\"id\":\"256grass\", \"metadata\":null},\r\n",
      "\t\t{\"id\":\"257grass\", \"metadata\":null}\r\n",
      "\t],\r\n",
      "\t\"data\": [\r\n",
      "\t\t[0,0,39534],\r\n",
      "\t\t[0,1,12136],\r\n",
      "\t\t[0,2,6426],\r\n",
      "\t\t[0,3,17774],\r\n",
      "\t\t[0,4,11],\r\n",
      "\t\t[0,5,13],\r\n",
      "\t\t[0,6,13],\r\n",
      "\t\t[0,8,8],\r\n",
      "\t\t[0,9,9],\r\n",
      "\t\t[0,10,1],\r\n",
      "\t\t[0,11,7],\r\n"
     ]
    }
   ],
   "source": [
    "## lets see if we can get rid of the bad value\n",
    "grep \\\\[0,0,39534\\\\] -A 10 -B 10 grass_otu_uclust_97_relab.biom"
   ]
  },
  {
   "cell_type": "markdown",
   "metadata": {
    "deletable": true,
    "editable": true
   },
   "source": [
    "Not sure what the problem is..."
   ]
  },
  {
   "cell_type": "code",
   "execution_count": 43,
   "metadata": {
    "collapsed": false,
    "deletable": true,
    "editable": true
   },
   "outputs": [
    {
     "name": "stdout",
     "output_type": "stream",
     "text": [
      "Num samples: 162\r\n",
      "Num observations: 3881\r\n",
      "Total count: 9388226\r\n",
      "Table density (fraction of non-zero values): 0.058\r\n",
      "\r\n",
      "Counts/sample summary:\r\n",
      " Min: 1745.0\r\n",
      " Max: 111141.0\r\n",
      " Median: 60985.500\r\n",
      " Mean: 57952.012\r\n",
      " Std. dev.: 20558.843\r\n",
      " Sample Metadata Categories: None provided\r\n",
      " Observation Metadata Categories: taxonomy\r\n",
      "\r\n",
      "Counts/sample detail:\r\n",
      "255grass: 1745.0\r\n",
      "16grass: 7101.0\r\n",
      "11grass: 10084.0\r\n",
      "10grass: 12928.0\r\n",
      "15grass: 14654.0\r\n",
      "14grass: 14871.0\r\n",
      "163grass: 17788.0\r\n",
      "154grass: 18483.0\r\n",
      "131grass: 21487.0\r\n",
      "47grass: 22870.0\r\n",
      "9grass: 23698.0\r\n",
      "52grass: 23988.0\r\n",
      "153grass: 24041.0\r\n",
      "51grass: 25215.0\r\n",
      "107grass: 27658.0\r\n",
      "130grass: 27948.0\r\n",
      "142grass: 28050.0\r\n",
      "12grass: 29453.0\r\n",
      "49grass: 29483.0\r\n",
      "46grass: 29654.0\r\n",
      "23grass: 30332.0\r\n",
      "127grass: 33575.0\r\n",
      "13grass: 33746.0\r\n",
      "35grass: 34619.0\r\n",
      "95grass: 34856.0\r\n",
      "106grass: 35863.0\r\n",
      "119grass: 37771.0\r\n",
      "90grass: 38554.0\r\n",
      "22grass: 38674.0\r\n",
      "50grass: 38715.0\r\n",
      "71grass: 39217.0\r\n",
      "73grass: 39698.0\r\n",
      "125grass: 39924.0\r\n",
      "129grass: 40718.0\r\n",
      "76grass: 40747.0\r\n",
      "34grass: 44080.0\r\n",
      "126grass: 44526.0\r\n",
      "162grass: 45174.0\r\n",
      "94grass: 45270.0\r\n",
      "136grass: 45340.0\r\n",
      "83grass: 45538.0\r\n",
      "59grass: 45538.0\r\n",
      "75grass: 46538.0\r\n",
      "132grass: 46973.0\r\n",
      "41grass: 47104.0\r\n",
      "257grass: 48066.0\r\n",
      "86grass: 48181.0\r\n",
      "43grass: 48407.0\r\n",
      "32grass: 48890.0\r\n",
      "118grass: 49106.0\r\n",
      "152grass: 49347.0\r\n",
      "100grass: 49988.0\r\n",
      "70grass: 50439.0\r\n",
      "121grass: 51261.0\r\n",
      "72grass: 51399.0\r\n",
      "134grass: 51467.0\r\n",
      "78grass: 51588.0\r\n",
      "145grass: 52504.0\r\n",
      "74grass: 52619.0\r\n",
      "122grass: 52867.0\r\n",
      "133grass: 53170.0\r\n",
      "39grass: 53181.0\r\n",
      "68grass: 53323.0\r\n",
      "87grass: 53824.0\r\n",
      "37grass: 54106.0\r\n",
      "161grass: 54218.0\r\n",
      "31grass: 54333.0\r\n",
      "40grass: 57336.0\r\n",
      "98grass: 57704.0\r\n",
      "82grass: 57733.0\r\n",
      "144grass: 58125.0\r\n",
      "128grass: 58130.0\r\n",
      "48grass: 58145.0\r\n",
      "140grass: 58486.0\r\n",
      "146grass: 58517.0\r\n",
      "58grass: 58564.0\r\n",
      "42grass: 58915.0\r\n",
      "93grass: 58998.0\r\n",
      "135grass: 60102.0\r\n",
      "60grass: 60381.0\r\n",
      "79grass: 60819.0\r\n",
      "124grass: 61152.0\r\n",
      "149grass: 61331.0\r\n",
      "67grass: 61397.0\r\n",
      "29grass: 61444.0\r\n",
      "155grass: 61847.0\r\n",
      "138grass: 62437.0\r\n",
      "92grass: 62715.0\r\n",
      "102grass: 62737.0\r\n",
      "30grass: 63454.0\r\n",
      "88grass: 63503.0\r\n",
      "157grass: 63743.0\r\n",
      "19grass: 63896.0\r\n",
      "66grass: 64164.0\r\n",
      "114grass: 64238.0\r\n",
      "141grass: 64562.0\r\n",
      "151grass: 64686.0\r\n",
      "18grass: 64800.0\r\n",
      "112grass: 65289.0\r\n",
      "33grass: 65442.0\r\n",
      "156grass: 66050.0\r\n",
      "84grass: 66163.0\r\n",
      "137grass: 67188.0\r\n",
      "65grass: 67234.0\r\n",
      "61grass: 67772.0\r\n",
      "6grass: 67974.0\r\n",
      "148grass: 68073.0\r\n",
      "110grass: 68203.0\r\n",
      "105grass: 68404.0\r\n",
      "103grass: 68977.0\r\n",
      "147grass: 69022.0\r\n",
      "143grass: 69146.0\r\n",
      "116grass: 70217.0\r\n",
      "44grass: 70391.0\r\n",
      "159grass: 70475.0\r\n",
      "108grass: 70923.0\r\n",
      "62grass: 70961.0\r\n",
      "109grass: 70967.0\r\n",
      "104grass: 71190.0\r\n",
      "160grass: 71462.0\r\n",
      "256grass: 72017.0\r\n",
      "115grass: 72018.0\r\n",
      "123grass: 72050.0\r\n",
      "7grass: 72216.0\r\n",
      "139grass: 72219.0\r\n",
      "150grass: 72329.0\r\n",
      "80grass: 72867.0\r\n",
      "158grass: 73119.0\r\n",
      "97grass: 73319.0\r\n",
      "8grass: 73381.0\r\n",
      "120grass: 73414.0\r\n",
      "117grass: 73600.0\r\n",
      "63grass: 74705.0\r\n",
      "20grass: 75390.0\r\n",
      "85grass: 75724.0\r\n",
      "24grass: 76172.0\r\n",
      "81grass: 77556.0\r\n",
      "56grass: 77742.0\r\n",
      "111grass: 78393.0\r\n",
      "38grass: 78862.0\r\n",
      "91grass: 79082.0\r\n",
      "54grass: 79233.0\r\n",
      "96grass: 79505.0\r\n",
      "113grass: 80222.0\r\n",
      "45grass: 81778.0\r\n",
      "53grass: 82143.0\r\n",
      "57grass: 82360.0\r\n",
      "55grass: 83921.0\r\n",
      "69grass: 84191.0\r\n",
      "101grass: 84294.0\r\n",
      "89grass: 84599.0\r\n",
      "21grass: 85850.0\r\n",
      "64grass: 87134.0\r\n",
      "99grass: 88470.0\r\n",
      "26grass: 90790.0\r\n",
      "36grass: 91356.0\r\n",
      "77grass: 93318.0\r\n",
      "25grass: 93691.0\r\n",
      "27grass: 95316.0\r\n",
      "28grass: 98540.0\r\n",
      "17grass: 102042.0\r\n",
      "5grass: 111141.0\r\n"
     ]
    }
   ],
   "source": [
    "# command to look at sumary of biom table\n",
    "biom summarize-table -i grass_otu_uclust_97_relab.biom"
   ]
  },
  {
   "cell_type": "markdown",
   "metadata": {
    "deletable": true,
    "editable": true
   },
   "source": [
    "## add sample name metadata to .97 biome table"
   ]
  },
  {
   "cell_type": "code",
   "execution_count": 3,
   "metadata": {
    "collapsed": false,
    "deletable": true,
    "editable": true
   },
   "outputs": [
    {
     "name": "stdout",
     "output_type": "stream",
     "text": [
      "#SampleID,SampleName\r",
      "\r\n",
      "5grass,Fr_FF_1\r",
      "\r\n",
      "6grass,Fr_FF_2\r",
      "\r\n",
      "7grass,Fr_FF_3\r",
      "\r\n",
      "8grass,Fr_FF_4\r",
      "\r\n",
      "9grass,Fr_FF_5\r",
      "\r\n",
      "10grass,Fr_FF_6\r",
      "\r\n",
      "11grass,Fr_FF_7\r",
      "\r\n",
      "12grass,Fr_FF_8\r",
      "\r\n",
      "13grass,Fr_FF_9\r",
      "\r\n"
     ]
    }
   ],
   "source": [
    "# I've created a csv file which contains the sample Id and names.  I converted this into a tab-delimited file (.txt),\n",
    "# which I used to add metadata.  for some reason the notebook won't print the contents, but if finally worked\n",
    "head biom_sample_metadata"
   ]
  },
  {
   "cell_type": "code",
   "execution_count": 2,
   "metadata": {
    "collapsed": false,
    "deletable": true,
    "editable": true
   },
   "outputs": [
    {
     "name": "stdout",
     "output_type": "stream",
     "text": []
    }
   ],
   "source": [
    "biom add-metadata -i grass_otu_uclust_97_relab.biom -o grass_97_wmeta.biom -m meta_data.txt --output-as-json"
   ]
  },
  {
   "cell_type": "code",
   "execution_count": 3,
   "metadata": {
    "collapsed": false,
    "deletable": true,
    "editable": true
   },
   "outputs": [
    {
     "name": "stdout",
     "output_type": "stream",
     "text": [
      "\r\n",
      "The input file is a valid BIOM-formatted file.\r\n"
     ]
    }
   ],
   "source": [
    "biom validate-table -i grass_97_wmeta.biom"
   ]
  },
  {
   "cell_type": "markdown",
   "metadata": {
    "collapsed": true,
    "deletable": true,
    "editable": true
   },
   "source": [
    "# Exploration of Biome table\n",
    "\n",
    "## \n",
    "\n",
    "I'll be using R to do most of the exploration.  I haven't taken the time to fix the install of R into the jupyter notebook, so I've made an accompanying R document to work through my exploration.  /Users/grahambailes/grass_endophyte_community/statistics/grass_97_biom.r\n",
    "\n"
   ]
  },
  {
   "cell_type": "markdown",
   "metadata": {
    "deletable": true,
    "editable": true
   },
   "source": [
    "## convert .biom format into .txt \n",
    "\n",
    "It may be usefull to perform certain actions on the biom table outside of the R package phyloseq, and therefore I have decided to create a .txt version of my biom table.  These applications include species accumulation cureves, the use of the FUNGuild tool (https://github.com/UMNFuN/FUNGuild), etc.\n"
   ]
  },
  {
   "cell_type": "code",
   "execution_count": 4,
   "metadata": {
    "collapsed": false,
    "deletable": true,
    "editable": true
   },
   "outputs": [
    {
     "name": "stdout",
     "output_type": "stream",
     "text": []
    }
   ],
   "source": [
    "## use QIIME tool to convert from .biom to .txt\n",
    "## this is the .biom which I created through this pipeline.  \n",
    "## At this point in time, I haven't done any variance stabilization methods, so this will be an exploration\n",
    "## of the tools I wish to use.\n",
    "## note - this is an otu table that was created prior to variance stabalization.\n",
    "\n",
    "biom convert -i grass_97_wmeta.biom -o 97_otu_table.txt --to-tsv --header-key taxonomy"
   ]
  },
  {
   "cell_type": "code",
   "execution_count": 3,
   "metadata": {
    "collapsed": false,
    "deletable": true,
    "editable": true
   },
   "outputs": [
    {
     "name": "stdout",
     "output_type": "stream",
     "text": [
      "Traceback (most recent call last):\r\n",
      "  File \"/usr/local/lib/miniconda3/bin/biom\", line 11, in <module>\r\n",
      "    sys.exit(cli())\r\n",
      "  File \"/usr/local/lib/miniconda3/lib/python3.5/site-packages/click/core.py\", line 716, in __call__\r\n",
      "    return self.main(*args, **kwargs)\r\n",
      "  File \"/usr/local/lib/miniconda3/lib/python3.5/site-packages/click/core.py\", line 696, in main\r\n",
      "    rv = self.invoke(ctx)\r\n",
      "  File \"/usr/local/lib/miniconda3/lib/python3.5/site-packages/click/core.py\", line 1060, in invoke\r\n",
      "    return _process_result(sub_ctx.command.invoke(sub_ctx))\r\n",
      "  File \"/usr/local/lib/miniconda3/lib/python3.5/site-packages/click/core.py\", line 889, in invoke\r\n",
      "    return ctx.invoke(self.callback, **ctx.params)\r\n",
      "  File \"/usr/local/lib/miniconda3/lib/python3.5/site-packages/click/core.py\", line 534, in invoke\r\n",
      "    return callback(*args, **kwargs)\r\n",
      "  File \"/usr/local/lib/miniconda3/lib/python3.5/site-packages/biom/cli/table_converter.py\", line 114, in convert\r\n",
      "    table = load_table(input_fp)\r\n",
      "  File \"/usr/local/lib/miniconda3/lib/python3.5/site-packages/biom/parse.py\", line 654, in load_table\r\n",
      "    table = parse_biom_table(fp)\r\n",
      "  File \"/usr/local/lib/miniconda3/lib/python3.5/site-packages/biom/parse.py\", line 405, in parse_biom_table\r\n",
      "    t = Table.from_json(json.load(fp), input_is_dense=input_is_dense)\r\n",
      "  File \"/usr/local/lib/miniconda3/lib/python3.5/site-packages/biom/table.py\", line 3668, in from_json\r\n",
      "    sample_ids = [col['id'] for col in json_table['columns']]\r\n",
      "KeyError: 'columns'\r\n"
     ]
    }
   ],
   "source": [
    "#Okay, I'll create an otu table from the variance stabalized biom (entitled grass_biom_vs)\n",
    "biom convert -i grass_biom_vs.biom -o 97_otu_table_vs.txt --to-tsv --header-key taxonomy"
   ]
  },
  {
   "cell_type": "markdown",
   "metadata": {
    "deletable": true,
    "editable": true
   },
   "source": [
    "## Using FUNGuild\n",
    "\n",
    "### so far as I understand, funguild was created by some of the big names in fungal community ecology in order to \n",
    "### meet the demand for a functional representation of OTUs within a community.  This has been a major hurdle for the field, since it is widley accepted that microfungi will often switch functional groups within a plant dependent upon environmental conditions, host identity, host health, etc (\n",
    "\n",
    "### It should be noted that the software is designed to create functional assignments at the Genus level.  It seems that this assignment is based upon a citation from the literature.  As such, the assignment may or may not represent the true functional nature of the organism.  However, at this time it may still be worthwile to include such information.  Without the aid of metatranscriptomics, it may not be possible to assign an OTU to a specific functional class.\n",
    "\n"
   ]
  },
  {
   "cell_type": "code",
   "execution_count": null,
   "metadata": {
    "collapsed": true,
    "deletable": true,
    "editable": true
   },
   "outputs": [],
   "source": [
    "## haven't gotten this to work since I created a new biom table... 12/11/16\n",
    "## update 2/6/17 - looks like the taxonomy header for my otu table is the problem - when the biom table is converted into a text document, \n",
    "## the taxonomy appears as distinct headers, whereas the python script requires a header as 'taxonomy'\n",
    "## to be proporly formatted.  This is the reason why taxonomy was undefined in the error message - we'll try it again!"
   ]
  },
  {
   "cell_type": "code",
   "execution_count": 3,
   "metadata": {
    "collapsed": false,
    "deletable": true,
    "editable": true
   },
   "outputs": [
    {
     "name": "stdout",
     "output_type": "stream",
     "text": []
    }
   ],
   "source": [
    "## I'm trying to figure out whether the script was designed to work with python 2 or 3.   \n",
    "# python 2 I will need a different shebang line:  #! /usr/local/env python2.7\n",
    "# python 3:  #! /usr/bin/env python3\n",
    "# then again, perhaps by adding the prefix 'python' to the command, the sheband is unnessesary.\n",
    "\n",
    "## command to create Guild classification:\n",
    "#/usr/local/env python2.7\n",
    "## to make the script work, I needed to conver the otu_table.txt file into a csv\n",
    "python2.7 funguild_v1.0.py -otu /Users/grahambailes/grass_endophyte_community/alt_biom/grass_biom_vs_fun.csv -db fungi -m -u\n",
    "\n",
    "## parameters:\n",
    "##    -otu: required. specify path of otu.txt file \n",
    "##    -db: optional.  Choose between fungal (default) and nematode databases\n",
    "##    -m: optional.  return an additional file containing only otus that have been assigned a function. output sufix _assigned/.txt\n",
    "##    -u: optional.  Return an additional file containing OTUs that were unassigned.  output sufix _unassigned.txt\n",
    "## The output file from this command will be labled '97_otu_table.function' "
   ]
  },
  {
   "cell_type": "markdown",
   "metadata": {
    "collapsed": true,
    "deletable": true,
    "editable": true
   },
   "source": [
    "grahambailes[d93-160:alt_biom]$ python2.7 funguild_v1.0.py -otu /Users/grahambailes/grass_endophyte_community/alt_biom/grass_biom_vs_fun.csv -db fungi -m -u\n",
    "FunGuild v1.0 Beta\n",
    "Downloading fungi database ...\n",
    "\n",
    "Reading in the OTU table: '/Users/grahambailes/grass_endophyte_community/alt_biom/grass_biom_vs_fun.csv'\n",
    "\n",
    "Searching the FUNGuild database...\n",
    "10%\n",
    "20%\n",
    "30%\n",
    "40%\n",
    "50%\n",
    "60%\n",
    "70%\n",
    "80%\n",
    "90%\n",
    "100%\n",
    "\n",
    "Found 29640 matching taxonomy records in the database.\n",
    "Dereplicating and sorting the result...\n",
    "FunGuild tried to assign function to 3093 OTUs in '/Users/grahambailes/grass_endophyte_community/alt_biom/grass_biom_vs_fun.csv'.\n",
    "FUNGuild made assignments on 1868 OTUs.\n",
    "Result saved to '/Users/grahambailes/grass_endophyte_community/alt_biom/grass_biom_vs_fun.guilds.txt'\n",
    "\n",
    "Additional output:\n",
    "FUNGuild made assignments on 1868 OTUs, these have been saved to /Users/grahambailes/grass_endophyte_community/alt_biom/grass_biom_vs_fun.guilds_matched.txt.\n",
    "1225 OTUs were unassigned, these are saved to /Users/grahambailes/grass_endophyte_community/alt_biom/grass_biom_vs_fun.guilds_unmatched.txt.\n",
    "\n",
    "Total calculating time: 194.19 seconds."
   ]
  },
  {
   "cell_type": "markdown",
   "metadata": {
    "deletable": true,
    "editable": true
   },
   "source": [
    "### okay, so The program matched about 61% of my OTUs (1868 of 3093) with some level of functional assignment.  The script returned 1) my original biom.txt file with appended functions, 2) a file containing only those OTUs assigned, and 3) a file containing OTUs that were not assigned.  \n",
    "\n",
    "### a few notes on \n",
    "#### confidence:  The authors note that for the most part, assignment confidence is based upon the primary literature.  these often receive the highest ranking ('highly probably').  Otherwize, the ranking comes from authoritative websites or personal experience from the authors.  There is however one large caviate:  Many fungi can belong to multiple functional guilds, dependent upon life stage, environment, host, etc.  In these cases, the ranking was reduced to possible, to reflect the uncertainty given the taxonomy alone."
   ]
  },
  {
   "cell_type": "markdown",
   "metadata": {
    "deletable": true,
    "editable": true
   },
   "source": [
    "## a little frustration continues - The way I set up my taxonomy may have accidentially created a new line break every other line, making the fine unreadable in r.  \n",
    "\n",
    "I needed to find a way to remove the linebreak, and merge the lines which were now seperated.\n",
    "After much trial and error, I came upon the sed command:\n",
    "\n",
    "sed 'N;s/\\n/ /'  grass_biom_vs_fun.guilds_matched-2.txt > grass_biom_vs_funguilds_matched.txt\n",
    "\n",
    "essentially, the command merges line 1&2, 3&4, 5&6, ect, and removes the line break that was accidentially inserted.  As such, I needed to remove the header (line one), and re-insert it later.  I fed sed my misbehaving file, and asked it to write a new one with the correct formating.\n",
    "\n",
    "remember, sed is a great, versitile tool!"
   ]
  },
  {
   "cell_type": "code",
   "execution_count": null,
   "metadata": {
    "collapsed": true,
    "deletable": true,
    "editable": true
   },
   "outputs": [],
   "source": [
    "## at this point, I'm going to import the assigned OTU table into R to have a look - the plan is to exclude those species below the confidence of probable\n",
    "## to eventually describe community functional differences among sites."
   ]
  }
 ],
 "metadata": {
  "kernelspec": {
   "display_name": "Bash",
   "language": "bash",
   "name": "bash"
  },
  "language_info": {
   "codemirror_mode": "shell",
   "file_extension": ".sh",
   "mimetype": "text/x-sh",
   "name": "bash"
  }
 },
 "nbformat": 4,
 "nbformat_minor": 0
}
